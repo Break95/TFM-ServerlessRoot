{
 "cells": [
  {
   "cell_type": "code",
   "execution_count": 2,
   "id": "f31bab8e",
   "metadata": {},
   "outputs": [],
   "source": [
    "using namespace ROOT;"
   ]
  },
  {
   "cell_type": "code",
   "execution_count": 13,
   "id": "ddd2d398",
   "metadata": {},
   "outputs": [],
   "source": [
    "RDataFrame d(100); // an RDF that will generate 100 entries (currently empty)\n",
    "int x = -1;\n",
    "auto d_with_columns = d.Define(\"x\", [&x] { return ++x; })\n",
    "                       .Define(\"y\", [&x] { return x+2; });\n",
    "d_with_columns.Snapshot(\"myNewTree\", \"newfile.root\");"
   ]
  },
  {
   "cell_type": "code",
   "execution_count": 14,
   "id": "24cc934e",
   "metadata": {},
   "outputs": [],
   "source": [
    "auto sqrtSum = [](double x, double y) { return sqrt(x*x + y*y); };\n",
    "auto zMean = d.Define(\"z\", sqrtSum, {\"x\",\"y\"}).Mean(\"z\");\n"
   ]
  },
  {
   "cell_type": "code",
   "execution_count": 15,
   "id": "441c62d6",
   "metadata": {},
   "outputs": [],
   "source": [
    "std::cout << *zMean << std::endl;"
   ]
  },
  {
   "cell_type": "code",
   "execution_count": 17,
   "id": "d14284ef",
   "metadata": {},
   "outputs": [],
   "source": [
    "auto h1 = d.Filter(\"x > 3\").Histo1D(\"asd\");\n",
    "h1->Draw();"
   ]
  },
  {
   "cell_type": "code",
   "execution_count": null,
   "id": "63ebdca5",
   "metadata": {},
   "outputs": [],
   "source": []
  }
 ],
 "metadata": {
  "kernelspec": {
   "display_name": "ROOT C++",
   "language": "c++",
   "name": "root"
  },
  "language_info": {
   "codemirror_mode": "text/x-c++src",
   "file_extension": ".C",
   "mimetype": " text/x-c++src",
   "name": "c++"
  }
 },
 "nbformat": 4,
 "nbformat_minor": 5
}
