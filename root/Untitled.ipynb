{
 "cells": [
  {
   "cell_type": "code",
   "execution_count": 3,
   "id": "fab7d685",
   "metadata": {},
   "outputs": [
    {
     "name": "stdout",
     "output_type": "stream",
     "text": [
      "+-----+---+-----------+-----------+\n",
      "| Row | x | y         | z         | \n",
      "+-----+---+-----------+-----------+\n",
      "| 0   | 1 | 4.0000000 | 5.0000000 | \n",
      "+-----+---+-----------+-----------+\n",
      "| 1   | 2 | 5.0000000 | 7.0000000 | \n",
      "+-----+---+-----------+-----------+\n",
      "| 2   | 3 | 6.0000000 | 9.0000000 | \n",
      "+-----+---+-----------+-----------+\n"
     ]
    }
   ],
   "source": [
    "import ROOT\n",
    "import numpy as np\n",
    "\n",
    "x = np.array([1,2,3], dtype=np.int32)\n",
    "y = np.array([4,5,6], dtype=np.float64)\n",
    "\n",
    "df = ROOT.RDF.MakeNumpyDataFrame({'x':x , 'y':y})\n",
    "\n",
    "df = df.Define('z', 'x+y')\n",
    "\n",
    "df.Display().Print()\n"
   ]
  },
  {
   "cell_type": "code",
   "execution_count": 4,
   "id": "789afeca",
   "metadata": {},
   "outputs": [
    {
     "data": {
      "text/plain": [
       "<cppyy.gbl.ROOT.RDF.RResultPtr<ROOT::RDF::RInterface<ROOT::Detail::RDF::RLoopManager,void> > object at 0xe7deb50>"
      ]
     },
     "execution_count": 4,
     "metadata": {},
     "output_type": "execute_result"
    }
   ],
   "source": [
    "\n",
    "df.Snapshot('tree', 'df032_MakeNumpyDataFrame.root')"
   ]
  },
  {
   "cell_type": "code",
   "execution_count": null,
   "id": "56d018cd",
   "metadata": {},
   "outputs": [],
   "source": []
  }
 ],
 "metadata": {
  "kernelspec": {
   "display_name": "Python 3 (ipykernel)",
   "language": "python",
   "name": "python3"
  },
  "language_info": {
   "codemirror_mode": {
    "name": "ipython",
    "version": 3
   },
   "file_extension": ".py",
   "mimetype": "text/x-python",
   "name": "python",
   "nbconvert_exporter": "python",
   "pygments_lexer": "ipython3",
   "version": "3.9.7"
  }
 },
 "nbformat": 4,
 "nbformat_minor": 5
}
