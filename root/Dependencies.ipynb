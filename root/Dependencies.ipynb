{
 "cells": [
  {
   "cell_type": "code",
   "execution_count": 1,
   "id": "a2a4e91b",
   "metadata": {},
   "outputs": [
    {
     "name": "stdout",
     "output_type": "stream",
     "text": [
      "Welcome to JupyROOT 6.26/02\n"
     ]
    }
   ],
   "source": [
    "import ROOT"
   ]
  },
  {
   "cell_type": "code",
   "execution_count": 2,
   "id": "0962204b",
   "metadata": {},
   "outputs": [
    {
     "name": "stderr",
     "output_type": "stream",
     "text": [
      "Plugin No such file or directory loading sec.protocol libXrdSeckrb5-5.so\n"
     ]
    }
   ],
   "source": [
    "ROOT.ROOT.EnableImplicitMT()\n",
    "\n",
    "df =  ROOT.RDataFrame(\"Events\", \"root://eospublic.cern.ch//eos/opendata/cms/derived-data/AOD2NanoAODOutreachTool/Run2012BC_DoubleMuParked_Muons.root\")\n",
    "# For simplicity, select only events with exactly two muons and require opposite charge\n",
    "df_2mu = df.Filter(\"nMuon == 2\", \"Events with exactly two muons\")\n",
    "df_os = df_2mu.Filter(\"Muon_charge[0] != Muon_charge[1]\", \"Muons with opposite charge\")\n",
    " \n",
    "# Compute invariant mass of the dimuon system\n",
    "df_mass = df_os.Define(\"Dimuon_mass\", \"InvariantMass(Muon_pt, Muon_eta, Muon_phi, Muon_mass)\")\n",
    " \n",
    "# Make histogram of dimuon mass spectrum. Note how we can set titles and axis labels in one go.\n",
    "h = df_mass.Histo1D((\"Dimuon_mass\", \"Dimuon mass;m_{#mu#mu} (GeV);N_{Events}\", 30000, 0.25, 300), \"Dimuon_mass\")\n",
    " "
   ]
  },
  {
   "cell_type": "code",
   "execution_count": 3,
   "id": "7d5f0ce1",
   "metadata": {},
   "outputs": [],
   "source": [
    "report = df_mass.Report()"
   ]
  },
  {
   "cell_type": "code",
   "execution_count": 4,
   "id": "f1314e40",
   "metadata": {},
   "outputs": [
    {
     "data": {
      "text/plain": [
       "Dataframe from TChain Events in file root://eospublic.cern.ch//eos/opendata/cms/derived-data/AOD2NanoAODOutreachTool/Run2012BC_DoubleMuParked_Muons.root\n",
       "\n",
       "Property                Value\n",
       "--------                -----\n",
       "Columns in total            6\n",
       "Columns from defines        0\n",
       "Event loops run             0\n",
       "Processing slots           16\n",
       "\n",
       "Column          Type                            Origin\n",
       "------          ----                            ------\n",
       "Muon_charge     ROOT::VecOps::RVec<Int_t>       Dataset\n",
       "Muon_eta        ROOT::VecOps::RVec<Float_t>     Dataset\n",
       "Muon_mass       ROOT::VecOps::RVec<Float_t>     Dataset\n",
       "Muon_phi        ROOT::VecOps::RVec<Float_t>     Dataset\n",
       "Muon_pt         ROOT::VecOps::RVec<Float_t>     Dataset\n",
       "nMuon           UInt_t                          Dataset"
      ]
     },
     "execution_count": 4,
     "metadata": {},
     "output_type": "execute_result"
    }
   ],
   "source": [
    "df.Describe()"
   ]
  },
  {
   "cell_type": "code",
   "execution_count": 5,
   "id": "636d9a3b",
   "metadata": {},
   "outputs": [
    {
     "name": "stdout",
     "output_type": "stream",
     "text": [
      "digraph {\n",
      "\t4 [label=\"Fill\", style=\"filled\", fillcolor=\"#9cbbe5\", shape=\"box\"];\n",
      "\t5 [label=\"Define\n",
      "Dimuon_mass\", style=\"filled\", fillcolor=\"#60aef3\", shape=\"oval\"];\n",
      "\t3 [label=\"Muons with opposite charge\", style=\"filled\", fillcolor=\"#c4cfd4\", shape=\"diamond\"];\n",
      "\t2 [label=\"Events with exactly two muons\", style=\"filled\", fillcolor=\"#c4cfd4\", shape=\"diamond\"];\n",
      "\t0 [label=\"Events\", style=\"filled\", fillcolor=\"#e8f8fc\", shape=\"oval\"];\n",
      "\t7 [label=\"Report\", style=\"filled\", fillcolor=\"#9cbbe5\", shape=\"box\"];\n",
      "\t5 -> 4;\n",
      "\t3 -> 5;\n",
      "\t2 -> 3;\n",
      "\t0 -> 2;\n",
      "\t5 -> 7;\n",
      "}\n"
     ]
    }
   ],
   "source": [
    "print(ROOT.RDF.SaveGraph(df))"
   ]
  },
  {
   "cell_type": "code",
   "execution_count": 6,
   "id": "0b0e570e",
   "metadata": {},
   "outputs": [
    {
     "name": "stderr",
     "output_type": "stream",
     "text": [
      "Info in <TCanvas::Print>: pdf file dimuon_spectrum.pdf has been created\n"
     ]
    }
   ],
   "source": [
    "# Produce plot\n",
    "ROOT.gStyle.SetOptStat(0); ROOT.gStyle.SetTextFont(42)\n",
    "c = ROOT.TCanvas(\"c\", \"\", 800, 700)\n",
    "c.SetLogx(); c.SetLogy()\n",
    " \n",
    "h.SetTitle(\"\")\n",
    "h.GetXaxis().SetTitleSize(0.04)\n",
    "h.GetYaxis().SetTitleSize(0.04)\n",
    "h.Draw()\n",
    " \n",
    "label = ROOT.TLatex(); label.SetNDC(True)\n",
    "label.DrawLatex(0.175, 0.740, \"#eta\")\n",
    "label.DrawLatex(0.205, 0.775, \"#rho,#omega\")\n",
    "label.DrawLatex(0.270, 0.740, \"#phi\")\n",
    "label.DrawLatex(0.400, 0.800, \"J/#psi\")\n",
    "label.DrawLatex(0.415, 0.670, \"#psi'\")\n",
    "label.DrawLatex(0.485, 0.700, \"Y(1,2,3S)\")\n",
    "label.DrawLatex(0.755, 0.680, \"Z\")\n",
    "label.SetTextSize(0.040); label.DrawLatex(0.100, 0.920, \"#bf{CMS Open Data}\")\n",
    "label.SetTextSize(0.030); label.DrawLatex(0.630, 0.920, \"#sqrt{s} = 8 TeV, L_{int} = 11.6 fb^{-1}\")\n",
    " \n",
    "c.SaveAs(\"dimuon_spectrum.pdf\")"
   ]
  },
  {
   "cell_type": "code",
   "execution_count": 7,
   "id": "11dfa246",
   "metadata": {},
   "outputs": [
    {
     "name": "stdout",
     "output_type": "stream",
     "text": [
      "Events with exactly two muons: pass=31104343   all=61540413   -- eff=50.54 % cumulative eff=50.54 %\n",
      "Muons with opposite charge: pass=24067843   all=31104343   -- eff=77.38 % cumulative eff=39.11 %\n"
     ]
    }
   ],
   "source": [
    "report.Print()"
   ]
  },
  {
   "cell_type": "code",
   "execution_count": null,
   "id": "3493aea8",
   "metadata": {},
   "outputs": [],
   "source": []
  }
 ],
 "metadata": {
  "kernelspec": {
   "display_name": "Python 3 (ipykernel)",
   "language": "python",
   "name": "python3"
  },
  "language_info": {
   "codemirror_mode": {
    "name": "ipython",
    "version": 3
   },
   "file_extension": ".py",
   "mimetype": "text/x-python",
   "name": "python",
   "nbconvert_exporter": "python",
   "pygments_lexer": "ipython3",
   "version": "3.8.10"
  }
 },
 "nbformat": 4,
 "nbformat_minor": 5
}
