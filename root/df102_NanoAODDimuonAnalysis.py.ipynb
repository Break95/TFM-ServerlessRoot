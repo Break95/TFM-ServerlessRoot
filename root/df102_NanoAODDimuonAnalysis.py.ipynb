{
 "cells": [
  {
   "cell_type": "code",
   "execution_count": 1,
   "id": "a00dfcc7",
   "metadata": {},
   "outputs": [
    {
     "name": "stdout",
     "output_type": "stream",
     "text": [
      "Welcome to JupyROOT 6.26/02\n"
     ]
    }
   ],
   "source": [
    "import ROOT\n",
    "\n",
    "ROOT.ROOT.EnableImplicitMT()"
   ]
  },
  {
   "cell_type": "code",
   "execution_count": 2,
   "id": "1bc0ce97",
   "metadata": {},
   "outputs": [],
   "source": [
    " \n",
    "# Create dataframe from NanoAOD files\n",
    "df = ROOT.RDataFrame(\"Events\", \"root://eospublic.cern.ch//eos/opendata/cms/derived-data/AOD2NanoAODOutreachTool/Run2012BC_DoubleMuParked_Muons.root\")"
   ]
  },
  {
   "cell_type": "code",
   "execution_count": 3,
   "id": "49f12f20",
   "metadata": {},
   "outputs": [
    {
     "name": "stderr",
     "output_type": "stream",
     "text": [
      "Plugin No such file or directory loading sec.protocol libXrdSeckrb5-5.so\n"
     ]
    }
   ],
   "source": [
    "# For simplicity, select only events with exactly two muons and require opposite charge\n",
    "df_2mu = df.Filter(\"nMuon == 2\", \"Events with exactly two muons\")\n",
    "df_os = df_2mu.Filter(\"Muon_charge[0] != Muon_charge[1]\", \"Muons with opposite charge\")"
   ]
  },
  {
   "cell_type": "code",
   "execution_count": 4,
   "id": "658b5a0b",
   "metadata": {},
   "outputs": [],
   "source": [
    "# Compute invariant mass of the dimuon system\n",
    "df_mass = df_os.Define(\"Dimuon_mass\", \"InvariantMass(Muon_pt, Muon_eta, Muon_phi, Muon_mass)\")"
   ]
  },
  {
   "cell_type": "code",
   "execution_count": 5,
   "id": "54481f5d",
   "metadata": {},
   "outputs": [],
   "source": [
    "# Make histogram of dimuon mass spectrum. Note how we can set titles and axis labels in one go.\n",
    "h = df_mass.Histo1D((\"Dimuon_mass\", \"Dimuon mass;m_{#mu#mu} (GeV);N_{Events}\", 30000, 0.25, 300), \"Dimuon_mass\")"
   ]
  },
  {
   "cell_type": "code",
   "execution_count": 6,
   "id": "264119e6",
   "metadata": {},
   "outputs": [],
   "source": [
    "# Request cut-flow report\n",
    "report = df_mass.Report()"
   ]
  },
  {
   "cell_type": "code",
   "execution_count": 7,
   "id": "dc43d75f",
   "metadata": {},
   "outputs": [
    {
     "name": "stderr",
     "output_type": "stream",
     "text": [
      "Info in <TCanvas::Print>: pdf file dimuon_spectrum.pdf has been created\n"
     ]
    }
   ],
   "source": [
    "# Produce plot\n",
    "ROOT.gStyle.SetOptStat(0); ROOT.gStyle.SetTextFont(42)\n",
    "c = ROOT.TCanvas(\"c\", \"\", 800, 700)\n",
    "c.SetLogx(); c.SetLogy()\n",
    " \n",
    "h.SetTitle(\"\")\n",
    "h.GetXaxis().SetTitleSize(0.04)\n",
    "h.GetYaxis().SetTitleSize(0.04)\n",
    "h.Draw()\n",
    " \n",
    "label = ROOT.TLatex(); label.SetNDC(True)\n",
    "label.DrawLatex(0.175, 0.740, \"#eta\")\n",
    "label.DrawLatex(0.205, 0.775, \"#rho,#omega\")\n",
    "label.DrawLatex(0.270, 0.740, \"#phi\")\n",
    "label.DrawLatex(0.400, 0.800, \"J/#psi\")\n",
    "label.DrawLatex(0.415, 0.670, \"#psi'\")\n",
    "label.DrawLatex(0.485, 0.700, \"Y(1,2,3S)\")\n",
    "label.DrawLatex(0.755, 0.680, \"Z\")\n",
    "label.SetTextSize(0.040); label.DrawLatex(0.100, 0.920, \"#bf{CMS Open Data}\")\n",
    "label.SetTextSize(0.030); label.DrawLatex(0.630, 0.920, \"#sqrt{s} = 8 TeV, L_{int} = 11.6 fb^{-1}\")\n",
    " \n",
    "c.SaveAs(\"dimuon_spectrum.pdf\")\n",
    " "
   ]
  },
  {
   "cell_type": "code",
   "execution_count": 8,
   "id": "5ed62ac7",
   "metadata": {},
   "outputs": [
    {
     "name": "stdout",
     "output_type": "stream",
     "text": [
      "Events with exactly two muons: pass=31104343   all=61540413   -- eff=50.54 % cumulative eff=50.54 %\n",
      "Muons with opposite charge: pass=24067843   all=31104343   -- eff=77.38 % cumulative eff=39.11 %\n"
     ]
    }
   ],
   "source": [
    "#Print cut-flow report\n",
    "report.Print()"
   ]
  },
  {
   "cell_type": "code",
   "execution_count": null,
   "id": "c066e54e",
   "metadata": {},
   "outputs": [],
   "source": []
  }
 ],
 "metadata": {
  "kernelspec": {
   "display_name": "Python 3 (ipykernel)",
   "language": "python",
   "name": "python3"
  },
  "language_info": {
   "codemirror_mode": {
    "name": "ipython",
    "version": 3
   },
   "file_extension": ".py",
   "mimetype": "text/x-python",
   "name": "python",
   "nbconvert_exporter": "python",
   "pygments_lexer": "ipython3",
   "version": "3.8.10"
  }
 },
 "nbformat": 4,
 "nbformat_minor": 5
}
