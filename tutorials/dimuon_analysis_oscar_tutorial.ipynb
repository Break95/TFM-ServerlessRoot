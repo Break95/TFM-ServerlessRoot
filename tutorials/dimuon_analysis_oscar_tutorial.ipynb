{
 "cells": [
  {
   "cell_type": "markdown",
   "id": "b0c2da2a",
   "metadata": {},
   "source": [
    "## Dimuon Analysis Tutorial"
   ]
  },
  {
   "cell_type": "code",
   "execution_count": null,
   "id": "ccbd28e5",
   "metadata": {},
   "outputs": [],
   "source": [
    "import ROOT\n",
    "import os\n",
    "RDataFrame = ROOT.RDF.Experimental.Distributed.OSCAR.RDataFrame\n",
    "\n",
    "oscarclient = {\n",
    "    \"minio_endpoint\": os.environ['minio_endpoint'],\n",
    "    \"minio_access\":   os.environ['minio_access'],\n",
    "    \"minio_secret\":   os.environ['minio_secret'],\n",
    "    \"oscar_endpoint\": os.environ['oscar_endpoint'],\n",
    "    \"oscar_access\":   os.environ['oscar_access'],\n",
    "    \"oscar_secret\":   os.environ['oscar_secret']\n",
    "}\n",
    "\n",
    "cern_data = \"root://eospublic.cern.ch//eos/opendata/cms/derived-data/AOD2NanoAODOutreachTool/Run2012BC_DoubleMuParked_Muons.root\""
   ]
  },
  {
   "cell_type": "code",
   "execution_count": null,
   "id": "f8037ee8",
   "metadata": {
    "scrolled": false
   },
   "outputs": [],
   "source": [
    "# Define funcion.\n",
    "def dimuon_analysis(df):\n",
    "    # For simplicity, select only events with exactly two muons and require opposite charge\n",
    "    df_2mu = df.Filter(\"nMuon == 2\", \"Events with exactly two muons\")\n",
    "    df_os = df_2mu.Filter(\"Muon_charge[0] != Muon_charge[1]\", \"Muons with opposite charge\")\n",
    "    \n",
    "    # Compute invariant mass of the dimuon system\n",
    "    df_mass = df_os.Define(\"Dimuon_mass\", \"InvariantMass(Muon_pt, Muon_eta, Muon_phi, Muon_mass)\")\n",
    "    \n",
    "    # Make histogram of dimuon mass spectrum. Note how we can set titles and axis labels in one go.\n",
    "    h = df_mass.Histo1D((\"Dimuon_mass\", \"Dimuon mass;m_{#mu#mu} (GeV);N_{Events}\", 30000, 0.25, 300), \"Dimuon_mass\")\n",
    "    \n",
    "    # Produce plot\n",
    "    ROOT.gStyle.SetOptStat(0); ROOT.gStyle.SetTextFont(42)\n",
    "    c = ROOT.TCanvas(\"c\", \"\", 800, 700)\n",
    "    c.SetLogx(); c.SetLogy()\n",
    "    \n",
    "    h.SetTitle(\"Title\")\n",
    "    h.GetXaxis().SetTitleSize(0.04)\n",
    "    h.GetYaxis().SetTitleSize(0.04)\n",
    "    h.Draw()\n",
    "    \n",
    "    label = ROOT.TLatex(); label.SetNDC(True)\n",
    "    label.DrawLatex(0.175, 0.740, \"#eta\")\n",
    "    label.DrawLatex(0.205, 0.775, \"#rho,#omega\")\n",
    "    label.DrawLatex(0.270, 0.740, \"#phi\")\n",
    "    label.DrawLatex(0.400, 0.800, \"J/#psi\")\n",
    "    label.DrawLatex(0.415, 0.670, \"#psi'\")\n",
    "    label.DrawLatex(0.485, 0.700, \"Y(1,2,3S)\")\n",
    "    label.DrawLatex(0.755, 0.680, \"Z\")\n",
    "    label.SetTextSize(0.040); label.DrawLatex(0.100, 0.920, \"#bf{CMS Open Data}\")\n",
    "    label.SetTextSize(0.030); label.DrawLatex(0.630, 0.920, \"#sqrt{s} = 8 TeV, L_{int} = 11.6 fb^{-1}\")\n",
    "    \n",
    "    c.SaveAs(f\"dimuon_spectrum.pdf\")"
   ]
  },
  {
   "cell_type": "code",
   "execution_count": null,
   "id": "3d0c0a0d",
   "metadata": {},
   "outputs": [],
   "source": [
    "# Tree Reduce Example\n",
    "\n",
    "# Create RDataFrame\n",
    "df = RDataFrame(\"Events\", cern_data, \n",
    "                oscarclient = oscarclient,\n",
    "                npartitions = 4)\n",
    "\n",
    "# Execute defined analysis\n",
    "dimuon_analysis(df)"
   ]
  },
  {
   "cell_type": "code",
   "execution_count": null,
   "id": "937aa367",
   "metadata": {},
   "outputs": [],
   "source": [
    "# Coordinated reduction Example\n",
    "\n",
    "# Setup coordinated reduction.\n",
    "oscarclient['backend'] = 'coord_reduce'\n",
    "oscarclient['reduction_phases'] = [2,3]\n",
    " \n",
    "# Create RDataFrame\n",
    "df = RDataFrame(\"Events\", cern_data, \n",
    "                oscarclient = oscarclient,\n",
    "                npartitions = 4)\n",
    "\n",
    "# Execute defined analysis\n",
    "dimuon_analysis(df)"
   ]
  },
  {
   "cell_type": "code",
   "execution_count": null,
   "id": "40b0401c",
   "metadata": {},
   "outputs": [],
   "source": [
    "# Benchmarking Example (can be done with either reduction backend)\n",
    "\n",
    "# Activate Benchmarking\n",
    "oscarclient['benchmarking'] = True\n",
    "\n",
    "# Create RDataFrame\n",
    "df = RDataFrame(\"Events\", cern_data, \n",
    "                oscarclient = oscarclient,\n",
    "                npartitions = 4)\n",
    "\n",
    "# Execute defined analysis\n",
    "dimuon_analysis(df)"
   ]
  }
 ],
 "metadata": {
  "kernelspec": {
   "display_name": "Python 3 (ipykernel)",
   "language": "python",
   "name": "python3"
  },
  "language_info": {
   "codemirror_mode": {
    "name": "ipython",
    "version": 3
   },
   "file_extension": ".py",
   "mimetype": "text/x-python",
   "name": "python",
   "nbconvert_exporter": "python",
   "pygments_lexer": "ipython3",
   "version": "3.10.6"
  }
 },
 "nbformat": 4,
 "nbformat_minor": 5
}
