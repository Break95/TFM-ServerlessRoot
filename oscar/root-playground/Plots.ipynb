{
 "cells": [
  {
   "cell_type": "markdown",
   "id": "35de087a",
   "metadata": {},
   "source": [
    "# Results"
   ]
  },
  {
   "cell_type": "code",
   "execution_count": null,
   "id": "500158cc",
   "metadata": {},
   "outputs": [],
   "source": [
    "import os\n",
    "import csv\n",
    "import sys\n",
    "import pandas as pd\n",
    "import plotly.graph_objects as go\n",
    "from plotly.subplots import make_subplots\n",
    "import statistics"
   ]
  },
  {
   "cell_type": "markdown",
   "id": "267c9ff6",
   "metadata": {},
   "source": [
    "## MINIO Data"
   ]
  },
  {
   "cell_type": "code",
   "execution_count": null,
   "id": "13523e91",
   "metadata": {},
   "outputs": [],
   "source": [
    "csvs = [file_name.split('_') for file_name in os.listdir('MinioData') if file_name.endswith('.csv')]\n",
    "times = {}\n",
    "\n",
    "#for item in csvs:\n",
    "tmp = pd.read_csv(f'264285c4-098b-433f-90ae-e6c91eb68716_usage.csv', delimiter='|')\n",
    "tmp = tmp[tmp['function'] ==  'mapper']\n",
    "\n",
    "tmp_time = []\n",
    "times['16'] = []\n",
    "for elem in pd.unique(tmp['id']):\n",
    "    tmp2 = tmp[tmp['id'] == elem]\n",
    "    mapper_time = float(tmp2['time'].iloc[[-1]].values[0]) - float(tmp2['time'].iloc[[0]].values[0]) \n",
    "    tmp_time.append(mapper_time)\n",
    "    times['16'].append(tmp2['time'].iloc[[-1]].values[0] - tmp2['time'].iloc[[0]].values[0])\n",
    "\n",
    "print(f'Job: 16. Average Time: {sum(tmp_time)/len(tmp_time)} - Median: {statistics.median(tmp_time)}')"
   ]
  },
  {
   "cell_type": "code",
   "execution_count": null,
   "id": "b6a709a6",
   "metadata": {},
   "outputs": [],
   "source": [
    "# Box Plot\n",
    "bp = go.Figure()\n",
    "\n",
    "for k in sorted(times, key=int):\n",
    "    bp.add_trace(go.Box(y=times[k], name=f'Job {k}', boxpoints='all'))\n",
    "\n",
    "bp.show()"
   ]
  },
  {
   "cell_type": "code",
   "execution_count": null,
   "id": "3f43f9c4",
   "metadata": {},
   "outputs": [],
   "source": [
    "df = pd.read_csv('264285c4-098b-433f-90ae-e6c91eb68716_usage.csv' , delimiter='|')\n",
    "\n",
    "mappers = df[df['function'] == 'mapper']\n",
    "\n",
    "cpu_figs = make_subplots(rows=2, cols=2, \n",
    "                         subplot_titles = ['Mapper 0','Mapper 7','Mapper 8','Mapper 12'],\n",
    "                         x_title='Time (s)', y_title='CPU Usage (%)')\n",
    "        \n",
    "mem_figs = make_subplots(rows=2, cols=2, \n",
    "                         subplot_titles = ['Mapper 0','Mapper 1','Mapper 2','Mapper 3'],\n",
    "                         x_title='Time (s)', y_title='Memory Usage (%)')\n",
    "row = 1\n",
    "col = 1\n",
    "\n",
    "\n",
    "for id in ['0_0', '7_7', '8_8', '12_12']:\n",
    "    mapper_data = mappers[mappers['id'] == id]\n",
    "    \n",
    "    cpu_figs.add_trace(\n",
    "        go.Scatter(x=mapper_data['time'],\n",
    "                   y=mapper_data['cpu_percent'],\n",
    "                   showlegend=False),\n",
    "        row=row, col=col\n",
    "    )\n",
    "    \n",
    "    mem_figs.add_trace(\n",
    "        go.Scatter(x=mapper_data['time'],\n",
    "                   y=mapper_data['mem_percent'],\n",
    "                   showlegend=False),\n",
    "        row=row, col=col\n",
    "    )\n",
    "    \n",
    "    col += 1\n",
    "    if col > 2:\n",
    "        col = 1\n",
    "        row +=1\n",
    "cpu_figs.show()\n",
    "#mem_figs.show()"
   ]
  },
  {
   "cell_type": "code",
   "execution_count": null,
   "id": "edde6ca2",
   "metadata": {
    "scrolled": true
   },
   "outputs": [],
   "source": [
    "df2 = pd.read_csv('264285c4-098b-433f-90ae-e6c91eb68716_process.csv' , delimiter='|')\n",
    "df2 = df2[df2['function'] == 'mapper']\n",
    "cols = ['function', 'id', 'phase', 'node'] + [col_name for col_name in df2 if col_name.startswith('ctx_') ]\n",
    "df_ctx = df2[cols]\n",
    "df_ctx = df_ctx[df_ctx['phase'] == 'end']\n",
    "df_ctx.sort_values('ctx_involuntary')"
   ]
  },
  {
   "cell_type": "markdown",
   "id": "258b54db",
   "metadata": {},
   "source": [
    "## CERN Data"
   ]
  },
  {
   "cell_type": "code",
   "execution_count": null,
   "id": "3551468b",
   "metadata": {},
   "outputs": [],
   "source": []
  },
  {
   "cell_type": "code",
   "execution_count": null,
   "id": "44394af9",
   "metadata": {},
   "outputs": [],
   "source": []
  },
  {
   "cell_type": "markdown",
   "id": "8d3b0495",
   "metadata": {},
   "source": [
    "## Local Data"
   ]
  },
  {
   "cell_type": "code",
   "execution_count": null,
   "id": "e555370c",
   "metadata": {},
   "outputs": [],
   "source": []
  }
 ],
 "metadata": {
  "kernelspec": {
   "display_name": "Python 3 (ipykernel)",
   "language": "python",
   "name": "python3"
  },
  "language_info": {
   "codemirror_mode": {
    "name": "ipython",
    "version": 3
   },
   "file_extension": ".py",
   "mimetype": "text/x-python",
   "name": "python",
   "nbconvert_exporter": "python",
   "pygments_lexer": "ipython3",
   "version": "3.10.4"
  }
 },
 "nbformat": 4,
 "nbformat_minor": 5
}
