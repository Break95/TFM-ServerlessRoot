{
 "cells": [
  {
   "cell_type": "markdown",
   "id": "632d1313",
   "metadata": {},
   "source": [
    "### Basic Example"
   ]
  },
  {
   "cell_type": "code",
   "execution_count": null,
   "id": "6b015077",
   "metadata": {},
   "outputs": [],
   "source": [
    "# import marshal\n",
    "import requests # Send post to trigger function in OSCAR.\n",
    "import json     # To generate the post payload.\n",
    "import inspect  # To get source code as string."
   ]
  },
  {
   "cell_type": "code",
   "execution_count": null,
   "id": "fde49f58",
   "metadata": {},
   "outputs": [],
   "source": [
    "# Code to be executed.\n",
    "def func_payload():\n",
    "    import ROOT\n",
    "    import os       \n",
    "    from datetime import datetime\n",
    "\n",
    "    df = ROOT.RDataFrame(1000)\n",
    " \n",
    "    # Set the random seed and define two columns of the dataset with random numbers.\n",
    "    ROOT.gRandom.SetSeed(1)\n",
    "    df_1 = df.Define(\"gaus\", \"gRandom->Gaus(10, 1)\").Define(\"exponential\", \"gRandom->Exp(10)\")\n",
    " \n",
    "    # Book an histogram for each column\n",
    "    h_gaus = df_1.Histo1D((\"gaus\", \"Normal distribution\", 50, 0, 30), \"gaus\")\n",
    "    h_exp = df_1.Histo1D((\"exponential\", \"Exponential distribution\", 50, 0, 30), \"exponential\")\n",
    " \n",
    "    # Plot the histograms side by side on a canvas\n",
    "    c = ROOT.TCanvas(\"TestCanvasOscasr\", \"TestCanvasOscasr\", 800, 400)\n",
    "    c.Divide(2, 1)\n",
    "    c.cd(1)\n",
    "    h_gaus.DrawCopy()\n",
    "    c.cd(2)\n",
    "    h_exp.DrawCopy()\n",
    " \n",
    "    # Save the canvas\n",
    "    #print(os.getenv('TMP_OUTPUT_DIR'))\n",
    "    c.SaveAs(str(os.getenv('TMP_OUTPUT_DIR')) + \"/payloadtest__\" + str(datetime.now().time())  + \"__.png\")"
   ]
  },
  {
   "cell_type": "code",
   "execution_count": null,
   "id": "41ff035e",
   "metadata": {},
   "outputs": [],
   "source": [
    "#json_payload = json.dumps({\n",
    "#    'func_payload': marshal.dumps(func_payload.__code__)\n",
    "#})\n",
    "\n",
    "text_function = inspect.getsource(func_payload)\n",
    "                                 \n",
    "print(text_function)\n",
    "\n",
    "# Generate function from text\n",
    "#exec(text_function) \n",
    "#func_payload() # It works."
   ]
  },
  {
   "cell_type": "code",
   "execution_count": null,
   "id": "7942251a",
   "metadata": {},
   "outputs": [],
   "source": [
    "# Create payload and send to oscar through a POST request\n",
    "import base64\n",
    "from requests.auth import HTTPBasicAuth\n",
    "dict_payload = {\"func\": str(base64.b64encode(bytes(text_function, 'utf-8'))) }\n",
    "\n",
    "\n",
    "# Get endpoint status\n",
    "status_response = requests.get('https://localhost/health', \n",
    "                               headers={'Accept':'application/json'}, \n",
    "                               verify=False)\n",
    "print('Server Status: ' + status_response.text)\n",
    "\n",
    "\n",
    "# Get servie token from request. Requires password :/\n",
    "token_response = requests.get('https://localhost/system/services/root-map', \n",
    "                               headers={'Accept':'application/json'}, \n",
    "                               auth=HTTPBasicAuth('oscar', 'oscarPassword'),\n",
    "                               verify=False)\n",
    "service_token = json.loads(token_response.text)['token']\n",
    "print(service_token)\n",
    "\n",
    "\n",
    "# Set endpoint\n",
    "cluster_endpoint = 'https://localhost/job/root-map' # /job/ is asynchronous.\n",
    "headers = {\n",
    "    \"Accept\": \"application/json\",\n",
    "    \"Authorization\": \"Bearer \" + service_token\n",
    "}\n",
    "\n",
    "\n",
    "# Run job.\n",
    "requests.post(cluster_endpoint, \n",
    "              headers=headers, \n",
    "              json=json.dumps(dict_payload), \n",
    "              verify=False)"
   ]
  },
  {
   "cell_type": "markdown",
   "id": "6774e78b",
   "metadata": {},
   "source": [
    "### Get compute graph of data to process"
   ]
  },
  {
   "cell_type": "code",
   "execution_count": null,
   "id": "8e91aa68",
   "metadata": {},
   "outputs": [],
   "source": [
    "import ROOT\n",
    "import os       \n",
    "from datetime import datetime\n",
    "df = ROOT.RDataFrame(1000)\n",
    "\n",
    "# Set the random seed and define two columns of the dataset with random numbers.\n",
    "ROOT.gRandom.SetSeed(1)\n",
    "df_1 = df.Define(\"gaus\", \"gRandom->Gaus(10, 1)\").Define(\"exponential\", \"gRandom->Exp(10)\")\n",
    "\n",
    "# Book an histogram for each column\n",
    "h_gaus = df_1.Histo1D((\"gaus\", \"Normal distribution\", 50, 0, 30), \"gaus\")\n",
    "h_exp = df_1.Histo1D((\"exponential\", \"Exponential distribution\", 50, 0, 30), \"exponential\")\n",
    "\n",
    "# Plot the histograms side by side on a canvas\n",
    "c = ROOT.TCanvas(\"TestCanvasOscasr\", \"TestCanvasOscasr\", 800, 400)\n",
    "c.Divide(2, 1)\n",
    "c.cd(1)\n",
    "h_gaus.DrawCopy()\n",
    "c.cd(2)\n",
    "h_exp.DrawCopy()"
   ]
  },
  {
   "cell_type": "code",
   "execution_count": null,
   "id": "8da2f26d",
   "metadata": {},
   "outputs": [],
   "source": [
    "print(ROOT.RDF.SaveGraph(df))"
   ]
  },
  {
   "cell_type": "code",
   "execution_count": null,
   "id": "b26942cb",
   "metadata": {},
   "outputs": [],
   "source": [
    "print(\"Slots: \" + str(df.GetNSlots()))\n",
    "print(\"Runs: \" + str(df.GetNRuns()))"
   ]
  },
  {
   "cell_type": "markdown",
   "id": "0b3769f4",
   "metadata": {},
   "source": [
    "### ROOT Implementation"
   ]
  },
  {
   "cell_type": "code",
   "execution_count": null,
   "id": "72dc50d3",
   "metadata": {},
   "outputs": [],
   "source": [
    "import ROOT\n",
    "RDataFrame = ROOT.RDF.Experimental.Distributed.OSCAR.RDataFrame\n",
    "RunGraphs = ROOT.RDF.Experimental.Distributed.RunGraphs\n",
    "\n",
    "oscarclient = {\n",
    "    \"endpoint\": \"https://localhost/job/root-map\",\n",
    "    \"token\": service_token\n",
    "}\n",
    "\n",
    "df = RDataFrame(1000, \n",
    "                oscarclient=oscarclient)"
   ]
  },
  {
   "cell_type": "code",
   "execution_count": null,
   "id": "e71e9bd2",
   "metadata": {},
   "outputs": [],
   "source": [
    "# Set the random seed and define two columns of the dataset with random numbers.\n",
    "ROOT.gRandom.SetSeed(1)\n",
    "df_1 = df.Define(\"gaus\", \"gRandom->Gaus(10, 1)\").Define(\"exponential\", \"gRandom->Exp(10)\")\n",
    "\n",
    "# Book an histogram for each column\n",
    "h_gaus = df_1.Histo1D((\"gaus\", \"Normal distribution\", 50, 0, 30), \"gaus\")\n",
    "h_exp = df_1.Histo1D((\"exponential\", \"Exponential distribution\", 50, 0, 30), \"exponential\")\n",
    "\n",
    "# Plot the histograms side by side on a canvas\n",
    "c = ROOT.TCanvas(\"distrdf002\", \"distrdf002\", 800, 400)\n",
    "c.Divide(2, 1)\n",
    "c.cd(1)\n",
    "h_gaus.DrawCopy()\n",
    "c.cd(2)\n",
    "h_exp.DrawCopy()\n",
    "\n",
    "# Save the canvas\n",
    "c.SaveAs(\"distrdf002_OSCAR_connection.png\")\n",
    "print(\"Saved figure to distrdf002_OSCAR_connection.png\")"
   ]
  }
 ],
 "metadata": {
  "kernelspec": {
   "display_name": "Python 3 (ipykernel)",
   "language": "python",
   "name": "python3"
  },
  "language_info": {
   "codemirror_mode": {
    "name": "ipython",
    "version": 3
   },
   "file_extension": ".py",
   "mimetype": "text/x-python",
   "name": "python",
   "nbconvert_exporter": "python",
   "pygments_lexer": "ipython3",
   "version": "3.10.4"
  }
 },
 "nbformat": 4,
 "nbformat_minor": 5
}
