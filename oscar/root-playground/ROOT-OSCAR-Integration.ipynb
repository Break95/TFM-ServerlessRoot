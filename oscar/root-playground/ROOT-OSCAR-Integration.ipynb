{
 "cells": [
  {
   "cell_type": "markdown",
   "id": "c318ce6c",
   "metadata": {},
   "source": [
    "## ROOT Implementation"
   ]
  },
  {
   "cell_type": "code",
   "execution_count": 1,
   "id": "31b1b485",
   "metadata": {},
   "outputs": [
    {
     "name": "stdout",
     "output_type": "stream",
     "text": [
      "Welcome to JupyROOT 6.26/02\n"
     ]
    }
   ],
   "source": [
    "import ROOT\n",
    "import requests \n",
    "import json \n",
    "\n",
    "RDataFrame = ROOT.RDF.Experimental.Distributed.OSCAR.RDataFrame\n",
    "RunGraphs = ROOT.RDF.Experimental.Distributed.RunGraphs\n",
    "\n",
    "# Get servie token from request\n",
    "\n",
    "\n",
    "oscarclient = {\n",
    "    \"minio_endpoint\": \"minio.busy-jackson2.im.grycap.net\",\n",
    "    \"minio_access\": \"minio\",\n",
    "    \"minio_secret\": \"25BbLEYKlVP97g\"\n",
    "}\n",
    "\n",
    "df = RDataFrame(1000, \n",
    "                oscarclient=oscarclient,\n",
    "                npartitions=8)"
   ]
  },
  {
   "cell_type": "code",
   "execution_count": 2,
   "id": "f32e21af",
   "metadata": {},
   "outputs": [
    {
     "name": "stdout",
     "output_type": "stream",
     "text": [
      "[3, 0, 1, 0, 2, 0, 1, 0]\n",
      "<Response [201]>\n",
      "<Response [201]>\n",
      "<Response [201]>\n",
      "<Response [201]>\n",
      "<Response [201]>\n",
      "<Response [201]>\n",
      "<Response [201]>\n",
      "<Response [201]>\n",
      "Waiting for final result, sleeping 1 second.\n",
      "Waiting for final result, sleeping 1 second.\n",
      "Waiting for final result, sleeping 1 second.\n",
      "Waiting for final result, sleeping 1 second.\n",
      "Waiting for final result, sleeping 1 second.\n",
      "Waiting for final result, sleeping 1 second.\n",
      "Waiting for final result, sleeping 1 second.\n",
      "Waiting for final result, sleeping 1 second.\n",
      "Waiting for final result, sleeping 1 second.\n",
      "Waiting for final result, sleeping 1 second.\n",
      "Waiting for final result, sleeping 1 second.\n",
      "Waiting for final result, sleeping 1 second.\n",
      "Waiting for final result, sleeping 1 second.\n",
      "Waiting for final result, sleeping 1 second.\n",
      "Waiting for final result, sleeping 1 second.\n",
      "Waiting for final result, sleeping 1 second.\n",
      "Waiting for final result, sleeping 1 second.\n",
      "Waiting for final result, sleeping 1 second.\n",
      "Waiting for final result, sleeping 1 second.\n",
      "Waiting for final result, sleeping 1 second.\n",
      "Waiting for final result, sleeping 1 second.\n",
      "Waiting for final result, sleeping 1 second.\n",
      "Waiting for final result, sleeping 1 second.\n",
      "Waiting for final result, sleeping 1 second.\n",
      "Waiting for final result, sleeping 1 second.\n",
      "Waiting for final result, sleeping 1 second.\n",
      "Waiting for final result, sleeping 1 second.\n",
      "Waiting for final result, sleeping 1 second.\n",
      "Saved figure to live_demo.png\n"
     ]
    },
    {
     "name": "stderr",
     "output_type": "stream",
     "text": [
      "Info in <TCanvas::Print>: png file live_demo.png has been created\n"
     ]
    }
   ],
   "source": [
    "# Set the random seed and define two columns of the dataset with random numbers.\n",
    "ROOT.gRandom.SetSeed(1)\n",
    "df_1 = df.Define(\"gaus\", \"gRandom->Gaus(10, 1)\").Define(\"exponential\", \"gRandom->Exp(10)\")\n",
    "\n",
    "# Book an histogram for each column\n",
    "h_gaus = df_1.Histo1D((\"gaus\", \"Normal distribution\", 50, 0, 30), \"gaus\")\n",
    "h_exp = df_1.Histo1D((\"exponential\", \"Exponential distribution\", 50, 0, 30), \"exponential\")\n",
    "\n",
    "# Plot the histograms side by side on a canvas\n",
    "c = ROOT.TCanvas(\"distrdf002\", \"distrdf002\", 800, 400)\n",
    "c.Divide(2, 1)\n",
    "c.cd(1)\n",
    "h_gaus.DrawCopy()\n",
    "c.cd(2)\n",
    "h_exp.DrawCopy()\n",
    "\n",
    "# Save the canvas\n",
    "file_name = \"live_demo.png\"\n",
    "c.SaveAs(file_name)\n",
    "print(\"Saved figure to \" + file_name)"
   ]
  },
  {
   "cell_type": "code",
   "execution_count": null,
   "id": "c365baeb",
   "metadata": {},
   "outputs": [],
   "source": []
  },
  {
   "cell_type": "code",
   "execution_count": null,
   "id": "d86a14f2",
   "metadata": {},
   "outputs": [],
   "source": []
  }
 ],
 "metadata": {
  "kernelspec": {
   "display_name": "Python 3 (ipykernel)",
   "language": "python",
   "name": "python3"
  },
  "language_info": {
   "codemirror_mode": {
    "name": "ipython",
    "version": 3
   },
   "file_extension": ".py",
   "mimetype": "text/x-python",
   "name": "python",
   "nbconvert_exporter": "python",
   "pygments_lexer": "ipython3",
   "version": "3.10.4"
  }
 },
 "nbformat": 4,
 "nbformat_minor": 5
}
