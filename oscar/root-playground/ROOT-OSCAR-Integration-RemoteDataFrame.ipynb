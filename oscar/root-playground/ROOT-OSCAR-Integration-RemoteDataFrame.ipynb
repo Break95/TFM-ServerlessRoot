{
 "cells": [
  {
   "cell_type": "markdown",
   "id": "c318ce6c",
   "metadata": {},
   "source": [
    "## ROOT Implementation"
   ]
  },
  {
   "cell_type": "code",
   "execution_count": 1,
   "id": "31b1b485",
   "metadata": {},
   "outputs": [
    {
     "name": "stdout",
     "output_type": "stream",
     "text": [
      "Welcome to JupyROOT 6.27/01\n"
     ]
    }
   ],
   "source": [
    "import ROOT\n",
    "import json \n",
    "\n",
    "RDataFrame = ROOT.RDF.Experimental.Distributed.OSCAR.RDataFrame\n",
    "RunGraphs = ROOT.RDF.Experimental.Distributed.RunGraphs\n",
    "\n",
    "oscarclient = {\n",
    "    \"minio_endpoint\": \"minio.busy-jackson2.im.grycap.net\",\n",
    "    \"minio_access\": \"minio\",\n",
    "    \"minio_secret\": \"25BbLEYKlVP97g\"\n",
    "}"
   ]
  },
  {
   "cell_type": "code",
   "execution_count": 2,
   "id": "f32e21af",
   "metadata": {},
   "outputs": [],
   "source": [
    "def dimuon_analysis(df):\n",
    "    # For simplicity, select only events with exactly two muons and require opposite charge\n",
    "    df_2mu = df.Filter(\"nMuon == 2\", \"Events with exactly two muons\")\n",
    "    df_os = df_2mu.Filter(\"Muon_charge[0] != Muon_charge[1]\", \"Muons with opposite charge\")\n",
    "     \n",
    "    # Compute invariant mass of the dimuon system\n",
    "    df_mass = df_os.Define(\"Dimuon_mass\", \"InvariantMass(Muon_pt, Muon_eta, Muon_phi, Muon_mass)\")\n",
    "     \n",
    "    # Make histogram of dimuon mass spectrum. Note how we can set titles and axis labels in one go.\n",
    "    h = df_mass.Histo1D((\"Dimuon_mass\", \"Dimuon mass;m_{#mu#mu} (GeV);N_{Events}\", 30000, 0.25, 300), \"Dimuon_mass\")\n",
    "     \n",
    "    # Produce plot\n",
    "    ROOT.gStyle.SetOptStat(0); ROOT.gStyle.SetTextFont(42)\n",
    "    c = ROOT.TCanvas(\"c\", \"\", 800, 700)\n",
    "    c.SetLogx(); c.SetLogy()\n",
    "    \n",
    "    watch = ROOT.TStopwatch()\n",
    "    h.SetTitle(\"\")\n",
    "    print(f\"Time elapsed {watch.RealTime()}\")\n",
    "    h.GetXaxis().SetTitleSize(0.04)\n",
    "    h.GetYaxis().SetTitleSize(0.04)\n",
    "    h.Draw()\n",
    "     \n",
    "    label = ROOT.TLatex(); label.SetNDC(True)\n",
    "    label.DrawLatex(0.175, 0.740, \"#eta\")\n",
    "    label.DrawLatex(0.205, 0.775, \"#rho,#omega\")\n",
    "    label.DrawLatex(0.270, 0.740, \"#phi\")\n",
    "    label.DrawLatex(0.400, 0.800, \"J/#psi\")\n",
    "    label.DrawLatex(0.415, 0.670, \"#psi'\")\n",
    "    label.DrawLatex(0.485, 0.700, \"Y(1,2,3S)\")\n",
    "    label.DrawLatex(0.755, 0.680, \"Z\")\n",
    "    label.SetTextSize(0.040); label.DrawLatex(0.100, 0.920, \"#bf{CMS Open Data}\")\n",
    "    label.SetTextSize(0.030); label.DrawLatex(0.630, 0.920, \"#sqrt{s} = 8 TeV, L_{int} = 11.6 fb^{-1}\")\n",
    "     \n",
    "    c.SaveAs(\"dimuon_spectrum.pdf\")"
   ]
  },
  {
   "cell_type": "code",
   "execution_count": 3,
   "id": "c365baeb",
   "metadata": {},
   "outputs": [
    {
     "name": "stdout",
     "output_type": "stream",
     "text": [
      "[1, 0]\n",
      "Waiting for final result, sleeping 1 second.\n",
      "Waiting for final result, sleeping 1 second.\n"
     ]
    },
    {
     "ename": "KeyboardInterrupt",
     "evalue": "",
     "output_type": "error",
     "traceback": [
      "\u001b[0;31m---------------------------------------------------------------------------\u001b[0m",
      "\u001b[0;31mKeyboardInterrupt\u001b[0m                         Traceback (most recent call last)",
      "Input \u001b[0;32mIn [3]\u001b[0m, in \u001b[0;36m<cell line: 5>\u001b[0;34m()\u001b[0m\n\u001b[1;32m      3\u001b[0m treename \u001b[38;5;241m=\u001b[39m \u001b[38;5;124m\"\u001b[39m\u001b[38;5;124mEvents\u001b[39m\u001b[38;5;124m\"\u001b[39m\n\u001b[1;32m      4\u001b[0m df \u001b[38;5;241m=\u001b[39m RDataFrame(treename, filenames, oscarclient\u001b[38;5;241m=\u001b[39moscarclient, npartitions\u001b[38;5;241m=\u001b[39m\u001b[38;5;241m2\u001b[39m)\n\u001b[0;32m----> 5\u001b[0m \u001b[43mdimuon_analysis\u001b[49m\u001b[43m(\u001b[49m\u001b[43mdf\u001b[49m\u001b[43m)\u001b[49m\n",
      "Input \u001b[0;32mIn [2]\u001b[0m, in \u001b[0;36mdimuon_analysis\u001b[0;34m(df)\u001b[0m\n\u001b[1;32m     15\u001b[0m c\u001b[38;5;241m.\u001b[39mSetLogx(); c\u001b[38;5;241m.\u001b[39mSetLogy()\n\u001b[1;32m     17\u001b[0m watch \u001b[38;5;241m=\u001b[39m ROOT\u001b[38;5;241m.\u001b[39mTStopwatch()\n\u001b[0;32m---> 18\u001b[0m \u001b[43mh\u001b[49m\u001b[38;5;241;43m.\u001b[39;49m\u001b[43mSetTitle\u001b[49m\u001b[43m(\u001b[49m\u001b[38;5;124;43m\"\u001b[39;49m\u001b[38;5;124;43m\"\u001b[39;49m\u001b[43m)\u001b[49m\n\u001b[1;32m     19\u001b[0m \u001b[38;5;28mprint\u001b[39m(\u001b[38;5;124mf\u001b[39m\u001b[38;5;124m\"\u001b[39m\u001b[38;5;124mTime elapsed \u001b[39m\u001b[38;5;132;01m{\u001b[39;00mwatch\u001b[38;5;241m.\u001b[39mRealTime()\u001b[38;5;132;01m}\u001b[39;00m\u001b[38;5;124m\"\u001b[39m)\n\u001b[1;32m     20\u001b[0m h\u001b[38;5;241m.\u001b[39mGetXaxis()\u001b[38;5;241m.\u001b[39mSetTitleSize(\u001b[38;5;241m0.04\u001b[39m)\n",
      "File \u001b[0;32m/usr/local/lib/root/DistRDF/Proxy.py:139\u001b[0m, in \u001b[0;36mActionProxy._call_action_result\u001b[0;34m(self, *args, **kwargs)\u001b[0m\n\u001b[1;32m    134\u001b[0m \u001b[38;5;28;01mdef\u001b[39;00m \u001b[38;5;21m_call_action_result\u001b[39m(\u001b[38;5;28mself\u001b[39m, \u001b[38;5;241m*\u001b[39margs, \u001b[38;5;241m*\u001b[39m\u001b[38;5;241m*\u001b[39mkwargs):\n\u001b[1;32m    135\u001b[0m     \u001b[38;5;124;03m\"\"\"\u001b[39;00m\n\u001b[1;32m    136\u001b[0m \u001b[38;5;124;03m    Handles an operation call to the current action node and returns\u001b[39;00m\n\u001b[1;32m    137\u001b[0m \u001b[38;5;124;03m    result of the current action node.\u001b[39;00m\n\u001b[1;32m    138\u001b[0m \u001b[38;5;124;03m    \"\"\"\u001b[39;00m\n\u001b[0;32m--> 139\u001b[0m     \u001b[38;5;28;01mreturn\u001b[39;00m \u001b[38;5;28mgetattr\u001b[39m(\u001b[38;5;28;43mself\u001b[39;49m\u001b[38;5;241;43m.\u001b[39;49m\u001b[43mGetValue\u001b[49m\u001b[43m(\u001b[49m\u001b[43m)\u001b[49m, \u001b[38;5;28mself\u001b[39m\u001b[38;5;241m.\u001b[39m_cur_attr)(\u001b[38;5;241m*\u001b[39margs, \u001b[38;5;241m*\u001b[39m\u001b[38;5;241m*\u001b[39mkwargs)\n",
      "File \u001b[0;32m/usr/local/lib/root/DistRDF/Proxy.py:130\u001b[0m, in \u001b[0;36mActionProxy.GetValue\u001b[0;34m(self)\u001b[0m\n\u001b[1;32m    123\u001b[0m \u001b[38;5;28;01mdef\u001b[39;00m \u001b[38;5;21mGetValue\u001b[39m(\u001b[38;5;28mself\u001b[39m):\n\u001b[1;32m    124\u001b[0m     \u001b[38;5;124;03m\"\"\"\u001b[39;00m\n\u001b[1;32m    125\u001b[0m \u001b[38;5;124;03m    Returns the result value of the current action node if it was executed\u001b[39;00m\n\u001b[1;32m    126\u001b[0m \u001b[38;5;124;03m    before, else triggers the execution of the distributed graph before\u001b[39;00m\n\u001b[1;32m    127\u001b[0m \u001b[38;5;124;03m    returning the value.\u001b[39;00m\n\u001b[1;32m    128\u001b[0m \u001b[38;5;124;03m    \"\"\"\u001b[39;00m\n\u001b[0;32m--> 130\u001b[0m     \u001b[38;5;28;43mself\u001b[39;49m\u001b[38;5;241;43m.\u001b[39;49m\u001b[43mexecute_graph\u001b[49m\u001b[43m(\u001b[49m\u001b[43m)\u001b[49m\n\u001b[1;32m    132\u001b[0m     \u001b[38;5;28;01mreturn\u001b[39;00m \u001b[38;5;28mself\u001b[39m\u001b[38;5;241m.\u001b[39mproxied_node\u001b[38;5;241m.\u001b[39mvalue\n",
      "File \u001b[0;32m/usr/local/lib/root/DistRDF/Proxy.py:121\u001b[0m, in \u001b[0;36mActionProxy.execute_graph\u001b[0;34m(self)\u001b[0m\n\u001b[1;32m    119\u001b[0m headnode \u001b[38;5;241m=\u001b[39m \u001b[38;5;28mself\u001b[39m\u001b[38;5;241m.\u001b[39mproxied_node\u001b[38;5;241m.\u001b[39mget_head()\n\u001b[1;32m    120\u001b[0m generator \u001b[38;5;241m=\u001b[39m ComputationGraphGenerator(headnode)\n\u001b[0;32m--> 121\u001b[0m \u001b[43mheadnode\u001b[49m\u001b[38;5;241;43m.\u001b[39;49m\u001b[43mbackend\u001b[49m\u001b[38;5;241;43m.\u001b[39;49m\u001b[43mexecute\u001b[49m\u001b[43m(\u001b[49m\u001b[43mgenerator\u001b[49m\u001b[43m)\u001b[49m\n",
      "File \u001b[0;32m/usr/local/lib/root/DistRDF/Backends/Base.py:221\u001b[0m, in \u001b[0;36mBaseBackend.execute\u001b[0;34m(self, generator)\u001b[0m\n\u001b[1;32m    218\u001b[0m     \u001b[38;5;28;01mreturn\u001b[39;00m mergeables_out\n\u001b[1;32m    220\u001b[0m \u001b[38;5;66;03m# Values produced after Map-Reduce\u001b[39;00m\n\u001b[0;32m--> 221\u001b[0m values \u001b[38;5;241m=\u001b[39m \u001b[38;5;28;43mself\u001b[39;49m\u001b[38;5;241;43m.\u001b[39;49m\u001b[43mProcessAndMerge\u001b[49m\u001b[43m(\u001b[49m\u001b[43mranges\u001b[49m\u001b[43m,\u001b[49m\u001b[43m \u001b[49m\u001b[43mmapper\u001b[49m\u001b[43m,\u001b[49m\u001b[43m \u001b[49m\u001b[43mreducer\u001b[49m\u001b[43m)\u001b[49m\n\u001b[1;32m    222\u001b[0m \u001b[38;5;66;03m# List of action nodes in the same order as values\u001b[39;00m\n\u001b[1;32m    223\u001b[0m nodes \u001b[38;5;241m=\u001b[39m generator\u001b[38;5;241m.\u001b[39mget_action_nodes()\n",
      "File \u001b[0;32m/usr/local/lib/root/DistRDF/Backends/OSCAR/Backend.py:184\u001b[0m, in \u001b[0;36mOSCARBackend.ProcessAndMerge\u001b[0;34m(self, ranges, mapper, reducer)\u001b[0m\n\u001b[1;32m    182\u001b[0m                 \u001b[38;5;28;01mbreak\u001b[39;00m\n\u001b[1;32m    183\u001b[0m     \u001b[38;5;28mprint\u001b[39m(\u001b[38;5;124mf\u001b[39m\u001b[38;5;124m'\u001b[39m\u001b[38;5;124mWaiting for final result, sleeping 1 second.\u001b[39m\u001b[38;5;124m'\u001b[39m)\n\u001b[0;32m--> 184\u001b[0m     \u001b[43msleep\u001b[49m\u001b[43m(\u001b[49m\u001b[38;5;241;43m1\u001b[39;49m\u001b[43m)\u001b[49m\n\u001b[1;32m    186\u001b[0m mc\u001b[38;5;241m.\u001b[39mfget_object(\u001b[38;5;124m'\u001b[39m\u001b[38;5;124mroot-oscar\u001b[39m\u001b[38;5;124m'\u001b[39m, full_name, \u001b[38;5;124mf\u001b[39m\u001b[38;5;124m'\u001b[39m\u001b[38;5;124m/tmp/\u001b[39m\u001b[38;5;132;01m{\u001b[39;00mfull_name\u001b[38;5;132;01m}\u001b[39;00m\u001b[38;5;124m'\u001b[39m)\n\u001b[1;32m    187\u001b[0m handle \u001b[38;5;241m=\u001b[39m \u001b[38;5;28mopen\u001b[39m(\u001b[38;5;124mf\u001b[39m\u001b[38;5;124m'\u001b[39m\u001b[38;5;124m/tmp/\u001b[39m\u001b[38;5;132;01m{\u001b[39;00mfull_name\u001b[38;5;132;01m}\u001b[39;00m\u001b[38;5;124m'\u001b[39m, \u001b[38;5;124m\"\u001b[39m\u001b[38;5;124mrb\u001b[39m\u001b[38;5;124m\"\u001b[39m)\n",
      "\u001b[0;31mKeyboardInterrupt\u001b[0m: "
     ]
    }
   ],
   "source": [
    "# Create dataframe from NanoAOD files\n",
    "filenames = [\"root://eospublic.cern.ch//eos/opendata/cms/derived-data/AOD2NanoAODOutreachTool/Run2012BC_DoubleMuParked_Muons.root\"]\n",
    "treename = \"Events\"\n",
    "df = RDataFrame(treename, filenames, oscarclient=oscarclient, npartitions=2)\n",
    "dimuon_analysis(df)"
   ]
  },
  {
   "cell_type": "code",
   "execution_count": null,
   "id": "d86a14f2",
   "metadata": {},
   "outputs": [],
   "source": []
  }
 ],
 "metadata": {
  "kernelspec": {
   "display_name": "Python 3 (ipykernel)",
   "language": "python",
   "name": "python3"
  },
  "language_info": {
   "codemirror_mode": {
    "name": "ipython",
    "version": 3
   },
   "file_extension": ".py",
   "mimetype": "text/x-python",
   "name": "python",
   "nbconvert_exporter": "python",
   "pygments_lexer": "ipython3",
   "version": "3.10.4"
  }
 },
 "nbformat": 4,
 "nbformat_minor": 5
}
