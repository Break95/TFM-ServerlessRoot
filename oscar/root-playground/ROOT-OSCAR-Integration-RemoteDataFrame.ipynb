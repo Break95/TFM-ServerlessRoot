{
 "cells": [
  {
   "cell_type": "markdown",
   "id": "c318ce6c",
   "metadata": {},
   "source": [
    "## ROOT Implementation"
   ]
  },
  {
   "cell_type": "code",
   "execution_count": 1,
   "id": "31b1b485",
   "metadata": {},
   "outputs": [
    {
     "name": "stdout",
     "output_type": "stream",
     "text": [
      "Welcome to JupyROOT 6.27/01\n"
     ]
    }
   ],
   "source": [
    "import ROOT\n",
    "import os\n",
    "\n",
    "RDataFrame = ROOT.RDF.Experimental.Distributed.OSCAR.RDataFrame\n",
    "\n",
    "oscarclient = {\n",
    "    \"minio_endpoint\": os.environ['minio_endpoint'],\n",
    "    \"minio_access\":   os.environ['minio_access'],\n",
    "    \"minio_secret\":   os.environ['minio_secret'],\n",
    "    \"bucket_name\": 'root-oscar',\n",
    "    # Optional arguments\n",
    "    \"benchmarking\" : True,\n",
    "    \"oscar_endpoint\": f\"{os.environ['oscar_endpoint']}\",\n",
    "    \"oscar_access\":   os.environ['oscar_access'],\n",
    "    \"oscar_secret\":   os.environ['oscar_secret']\n",
    "}"
   ]
  },
  {
   "cell_type": "code",
   "execution_count": 2,
   "id": "d9c260c2",
   "metadata": {},
   "outputs": [],
   "source": [
    "def dimuon_analysis(df):\n",
    "    # For simplicity, select only events with exactly two muons and require opposite charge\n",
    "    df_2mu = df.Filter(\"nMuon == 2\", \"Events with exactly two muons\")\n",
    "    df_os = df_2mu.Filter(\"Muon_charge[0] != Muon_charge[1]\", \"Muons with opposite charge\")\n",
    "    \n",
    "    # Compute invariant mass of the dimuon system\n",
    "    df_mass = df_os.Define(\"Dimuon_mass\", \"InvariantMass(Muon_pt, Muon_eta, Muon_phi, Muon_mass)\")\n",
    "    \n",
    "    # Make histogram of dimuon mass spectrum. Note how we can set titles and axis labels in one go.\n",
    "    h = df_mass.Histo1D((\"Dimuon_mass\", \"Dimuon mass;m_{#mu#mu} (GeV);N_{Events}\", 30000, 0.25, 300), \"Dimuon_mass\")\n",
    "    \n",
    "    # Produce plot\n",
    "    ROOT.gStyle.SetOptStat(0); ROOT.gStyle.SetTextFont(42)\n",
    "    c = ROOT.TCanvas(\"c\", \"\", 800, 700)\n",
    "    c.SetLogx(); c.SetLogy()\n",
    "    \n",
    "    watch = ROOT.TStopwatch()\n",
    "    h.SetTitle(\"\")\n",
    "    print(f\"Time elapsed {watch.RealTime()}\")\n",
    "    h.GetXaxis().SetTitleSize(0.04)\n",
    "    h.GetYaxis().SetTitleSize(0.04)\n",
    "    h.Draw()\n",
    "    \n",
    "    label = ROOT.TLatex(); label.SetNDC(True)\n",
    "    label.DrawLatex(0.175, 0.740, \"#eta\")\n",
    "    label.DrawLatex(0.205, 0.775, \"#rho,#omega\")\n",
    "    label.DrawLatex(0.270, 0.740, \"#phi\")\n",
    "    label.DrawLatex(0.400, 0.800, \"J/#psi\")\n",
    "    label.DrawLatex(0.415, 0.670, \"#psi'\")\n",
    "    label.DrawLatex(0.485, 0.700, \"Y(1,2,3S)\")\n",
    "    label.DrawLatex(0.755, 0.680, \"Z\")\n",
    "    label.SetTextSize(0.040); label.DrawLatex(0.100, 0.920, \"#bf{CMS Open Data}\")\n",
    "    label.SetTextSize(0.030); label.DrawLatex(0.630, 0.920, \"#sqrt{s} = 8 TeV, L_{int} = 11.6 fb^{-1}\")\n",
    "    \n",
    "    c.SaveAs(\"dimuon_spectrum.pdf\")"
   ]
  },
  {
   "cell_type": "code",
   "execution_count": null,
   "id": "c365baeb",
   "metadata": {},
   "outputs": [],
   "source": [
    "# Create dataframe from NanoAOD files\n",
    "filenames = [\"root://eospublic.cern.ch//eos/opendata/cms/derived-data/AOD2NanoAODOutreachTool/Run2012BC_DoubleMuParked_Muons.root\"]\n",
    "#filenames = filenames * 4\n",
    "treename = \"Events\"\n",
    "df = RDataFrame(treename, filenames, oscarclient=oscarclient, npartitions=8)"
   ]
  },
  {
   "cell_type": "code",
   "execution_count": null,
   "id": "d86a14f2",
   "metadata": {
    "scrolled": false
   },
   "outputs": [],
   "source": [
    "dimuon_analysis(df)"
   ]
  },
  {
   "cell_type": "code",
   "execution_count": null,
   "id": "acc950d0",
   "metadata": {},
   "outputs": [],
   "source": [
    "# Plot generation\n",
    "import csv\n",
    "import sys\n",
    "import pandas as pd\n",
    "import plotly.graph_objects as go\n",
    "from plotly.subplots import make_subplots\n",
    "\n",
    "#df = pd.read_csv('fe511af1-a485-48eb-89fe-9067c2bb457f_usage.csv' , delimiter='|')\n",
    "df = pd.read_csv('d132ba4a-8b6b-4916-b8d0-398d00a193ab_usage.csv' , delimiter='|')\n",
    "df.head()"
   ]
  },
  {
   "cell_type": "code",
   "execution_count": null,
   "id": "21dad12d",
   "metadata": {},
   "outputs": [],
   "source": []
  },
  {
   "cell_type": "code",
   "execution_count": null,
   "id": "73eb9e80",
   "metadata": {},
   "outputs": [],
   "source": [
    "mappers = df[df['function'] == 'mapper']\n",
    "\n",
    "cpu_figs = make_subplots(rows=2, cols=2, \n",
    "                         subplot_titles = ['Mapper 0','Mapper 1','Mapper 2','Mapper 3'],\n",
    "                         x_title='Time (s)', y_title='CPU Usage (%)')\n",
    "        \n",
    "mem_figs = make_subplots(rows=2, cols=2, \n",
    "                         subplot_titles = ['Mapper 0','Mapper 1','Mapper 2','Mapper 3'],\n",
    "                         x_title='Time (s)', y_title='Memory Usage (%)')\n",
    "row = 1\n",
    "col = 1\n",
    "\n",
    "\n",
    "for id in ['0_0', '1_1', '2_2', '3_3']:\n",
    "    mapper_data = mappers[mappers['id'] == id]\n",
    "    \n",
    "    cpu_figs.add_trace(\n",
    "        go.Scatter(x=mapper_data['time'],\n",
    "                   y=mapper_data['cpu_percent'],\n",
    "                   showlegend=False),\n",
    "        row=row, col=col\n",
    "    )\n",
    "    \n",
    "    mem_figs.add_trace(\n",
    "        go.Scatter(x=mapper_data['time'],\n",
    "                   y=mapper_data['mem_percent'],\n",
    "                   showlegend=False),\n",
    "        row=row, col=col\n",
    "    )\n",
    "    \n",
    "    col += 1\n",
    "    if col > 2:\n",
    "        col = 1\n",
    "        row +=1"
   ]
  },
  {
   "cell_type": "code",
   "execution_count": null,
   "id": "d59800f1",
   "metadata": {
    "scrolled": true
   },
   "outputs": [],
   "source": [
    "cpu_figs.show()"
   ]
  },
  {
   "cell_type": "code",
   "execution_count": null,
   "id": "8c841850",
   "metadata": {
    "scrolled": true
   },
   "outputs": [],
   "source": [
    "mem_figs.show()"
   ]
  },
  {
   "cell_type": "code",
   "execution_count": null,
   "id": "ddbbb3be",
   "metadata": {},
   "outputs": [],
   "source": [
    "df2 = pd.read_csv('fe511af1-a485-48eb-89fe-9067c2bb457f_process.csv' , delimiter='|')\n",
    "df2.head()"
   ]
  },
  {
   "cell_type": "code",
   "execution_count": null,
   "id": "07ed48c8",
   "metadata": {
    "scrolled": true
   },
   "outputs": [],
   "source": [
    "ids = ['function', 'id', 'phase'] \n",
    "mem_cols = ids + [col for col in df2 if col.startswith('mem_')]\n",
    "df2_mem = df2[mem_cols]\n",
    "df2_mem"
   ]
  },
  {
   "cell_type": "code",
   "execution_count": null,
   "id": "b946400b",
   "metadata": {},
   "outputs": [],
   "source": [
    "net_io_cols = ids + [ col for col in df2 if col.startswith('net_')]\n",
    "df2_net_io = df2[net_io_cols]\n",
    "df2_net_io.head()"
   ]
  },
  {
   "cell_type": "code",
   "execution_count": null,
   "id": "b8cabb1b",
   "metadata": {},
   "outputs": [],
   "source": [
    "io_cols = ids + [col for col in df2 if col.startswith('io_')]\n",
    "df2_io = df2[io_cols]\n",
    "df2_io.head()"
   ]
  },
  {
   "cell_type": "code",
   "execution_count": null,
   "id": "6944793f",
   "metadata": {},
   "outputs": [],
   "source": [
    "ctx_cols = ids + [col for col in df2 if col.startswith('ctx_')]\n",
    "df2_ctx = df2[ctx_cols]\n",
    "df2_ctx.head()"
   ]
  },
  {
   "cell_type": "code",
   "execution_count": null,
   "id": "f85c3fa3",
   "metadata": {},
   "outputs": [],
   "source": []
  },
  {
   "cell_type": "markdown",
   "id": "b0c2da2a",
   "metadata": {},
   "source": [
    "## Testing with dataset in local minio."
   ]
  },
  {
   "cell_type": "code",
   "execution_count": 1,
   "id": "ccbd28e5",
   "metadata": {},
   "outputs": [],
   "source": [
    "def dimuon_analysis(df, node_count):\n",
    "    # For simplicity, select only events with exactly two muons and require opposite charge\n",
    "    df_2mu = df.Filter(\"nMuon == 2\", \"Events with exactly two muons\")\n",
    "    df_os = df_2mu.Filter(\"Muon_charge[0] != Muon_charge[1]\", \"Muons with opposite charge\")\n",
    "    \n",
    "    # Compute invariant mass of the dimuon system\n",
    "    df_mass = df_os.Define(\"Dimuon_mass\", \"InvariantMass(Muon_pt, Muon_eta, Muon_phi, Muon_mass)\")\n",
    "    \n",
    "    # Make histogram of dimuon mass spectrum. Note how we can set titles and axis labels in one go.\n",
    "    h = df_mass.Histo1D((\"Dimuon_mass\", \"Dimuon mass;m_{#mu#mu} (GeV);N_{Events}\", 30000, 0.25, 300), \"Dimuon_mass\")\n",
    "    \n",
    "    # Produce plot\n",
    "    ROOT.gStyle.SetOptStat(0); ROOT.gStyle.SetTextFont(42)\n",
    "    c = ROOT.TCanvas(\"c\", \"\", 800, 700)\n",
    "    c.SetLogx(); c.SetLogy()\n",
    "    \n",
    "    watch = ROOT.TStopwatch()\n",
    "    h.SetTitle(\"\")\n",
    "    print(f\"Time elapsed {watch.RealTime()}\")\n",
    "    h.GetXaxis().SetTitleSize(0.04)\n",
    "    h.GetYaxis().SetTitleSize(0.04)\n",
    "    h.Draw()\n",
    "    \n",
    "    label = ROOT.TLatex(); label.SetNDC(True)\n",
    "    label.DrawLatex(0.175, 0.740, \"#eta\")\n",
    "    label.DrawLatex(0.205, 0.775, \"#rho,#omega\")\n",
    "    label.DrawLatex(0.270, 0.740, \"#phi\")\n",
    "    label.DrawLatex(0.400, 0.800, \"J/#psi\")\n",
    "    label.DrawLatex(0.415, 0.670, \"#psi'\")\n",
    "    label.DrawLatex(0.485, 0.700, \"Y(1,2,3S)\")\n",
    "    label.DrawLatex(0.755, 0.680, \"Z\")\n",
    "    label.SetTextSize(0.040); label.DrawLatex(0.100, 0.920, \"#bf{CMS Open Data}\")\n",
    "    label.SetTextSize(0.030); label.DrawLatex(0.630, 0.920, \"#sqrt{s} = 8 TeV, L_{int} = 11.6 fb^{-1}\")\n",
    "    \n",
    "    c.SaveAs(f\"dimuon_spectrum_{node_count}.pdf\")\n",
    "    \n",
    "def cpubound(df, folder):\n",
    "    # Decide parameters of the random distributions of the RDF columns\n",
    "    gaus_mean = 10\n",
    "    gaus_sigma = 1\n",
    "    exp_tau = 20\n",
    "    poisson_mean = 30\n",
    "\n",
    "    df_withcols = df.Define(\"x\",f\"gRandom->Gaus({gaus_mean},{gaus_sigma})\")\\\n",
    "                    .Define(\"y\",f\"gRandom->Exp({exp_tau})\")\\\n",
    "                    .Define(\"z\",f\"gRandom->PoissonD({poisson_mean})\")\n",
    "\n",
    "    # Decide how many operations per column you want to run\n",
    "    # Increasing this would increase the overall runtime\n",
    "    nops_percol = 10\n",
    "    oplist = [df_withcols.Mean(f\"{colname}\") for colname in [\"x\",\"y\",\"z\"] for _ in range(nops_percol)]\n",
    "\n",
    "    # Start a stopwatch and trigger the execution of the computation graph.\n",
    "    # Asking for the first value in the list is enough to trigger everything\n",
    "    print(\"Starting the CPU bound benchmark.\")\n",
    "    t = ROOT.TStopwatch()\n",
    "    first_value = oplist[0].GetValue()\n",
    "    realtime = round(t.RealTime(), 2)\n",
    "    print(f\"CPU bound benchmark finished in {realtime} seconds.\")\n",
    "\n",
    "    # Decide the name of the output csv to store runtime information.\n",
    "    outcsv = f\"{folder}/distrdf_cpubound_{realtime}.csv\"\n",
    "    \n",
    "    with open(outcsv, \"a+\") as f:\n",
    "        f.write(str(realtime))\n",
    "        f.write(\"\\n\")\n"
   ]
  },
  {
   "cell_type": "code",
   "execution_count": 2,
   "id": "090d8e1d",
   "metadata": {},
   "outputs": [
    {
     "name": "stdout",
     "output_type": "stream",
     "text": [
      "Welcome to JupyROOT 6.27/01\n"
     ]
    }
   ],
   "source": [
    "import ROOT\n",
    "import os\n",
    "\n",
    "# Plot generation\n",
    "import csv\n",
    "import sys\n",
    "import pandas as pd\n",
    "import plotly.graph_objects as go\n",
    "from plotly.subplots import make_subplots\n",
    "\n",
    "oscarclient = {\n",
    "    \"minio_endpoint\": os.environ['minio_endpoint'],\n",
    "    \"minio_access\":   os.environ['minio_access'],\n",
    "    \"minio_secret\":   os.environ['minio_secret'],\n",
    "    \"bucket_name\": 'root-oscar',\n",
    "    # Optional arguments\n",
    "    \"benchmarking\" : True,\n",
    "    \"oscar_endpoint\": f\"{os.environ['oscar_endpoint']}\",\n",
    "    \"oscar_access\":   os.environ['oscar_access'],\n",
    "    \"oscar_secret\":   os.environ['oscar_secret']\n",
    "}\n",
    "\n",
    "\n",
    "minio_data = 'https://158.42.106.12:30300/root-common/dimuon_data.root'\n",
    "#aws_data = 'https://test-cern-data.s3.amazonaws.com/dimuon_data.root'\n",
    "cern_data = \"root://eospublic.cern.ch//eos/opendata/cms/derived-data/AOD2NanoAODOutreachTool/Run2012BC_DoubleMuParked_Muons.root\"\n",
    "\n",
    "filenames = [cern_data] * 100\n",
    "treename = \"Events\"\n",
    "RDataFrame = ROOT.RDF.Experimental.Distributed.OSCAR.RDataFrame\n",
    "#RDataFrame = ROOT.RDataFrame"
   ]
  },
  {
   "cell_type": "code",
   "execution_count": 3,
   "id": "f8037ee8",
   "metadata": {},
   "outputs": [
    {
     "name": "stdout",
     "output_type": "stream",
     "text": [
      "root-oscar-1dc3149c-7991-4b98-af3b-d9a52e99d293-benchmark\n",
      "Bucket does not exist. Trying to create it.\n",
      "Creating bucket...\n",
      "Bucket created!\n",
      "Creating services...\n",
      "Creating service mapper for root-oscar-1dc3149c-7991-4b98-af3b-d9a52e99d293-benchmark\n",
      "root-oscar-1dc3149c-7991-4b98-af3b-d9a52e99d293-benchmark\n",
      "CPU = 0.98\n",
      "Creating service reducer for root-oscar-1dc3149c-7991-4b98-af3b-d9a52e99d293-benchmark\n",
      "root-oscar-1dc3149c-7991-4b98-af3b-d9a52e99d293-benchmark\n",
      "CPU = 0.98\n",
      "Done creating services!\n",
      "Starting the CPU bound benchmark.\n",
      "['0_0-1_1', '2_2-3_3', '4_4-5_5', '6_6-7_7', '8_8-9_9', '10_10-11_11', '12_12-13_13', '14_14-15_15', '0_1-2_3', '4_5-6_7', '8_9-10_11', '12_13-14_15', '0_3-4_7', '8_11-12_15', '0_7-8_15']\n",
      "root-oscar-1dc3149c-7991-4b98-af3b-d9a52e99d293-benchmark\n",
      "<Response [201]>\n",
      "<Response [201]>\n",
      "0   0   62500000\n",
      "1   62500000   125000000\n",
      "2   125000000   187500000\n",
      "3   187500000   250000000\n",
      "4   250000000   312500000\n",
      "5   312500000   375000000\n",
      "6   375000000   437500000\n",
      "7   437500000   500000000\n",
      "8   500000000   562500000\n",
      "9   562500000   625000000\n",
      "10   625000000   687500000\n",
      "11   687500000   750000000\n",
      "12   750000000   812500000\n",
      "13   812500000   875000000\n",
      "14   875000000   937500000\n",
      "15   937500000   1000000000\n",
      "Target Name: 0_15\n",
      "Waiting for final result 0_15.\n",
      "16_process.csv\n",
      "16_usage.csv\n",
      "CPU bound benchmark finished in 162.36 seconds.\n",
      "root-oscar-7f54b7ff-0bb0-4ca1-bb02-f37cb7071ff6-benchmark\n",
      "Bucket does not exist. Trying to create it.\n",
      "Creating bucket...\n",
      "Bucket created!\n",
      "Creating services...\n",
      "Creating service mapper for root-oscar-7f54b7ff-0bb0-4ca1-bb02-f37cb7071ff6-benchmark\n",
      "root-oscar-7f54b7ff-0bb0-4ca1-bb02-f37cb7071ff6-benchmark\n",
      "CPU = 0.98\n",
      "Creating service reducer for root-oscar-7f54b7ff-0bb0-4ca1-bb02-f37cb7071ff6-benchmark\n",
      "root-oscar-7f54b7ff-0bb0-4ca1-bb02-f37cb7071ff6-benchmark\n",
      "CPU = 0.98\n",
      "Done creating services!\n",
      "Starting the CPU bound benchmark.\n",
      "['0_0-1_1', '2_2-3_3', '4_4-5_5', '6_6-7_7', '0_1-2_3', '4_5-6_7', '0_3-4_7']\n",
      "root-oscar-7f54b7ff-0bb0-4ca1-bb02-f37cb7071ff6-benchmark\n",
      "<Response [201]>\n",
      "<Response [201]>\n",
      "0   0   125000000\n",
      "1   125000000   250000000\n",
      "2   250000000   375000000\n",
      "3   375000000   500000000\n",
      "4   500000000   625000000\n",
      "5   625000000   750000000\n",
      "6   750000000   875000000\n",
      "7   875000000   1000000000\n",
      "Target Name: 0_7\n",
      "Waiting for final result 0_7.\n",
      "8_process.csv\n",
      "8_usage.csv\n",
      "CPU bound benchmark finished in 247.49 seconds.\n",
      "root-oscar-5af02ddb-8036-4888-8b2c-2a05f94a541a-benchmark\n",
      "Bucket does not exist. Trying to create it.\n",
      "Creating bucket...\n",
      "Bucket created!\n",
      "Creating services...\n",
      "Creating service mapper for root-oscar-5af02ddb-8036-4888-8b2c-2a05f94a541a-benchmark\n",
      "root-oscar-5af02ddb-8036-4888-8b2c-2a05f94a541a-benchmark\n",
      "CPU = 0.98\n",
      "Creating service reducer for root-oscar-5af02ddb-8036-4888-8b2c-2a05f94a541a-benchmark\n",
      "root-oscar-5af02ddb-8036-4888-8b2c-2a05f94a541a-benchmark\n",
      "CPU = 0.98\n",
      "Done creating services!\n",
      "Starting the CPU bound benchmark.\n",
      "['0_0-1_1', '2_2-3_3', '0_1-2_3']\n",
      "root-oscar-5af02ddb-8036-4888-8b2c-2a05f94a541a-benchmark\n",
      "<Response [201]>\n",
      "<Response [201]>\n",
      "0   0   250000000\n",
      "1   250000000   500000000\n",
      "2   500000000   750000000\n",
      "3   750000000   1000000000\n",
      "Target Name: 0_3\n",
      "Waiting for final result 0_3.\n",
      "4_process.csv\n",
      "4_usage.csv\n",
      "CPU bound benchmark finished in 435.74 seconds.\n",
      "root-oscar-4e8e5f1c-d68b-43aa-a908-7a5c298ee508-benchmark\n",
      "Bucket does not exist. Trying to create it.\n",
      "Creating bucket...\n",
      "Bucket created!\n",
      "Creating services...\n",
      "Creating service mapper for root-oscar-4e8e5f1c-d68b-43aa-a908-7a5c298ee508-benchmark\n",
      "root-oscar-4e8e5f1c-d68b-43aa-a908-7a5c298ee508-benchmark\n",
      "CPU = 0.98\n",
      "Creating service reducer for root-oscar-4e8e5f1c-d68b-43aa-a908-7a5c298ee508-benchmark\n",
      "root-oscar-4e8e5f1c-d68b-43aa-a908-7a5c298ee508-benchmark\n",
      "CPU = 0.98\n",
      "Done creating services!\n",
      "Starting the CPU bound benchmark.\n",
      "['0_0-1_1']\n",
      "root-oscar-4e8e5f1c-d68b-43aa-a908-7a5c298ee508-benchmark\n",
      "<Response [201]>\n",
      "<Response [201]>\n",
      "0   0   500000000\n",
      "1   500000000   1000000000\n",
      "Target Name: 0_1\n",
      "Waiting for final result 0_1.\n",
      "2_process.csv\n",
      "2_usage.csv\n",
      "CPU bound benchmark finished in 616.03 seconds.\n",
      "root-oscar-fd278d41-8a2c-486c-a384-541668b0a1c1-benchmark\n",
      "Bucket does not exist. Trying to create it.\n",
      "Creating bucket...\n",
      "Bucket created!\n",
      "Creating services...\n",
      "Creating service mapper for root-oscar-fd278d41-8a2c-486c-a384-541668b0a1c1-benchmark\n",
      "root-oscar-fd278d41-8a2c-486c-a384-541668b0a1c1-benchmark\n",
      "CPU = 0.98\n",
      "Creating service reducer for root-oscar-fd278d41-8a2c-486c-a384-541668b0a1c1-benchmark\n",
      "root-oscar-fd278d41-8a2c-486c-a384-541668b0a1c1-benchmark\n",
      "CPU = 0.98\n",
      "Done creating services!\n",
      "Starting the CPU bound benchmark.\n",
      "[]\n",
      "root-oscar-fd278d41-8a2c-486c-a384-541668b0a1c1-benchmark\n",
      "<Response [201]>\n",
      "<Response [201]>\n",
      "0   0   1000000000\n",
      "Target Name: 0_0\n",
      "Waiting for final result 0_0.\n"
     ]
    },
    {
     "ename": "MaxRetryError",
     "evalue": "HTTPSConnectionPool(host='158.42.106.12', port=30300): Max retries exceeded with url: http://158.42.106.12:30300/root-oscar-fd278d41-8a2c-486c-a384-541668b0a1c1-benchmark/partial-results/0_0 (Caused by ProxyError('Cannot connect to proxy.', NewConnectionError('<urllib3.connection.HTTPSConnection object at 0x40bb1e4580>: Failed to establish a new connection: [Errno 111] Connection refused')))",
     "output_type": "error",
     "traceback": [
      "\u001b[0;31m---------------------------------------------------------------------------\u001b[0m",
      "\u001b[0;31mConnectionRefusedError\u001b[0m                    Traceback (most recent call last)",
      "File \u001b[0;32m/usr/local/lib/python3.10/dist-packages/urllib3/connection.py:174\u001b[0m, in \u001b[0;36mHTTPConnection._new_conn\u001b[0;34m(self)\u001b[0m\n\u001b[1;32m    173\u001b[0m \u001b[38;5;28;01mtry\u001b[39;00m:\n\u001b[0;32m--> 174\u001b[0m     conn \u001b[38;5;241m=\u001b[39m \u001b[43mconnection\u001b[49m\u001b[38;5;241;43m.\u001b[39;49m\u001b[43mcreate_connection\u001b[49m\u001b[43m(\u001b[49m\n\u001b[1;32m    175\u001b[0m \u001b[43m        \u001b[49m\u001b[43m(\u001b[49m\u001b[38;5;28;43mself\u001b[39;49m\u001b[38;5;241;43m.\u001b[39;49m\u001b[43m_dns_host\u001b[49m\u001b[43m,\u001b[49m\u001b[43m \u001b[49m\u001b[38;5;28;43mself\u001b[39;49m\u001b[38;5;241;43m.\u001b[39;49m\u001b[43mport\u001b[49m\u001b[43m)\u001b[49m\u001b[43m,\u001b[49m\u001b[43m \u001b[49m\u001b[38;5;28;43mself\u001b[39;49m\u001b[38;5;241;43m.\u001b[39;49m\u001b[43mtimeout\u001b[49m\u001b[43m,\u001b[49m\u001b[43m \u001b[49m\u001b[38;5;241;43m*\u001b[39;49m\u001b[38;5;241;43m*\u001b[39;49m\u001b[43mextra_kw\u001b[49m\n\u001b[1;32m    176\u001b[0m \u001b[43m    \u001b[49m\u001b[43m)\u001b[49m\n\u001b[1;32m    178\u001b[0m \u001b[38;5;28;01mexcept\u001b[39;00m SocketTimeout:\n",
      "File \u001b[0;32m/usr/local/lib/python3.10/dist-packages/urllib3/util/connection.py:95\u001b[0m, in \u001b[0;36mcreate_connection\u001b[0;34m(address, timeout, source_address, socket_options)\u001b[0m\n\u001b[1;32m     94\u001b[0m \u001b[38;5;28;01mif\u001b[39;00m err \u001b[38;5;129;01mis\u001b[39;00m \u001b[38;5;129;01mnot\u001b[39;00m \u001b[38;5;28;01mNone\u001b[39;00m:\n\u001b[0;32m---> 95\u001b[0m     \u001b[38;5;28;01mraise\u001b[39;00m err\n\u001b[1;32m     97\u001b[0m \u001b[38;5;28;01mraise\u001b[39;00m socket\u001b[38;5;241m.\u001b[39merror(\u001b[38;5;124m\"\u001b[39m\u001b[38;5;124mgetaddrinfo returns an empty list\u001b[39m\u001b[38;5;124m\"\u001b[39m)\n",
      "File \u001b[0;32m/usr/local/lib/python3.10/dist-packages/urllib3/util/connection.py:85\u001b[0m, in \u001b[0;36mcreate_connection\u001b[0;34m(address, timeout, source_address, socket_options)\u001b[0m\n\u001b[1;32m     84\u001b[0m     sock\u001b[38;5;241m.\u001b[39mbind(source_address)\n\u001b[0;32m---> 85\u001b[0m \u001b[43msock\u001b[49m\u001b[38;5;241;43m.\u001b[39;49m\u001b[43mconnect\u001b[49m\u001b[43m(\u001b[49m\u001b[43msa\u001b[49m\u001b[43m)\u001b[49m\n\u001b[1;32m     86\u001b[0m \u001b[38;5;28;01mreturn\u001b[39;00m sock\n",
      "\u001b[0;31mConnectionRefusedError\u001b[0m: [Errno 111] Connection refused",
      "\nDuring handling of the above exception, another exception occurred:\n",
      "\u001b[0;31mNewConnectionError\u001b[0m                        Traceback (most recent call last)",
      "File \u001b[0;32m/usr/local/lib/python3.10/dist-packages/urllib3/connectionpool.py:703\u001b[0m, in \u001b[0;36mHTTPConnectionPool.urlopen\u001b[0;34m(self, method, url, body, headers, retries, redirect, assert_same_host, timeout, pool_timeout, release_conn, chunked, body_pos, **response_kw)\u001b[0m\n\u001b[1;32m    702\u001b[0m \u001b[38;5;66;03m# Make the request on the httplib connection object.\u001b[39;00m\n\u001b[0;32m--> 703\u001b[0m httplib_response \u001b[38;5;241m=\u001b[39m \u001b[38;5;28;43mself\u001b[39;49m\u001b[38;5;241;43m.\u001b[39;49m\u001b[43m_make_request\u001b[49m\u001b[43m(\u001b[49m\n\u001b[1;32m    704\u001b[0m \u001b[43m    \u001b[49m\u001b[43mconn\u001b[49m\u001b[43m,\u001b[49m\n\u001b[1;32m    705\u001b[0m \u001b[43m    \u001b[49m\u001b[43mmethod\u001b[49m\u001b[43m,\u001b[49m\n\u001b[1;32m    706\u001b[0m \u001b[43m    \u001b[49m\u001b[43murl\u001b[49m\u001b[43m,\u001b[49m\n\u001b[1;32m    707\u001b[0m \u001b[43m    \u001b[49m\u001b[43mtimeout\u001b[49m\u001b[38;5;241;43m=\u001b[39;49m\u001b[43mtimeout_obj\u001b[49m\u001b[43m,\u001b[49m\n\u001b[1;32m    708\u001b[0m \u001b[43m    \u001b[49m\u001b[43mbody\u001b[49m\u001b[38;5;241;43m=\u001b[39;49m\u001b[43mbody\u001b[49m\u001b[43m,\u001b[49m\n\u001b[1;32m    709\u001b[0m \u001b[43m    \u001b[49m\u001b[43mheaders\u001b[49m\u001b[38;5;241;43m=\u001b[39;49m\u001b[43mheaders\u001b[49m\u001b[43m,\u001b[49m\n\u001b[1;32m    710\u001b[0m \u001b[43m    \u001b[49m\u001b[43mchunked\u001b[49m\u001b[38;5;241;43m=\u001b[39;49m\u001b[43mchunked\u001b[49m\u001b[43m,\u001b[49m\n\u001b[1;32m    711\u001b[0m \u001b[43m\u001b[49m\u001b[43m)\u001b[49m\n\u001b[1;32m    713\u001b[0m \u001b[38;5;66;03m# If we're going to release the connection in ``finally:``, then\u001b[39;00m\n\u001b[1;32m    714\u001b[0m \u001b[38;5;66;03m# the response doesn't need to know about the connection. Otherwise\u001b[39;00m\n\u001b[1;32m    715\u001b[0m \u001b[38;5;66;03m# it will also try to release it and we'll have a double-release\u001b[39;00m\n\u001b[1;32m    716\u001b[0m \u001b[38;5;66;03m# mess.\u001b[39;00m\n",
      "File \u001b[0;32m/usr/local/lib/python3.10/dist-packages/urllib3/connectionpool.py:386\u001b[0m, in \u001b[0;36mHTTPConnectionPool._make_request\u001b[0;34m(self, conn, method, url, timeout, chunked, **httplib_request_kw)\u001b[0m\n\u001b[1;32m    385\u001b[0m \u001b[38;5;28;01mtry\u001b[39;00m:\n\u001b[0;32m--> 386\u001b[0m     \u001b[38;5;28;43mself\u001b[39;49m\u001b[38;5;241;43m.\u001b[39;49m\u001b[43m_validate_conn\u001b[49m\u001b[43m(\u001b[49m\u001b[43mconn\u001b[49m\u001b[43m)\u001b[49m\n\u001b[1;32m    387\u001b[0m \u001b[38;5;28;01mexcept\u001b[39;00m (SocketTimeout, BaseSSLError) \u001b[38;5;28;01mas\u001b[39;00m e:\n\u001b[1;32m    388\u001b[0m     \u001b[38;5;66;03m# Py2 raises this as a BaseSSLError, Py3 raises it as socket timeout.\u001b[39;00m\n",
      "File \u001b[0;32m/usr/local/lib/python3.10/dist-packages/urllib3/connectionpool.py:1040\u001b[0m, in \u001b[0;36mHTTPSConnectionPool._validate_conn\u001b[0;34m(self, conn)\u001b[0m\n\u001b[1;32m   1039\u001b[0m \u001b[38;5;28;01mif\u001b[39;00m \u001b[38;5;129;01mnot\u001b[39;00m \u001b[38;5;28mgetattr\u001b[39m(conn, \u001b[38;5;124m\"\u001b[39m\u001b[38;5;124msock\u001b[39m\u001b[38;5;124m\"\u001b[39m, \u001b[38;5;28;01mNone\u001b[39;00m):  \u001b[38;5;66;03m# AppEngine might not have  `.sock`\u001b[39;00m\n\u001b[0;32m-> 1040\u001b[0m     \u001b[43mconn\u001b[49m\u001b[38;5;241;43m.\u001b[39;49m\u001b[43mconnect\u001b[49m\u001b[43m(\u001b[49m\u001b[43m)\u001b[49m\n\u001b[1;32m   1042\u001b[0m \u001b[38;5;28;01mif\u001b[39;00m \u001b[38;5;129;01mnot\u001b[39;00m conn\u001b[38;5;241m.\u001b[39mis_verified:\n",
      "File \u001b[0;32m/usr/local/lib/python3.10/dist-packages/urllib3/connection.py:358\u001b[0m, in \u001b[0;36mHTTPSConnection.connect\u001b[0;34m(self)\u001b[0m\n\u001b[1;32m    356\u001b[0m \u001b[38;5;28;01mdef\u001b[39;00m \u001b[38;5;21mconnect\u001b[39m(\u001b[38;5;28mself\u001b[39m):\n\u001b[1;32m    357\u001b[0m     \u001b[38;5;66;03m# Add certificate verification\u001b[39;00m\n\u001b[0;32m--> 358\u001b[0m     \u001b[38;5;28mself\u001b[39m\u001b[38;5;241m.\u001b[39msock \u001b[38;5;241m=\u001b[39m conn \u001b[38;5;241m=\u001b[39m \u001b[38;5;28;43mself\u001b[39;49m\u001b[38;5;241;43m.\u001b[39;49m\u001b[43m_new_conn\u001b[49m\u001b[43m(\u001b[49m\u001b[43m)\u001b[49m\n\u001b[1;32m    359\u001b[0m     hostname \u001b[38;5;241m=\u001b[39m \u001b[38;5;28mself\u001b[39m\u001b[38;5;241m.\u001b[39mhost\n",
      "File \u001b[0;32m/usr/local/lib/python3.10/dist-packages/urllib3/connection.py:186\u001b[0m, in \u001b[0;36mHTTPConnection._new_conn\u001b[0;34m(self)\u001b[0m\n\u001b[1;32m    185\u001b[0m \u001b[38;5;28;01mexcept\u001b[39;00m SocketError \u001b[38;5;28;01mas\u001b[39;00m e:\n\u001b[0;32m--> 186\u001b[0m     \u001b[38;5;28;01mraise\u001b[39;00m NewConnectionError(\n\u001b[1;32m    187\u001b[0m         \u001b[38;5;28mself\u001b[39m, \u001b[38;5;124m\"\u001b[39m\u001b[38;5;124mFailed to establish a new connection: \u001b[39m\u001b[38;5;132;01m%s\u001b[39;00m\u001b[38;5;124m\"\u001b[39m \u001b[38;5;241m%\u001b[39m e\n\u001b[1;32m    188\u001b[0m     )\n\u001b[1;32m    190\u001b[0m \u001b[38;5;28;01mreturn\u001b[39;00m conn\n",
      "\u001b[0;31mNewConnectionError\u001b[0m: <urllib3.connection.HTTPSConnection object at 0x40bb1e4580>: Failed to establish a new connection: [Errno 111] Connection refused",
      "\nDuring handling of the above exception, another exception occurred:\n",
      "\u001b[0;31mMaxRetryError\u001b[0m                             Traceback (most recent call last)",
      "Input \u001b[0;32mIn [3]\u001b[0m, in \u001b[0;36m<cell line: 8>\u001b[0;34m()\u001b[0m\n\u001b[1;32m     10\u001b[0m \u001b[38;5;66;03m#df = RDataFrame(treename, filenames, \u001b[39;00m\n\u001b[1;32m     11\u001b[0m                 \u001b[38;5;66;03m#oscarclient= oscarclient | {'node_count': node_count} , \u001b[39;00m\n\u001b[1;32m     12\u001b[0m                 \u001b[38;5;66;03m#npartitions=node_count)\u001b[39;00m\n\u001b[1;32m     13\u001b[0m \u001b[38;5;66;03m#dimuon_analysis(df,node_count)\u001b[39;00m\n\u001b[1;32m     14\u001b[0m df \u001b[38;5;241m=\u001b[39m RDataFrame(nentries,oscarclient\u001b[38;5;241m=\u001b[39moscarclient, npartitions\u001b[38;5;241m=\u001b[39mnode_count)\n\u001b[0;32m---> 15\u001b[0m \u001b[43mcpubound\u001b[49m\u001b[43m(\u001b[49m\u001b[43mdf\u001b[49m\u001b[43m,\u001b[49m\u001b[43m \u001b[49m\u001b[43mexperiment_name\u001b[49m\u001b[43m)\u001b[49m\n",
      "Input \u001b[0;32mIn [1]\u001b[0m, in \u001b[0;36mcpubound\u001b[0;34m(df, folder)\u001b[0m\n\u001b[1;32m     55\u001b[0m \u001b[38;5;28mprint\u001b[39m(\u001b[38;5;124m\"\u001b[39m\u001b[38;5;124mStarting the CPU bound benchmark.\u001b[39m\u001b[38;5;124m\"\u001b[39m)\n\u001b[1;32m     56\u001b[0m t \u001b[38;5;241m=\u001b[39m ROOT\u001b[38;5;241m.\u001b[39mTStopwatch()\n\u001b[0;32m---> 57\u001b[0m first_value \u001b[38;5;241m=\u001b[39m \u001b[43moplist\u001b[49m\u001b[43m[\u001b[49m\u001b[38;5;241;43m0\u001b[39;49m\u001b[43m]\u001b[49m\u001b[38;5;241;43m.\u001b[39;49m\u001b[43mGetValue\u001b[49m\u001b[43m(\u001b[49m\u001b[43m)\u001b[49m\n\u001b[1;32m     58\u001b[0m realtime \u001b[38;5;241m=\u001b[39m \u001b[38;5;28mround\u001b[39m(t\u001b[38;5;241m.\u001b[39mRealTime(), \u001b[38;5;241m2\u001b[39m)\n\u001b[1;32m     59\u001b[0m \u001b[38;5;28mprint\u001b[39m(\u001b[38;5;124mf\u001b[39m\u001b[38;5;124m\"\u001b[39m\u001b[38;5;124mCPU bound benchmark finished in \u001b[39m\u001b[38;5;132;01m{\u001b[39;00mrealtime\u001b[38;5;132;01m}\u001b[39;00m\u001b[38;5;124m seconds.\u001b[39m\u001b[38;5;124m\"\u001b[39m)\n",
      "File \u001b[0;32m/usr/local/lib/root/DistRDF/Proxy.py:188\u001b[0m, in \u001b[0;36mActionProxy.GetValue\u001b[0;34m(self)\u001b[0m\n\u001b[1;32m    182\u001b[0m \u001b[38;5;28;01mdef\u001b[39;00m \u001b[38;5;21mGetValue\u001b[39m(\u001b[38;5;28mself\u001b[39m):\n\u001b[1;32m    183\u001b[0m     \u001b[38;5;124;03m\"\"\"\u001b[39;00m\n\u001b[1;32m    184\u001b[0m \u001b[38;5;124;03m    Returns the result value of the current action node if it was executed\u001b[39;00m\n\u001b[1;32m    185\u001b[0m \u001b[38;5;124;03m    before, else triggers the execution of the distributed graph before\u001b[39;00m\n\u001b[1;32m    186\u001b[0m \u001b[38;5;124;03m    returning the value.\u001b[39;00m\n\u001b[1;32m    187\u001b[0m \u001b[38;5;124;03m    \"\"\"\u001b[39;00m\n\u001b[0;32m--> 188\u001b[0m     \u001b[43mexecute_graph\u001b[49m\u001b[43m(\u001b[49m\u001b[38;5;28;43mself\u001b[39;49m\u001b[38;5;241;43m.\u001b[39;49m\u001b[43mproxied_node\u001b[49m\u001b[43m)\u001b[49m\n\u001b[1;32m    189\u001b[0m     \u001b[38;5;28;01mreturn\u001b[39;00m \u001b[38;5;28mself\u001b[39m\u001b[38;5;241m.\u001b[39mproxied_node\u001b[38;5;241m.\u001b[39mvalue\n",
      "File \u001b[0;32m/usr/local/lib/root/DistRDF/Proxy.py:55\u001b[0m, in \u001b[0;36mexecute_graph\u001b[0;34m(node)\u001b[0m\n\u001b[1;32m     49\u001b[0m \u001b[38;5;28;01mif\u001b[39;00m node\u001b[38;5;241m.\u001b[39mvalue \u001b[38;5;129;01mis\u001b[39;00m \u001b[38;5;28;01mNone\u001b[39;00m:  \u001b[38;5;66;03m# If event-loop not triggered\u001b[39;00m\n\u001b[1;32m     50\u001b[0m     \u001b[38;5;66;03m# Creating a ROOT.TDirectory.TContext in a context manager so that\u001b[39;00m\n\u001b[1;32m     51\u001b[0m     \u001b[38;5;66;03m# ROOT.gDirectory won't be changed by the event loop execution.\u001b[39;00m\n\u001b[1;32m     52\u001b[0m     \u001b[38;5;28;01mwith\u001b[39;00m _managed_tcontext():\n\u001b[1;32m     53\u001b[0m         \u001b[38;5;66;03m# All the information needed to reconstruct the computation graph on\u001b[39;00m\n\u001b[1;32m     54\u001b[0m         \u001b[38;5;66;03m# the workers is contained in the head node\u001b[39;00m\n\u001b[0;32m---> 55\u001b[0m         \u001b[43mnode\u001b[49m\u001b[38;5;241;43m.\u001b[39;49m\u001b[43mget_head\u001b[49m\u001b[43m(\u001b[49m\u001b[43m)\u001b[49m\u001b[38;5;241;43m.\u001b[39;49m\u001b[43mexecute_graph\u001b[49m\u001b[43m(\u001b[49m\u001b[43m)\u001b[49m\n",
      "File \u001b[0;32m/usr/local/lib/root/DistRDF/HeadNode.py:173\u001b[0m, in \u001b[0;36mHeadNode.execute_graph\u001b[0;34m(self)\u001b[0m\n\u001b[1;32m    165\u001b[0m mapper \u001b[38;5;241m=\u001b[39m partial(distrdf_mapper,\n\u001b[1;32m    166\u001b[0m                  build_rdf_from_range\u001b[38;5;241m=\u001b[39m\u001b[38;5;28mself\u001b[39m\u001b[38;5;241m.\u001b[39m_generate_rdf_creator(),\n\u001b[1;32m    167\u001b[0m                  computation_graph_callable\u001b[38;5;241m=\u001b[39mcomputation_graph_callable,\n\u001b[1;32m    168\u001b[0m                  initialization_fn\u001b[38;5;241m=\u001b[39m\u001b[38;5;28mself\u001b[39m\u001b[38;5;241m.\u001b[39mbackend\u001b[38;5;241m.\u001b[39minitialization,\n\u001b[1;32m    169\u001b[0m                  optimized\u001b[38;5;241m=\u001b[39moptimized)\n\u001b[1;32m    171\u001b[0m \u001b[38;5;66;03m# Execute graph distributedly and return the aggregated results from all\u001b[39;00m\n\u001b[1;32m    172\u001b[0m \u001b[38;5;66;03m# tasks\u001b[39;00m\n\u001b[0;32m--> 173\u001b[0m returned_values \u001b[38;5;241m=\u001b[39m \u001b[38;5;28;43mself\u001b[39;49m\u001b[38;5;241;43m.\u001b[39;49m\u001b[43mbackend\u001b[49m\u001b[38;5;241;43m.\u001b[39;49m\u001b[43mProcessAndMerge\u001b[49m\u001b[43m(\u001b[49m\u001b[38;5;28;43mself\u001b[39;49m\u001b[38;5;241;43m.\u001b[39;49m\u001b[43m_build_ranges\u001b[49m\u001b[43m(\u001b[49m\u001b[43m)\u001b[49m\u001b[43m,\u001b[49m\u001b[43m \u001b[49m\u001b[43mmapper\u001b[49m\u001b[43m,\u001b[49m\u001b[43m \u001b[49m\u001b[43mdistrdf_reducer\u001b[49m\u001b[43m)\u001b[49m\n\u001b[1;32m    174\u001b[0m \u001b[38;5;66;03m# Perform any extra checks that may be needed according to the\u001b[39;00m\n\u001b[1;32m    175\u001b[0m \u001b[38;5;66;03m# type of the head node\u001b[39;00m\n\u001b[1;32m    176\u001b[0m final_values \u001b[38;5;241m=\u001b[39m \u001b[38;5;28mself\u001b[39m\u001b[38;5;241m.\u001b[39m_handle_returned_values(returned_values)\n",
      "File \u001b[0;32m/usr/local/lib/root/DistRDF/Backends/OSCAR/Backend.py:506\u001b[0m, in \u001b[0;36mOSCARBackend.ProcessAndMerge\u001b[0;34m(self, ranges, mapper, reducer)\u001b[0m\n\u001b[1;32m    503\u001b[0m     \u001b[38;5;66;03m#print(f'Waiting for final result {target_name}, sleeping 10 seconds.', flush=True)\u001b[39;00m\n\u001b[1;32m    504\u001b[0m     sleep(\u001b[38;5;241m10\u001b[39m)\n\u001b[0;32m--> 506\u001b[0m result_response \u001b[38;5;241m=\u001b[39m \u001b[43mmc\u001b[49m\u001b[38;5;241;43m.\u001b[39;49m\u001b[43mget_object\u001b[49m\u001b[43m(\u001b[49m\u001b[43mbucket_name\u001b[49m\u001b[43m,\u001b[49m\u001b[43m  \u001b[49m\u001b[38;5;124;43mf\u001b[39;49m\u001b[38;5;124;43m'\u001b[39;49m\u001b[38;5;124;43mpartial-results/\u001b[39;49m\u001b[38;5;132;43;01m{\u001b[39;49;00m\u001b[43mtarget_name\u001b[49m\u001b[38;5;132;43;01m}\u001b[39;49;00m\u001b[38;5;124;43m'\u001b[39;49m\u001b[43m)\u001b[49m\n\u001b[1;32m    507\u001b[0m result_bytes \u001b[38;5;241m=\u001b[39m result_response\u001b[38;5;241m.\u001b[39mdata\n\u001b[1;32m    508\u001b[0m final_result \u001b[38;5;241m=\u001b[39m cloudpickle\u001b[38;5;241m.\u001b[39mloads(result_bytes)\n",
      "File \u001b[0;32m/usr/local/lib/python3.10/dist-packages/minio/api.py:1151\u001b[0m, in \u001b[0;36mMinio.get_object\u001b[0;34m(self, bucket_name, object_name, offset, length, request_headers, ssec, version_id, extra_query_params)\u001b[0m\n\u001b[1;32m   1148\u001b[0m     extra_query_params \u001b[38;5;241m=\u001b[39m extra_query_params \u001b[38;5;129;01mor\u001b[39;00m {}\n\u001b[1;32m   1149\u001b[0m     extra_query_params[\u001b[38;5;124m\"\u001b[39m\u001b[38;5;124mversionId\u001b[39m\u001b[38;5;124m\"\u001b[39m] \u001b[38;5;241m=\u001b[39m version_id\n\u001b[0;32m-> 1151\u001b[0m \u001b[38;5;28;01mreturn\u001b[39;00m \u001b[38;5;28;43mself\u001b[39;49m\u001b[38;5;241;43m.\u001b[39;49m\u001b[43m_execute\u001b[49m\u001b[43m(\u001b[49m\n\u001b[1;32m   1152\u001b[0m \u001b[43m    \u001b[49m\u001b[38;5;124;43m\"\u001b[39;49m\u001b[38;5;124;43mGET\u001b[39;49m\u001b[38;5;124;43m\"\u001b[39;49m\u001b[43m,\u001b[49m\n\u001b[1;32m   1153\u001b[0m \u001b[43m    \u001b[49m\u001b[43mbucket_name\u001b[49m\u001b[43m,\u001b[49m\n\u001b[1;32m   1154\u001b[0m \u001b[43m    \u001b[49m\u001b[43mobject_name\u001b[49m\u001b[43m,\u001b[49m\n\u001b[1;32m   1155\u001b[0m \u001b[43m    \u001b[49m\u001b[43mheaders\u001b[49m\u001b[38;5;241;43m=\u001b[39;49m\u001b[43mheaders\u001b[49m\u001b[43m,\u001b[49m\n\u001b[1;32m   1156\u001b[0m \u001b[43m    \u001b[49m\u001b[43mquery_params\u001b[49m\u001b[38;5;241;43m=\u001b[39;49m\u001b[43mextra_query_params\u001b[49m\u001b[43m,\u001b[49m\n\u001b[1;32m   1157\u001b[0m \u001b[43m    \u001b[49m\u001b[43mpreload_content\u001b[49m\u001b[38;5;241;43m=\u001b[39;49m\u001b[38;5;28;43;01mFalse\u001b[39;49;00m\u001b[43m,\u001b[49m\n\u001b[1;32m   1158\u001b[0m \u001b[43m\u001b[49m\u001b[43m)\u001b[49m\n",
      "File \u001b[0;32m/usr/local/lib/python3.10/dist-packages/minio/api.py:397\u001b[0m, in \u001b[0;36mMinio._execute\u001b[0;34m(self, method, bucket_name, object_name, body, headers, query_params, preload_content, no_body_trace)\u001b[0m\n\u001b[1;32m    394\u001b[0m region \u001b[38;5;241m=\u001b[39m \u001b[38;5;28mself\u001b[39m\u001b[38;5;241m.\u001b[39m_get_region(bucket_name, \u001b[38;5;28;01mNone\u001b[39;00m)\n\u001b[1;32m    396\u001b[0m \u001b[38;5;28;01mtry\u001b[39;00m:\n\u001b[0;32m--> 397\u001b[0m     \u001b[38;5;28;01mreturn\u001b[39;00m \u001b[38;5;28;43mself\u001b[39;49m\u001b[38;5;241;43m.\u001b[39;49m\u001b[43m_url_open\u001b[49m\u001b[43m(\u001b[49m\n\u001b[1;32m    398\u001b[0m \u001b[43m        \u001b[49m\u001b[43mmethod\u001b[49m\u001b[43m,\u001b[49m\n\u001b[1;32m    399\u001b[0m \u001b[43m        \u001b[49m\u001b[43mregion\u001b[49m\u001b[43m,\u001b[49m\n\u001b[1;32m    400\u001b[0m \u001b[43m        \u001b[49m\u001b[43mbucket_name\u001b[49m\u001b[38;5;241;43m=\u001b[39;49m\u001b[43mbucket_name\u001b[49m\u001b[43m,\u001b[49m\n\u001b[1;32m    401\u001b[0m \u001b[43m        \u001b[49m\u001b[43mobject_name\u001b[49m\u001b[38;5;241;43m=\u001b[39;49m\u001b[43mobject_name\u001b[49m\u001b[43m,\u001b[49m\n\u001b[1;32m    402\u001b[0m \u001b[43m        \u001b[49m\u001b[43mbody\u001b[49m\u001b[38;5;241;43m=\u001b[39;49m\u001b[43mbody\u001b[49m\u001b[43m,\u001b[49m\n\u001b[1;32m    403\u001b[0m \u001b[43m        \u001b[49m\u001b[43mheaders\u001b[49m\u001b[38;5;241;43m=\u001b[39;49m\u001b[43mheaders\u001b[49m\u001b[43m,\u001b[49m\n\u001b[1;32m    404\u001b[0m \u001b[43m        \u001b[49m\u001b[43mquery_params\u001b[49m\u001b[38;5;241;43m=\u001b[39;49m\u001b[43mquery_params\u001b[49m\u001b[43m,\u001b[49m\n\u001b[1;32m    405\u001b[0m \u001b[43m        \u001b[49m\u001b[43mpreload_content\u001b[49m\u001b[38;5;241;43m=\u001b[39;49m\u001b[43mpreload_content\u001b[49m\u001b[43m,\u001b[49m\n\u001b[1;32m    406\u001b[0m \u001b[43m        \u001b[49m\u001b[43mno_body_trace\u001b[49m\u001b[38;5;241;43m=\u001b[39;49m\u001b[43mno_body_trace\u001b[49m\u001b[43m,\u001b[49m\n\u001b[1;32m    407\u001b[0m \u001b[43m    \u001b[49m\u001b[43m)\u001b[49m\n\u001b[1;32m    408\u001b[0m \u001b[38;5;28;01mexcept\u001b[39;00m S3Error \u001b[38;5;28;01mas\u001b[39;00m exc:\n\u001b[1;32m    409\u001b[0m     \u001b[38;5;28;01mif\u001b[39;00m exc\u001b[38;5;241m.\u001b[39mcode \u001b[38;5;241m!=\u001b[39m \u001b[38;5;124m\"\u001b[39m\u001b[38;5;124mRetryHead\u001b[39m\u001b[38;5;124m\"\u001b[39m:\n",
      "File \u001b[0;32m/usr/local/lib/python3.10/dist-packages/minio/api.py:266\u001b[0m, in \u001b[0;36mMinio._url_open\u001b[0;34m(self, method, region, bucket_name, object_name, body, headers, query_params, preload_content, no_body_trace)\u001b[0m\n\u001b[1;32m    263\u001b[0m     \u001b[38;5;28;01melse\u001b[39;00m:\n\u001b[1;32m    264\u001b[0m         http_headers\u001b[38;5;241m.\u001b[39madd(key, value)\n\u001b[0;32m--> 266\u001b[0m response \u001b[38;5;241m=\u001b[39m \u001b[38;5;28;43mself\u001b[39;49m\u001b[38;5;241;43m.\u001b[39;49m\u001b[43m_http\u001b[49m\u001b[38;5;241;43m.\u001b[39;49m\u001b[43murlopen\u001b[49m\u001b[43m(\u001b[49m\n\u001b[1;32m    267\u001b[0m \u001b[43m    \u001b[49m\u001b[43mmethod\u001b[49m\u001b[43m,\u001b[49m\n\u001b[1;32m    268\u001b[0m \u001b[43m    \u001b[49m\u001b[43murlunsplit\u001b[49m\u001b[43m(\u001b[49m\u001b[43murl\u001b[49m\u001b[43m)\u001b[49m\u001b[43m,\u001b[49m\n\u001b[1;32m    269\u001b[0m \u001b[43m    \u001b[49m\u001b[43mbody\u001b[49m\u001b[38;5;241;43m=\u001b[39;49m\u001b[43mbody\u001b[49m\u001b[43m,\u001b[49m\n\u001b[1;32m    270\u001b[0m \u001b[43m    \u001b[49m\u001b[43mheaders\u001b[49m\u001b[38;5;241;43m=\u001b[39;49m\u001b[43mhttp_headers\u001b[49m\u001b[43m,\u001b[49m\n\u001b[1;32m    271\u001b[0m \u001b[43m    \u001b[49m\u001b[43mpreload_content\u001b[49m\u001b[38;5;241;43m=\u001b[39;49m\u001b[43mpreload_content\u001b[49m\u001b[43m,\u001b[49m\n\u001b[1;32m    272\u001b[0m \u001b[43m\u001b[49m\u001b[43m)\u001b[49m\n\u001b[1;32m    274\u001b[0m \u001b[38;5;28;01mif\u001b[39;00m \u001b[38;5;28mself\u001b[39m\u001b[38;5;241m.\u001b[39m_trace_stream:\n\u001b[1;32m    275\u001b[0m     \u001b[38;5;28mself\u001b[39m\u001b[38;5;241m.\u001b[39m_trace_stream\u001b[38;5;241m.\u001b[39mwrite(\u001b[38;5;124mf\u001b[39m\u001b[38;5;124m\"\u001b[39m\u001b[38;5;124mHTTP/1.1 \u001b[39m\u001b[38;5;132;01m{\u001b[39;00mresponse\u001b[38;5;241m.\u001b[39mstatus\u001b[38;5;132;01m}\u001b[39;00m\u001b[38;5;130;01m\\n\u001b[39;00m\u001b[38;5;124m\"\u001b[39m)\n",
      "File \u001b[0;32m/usr/local/lib/python3.10/dist-packages/urllib3/poolmanager.py:533\u001b[0m, in \u001b[0;36mProxyManager.urlopen\u001b[0;34m(self, method, url, redirect, **kw)\u001b[0m\n\u001b[1;32m    530\u001b[0m     headers \u001b[38;5;241m=\u001b[39m kw\u001b[38;5;241m.\u001b[39mget(\u001b[38;5;124m\"\u001b[39m\u001b[38;5;124mheaders\u001b[39m\u001b[38;5;124m\"\u001b[39m, \u001b[38;5;28mself\u001b[39m\u001b[38;5;241m.\u001b[39mheaders)\n\u001b[1;32m    531\u001b[0m     kw[\u001b[38;5;124m\"\u001b[39m\u001b[38;5;124mheaders\u001b[39m\u001b[38;5;124m\"\u001b[39m] \u001b[38;5;241m=\u001b[39m \u001b[38;5;28mself\u001b[39m\u001b[38;5;241m.\u001b[39m_set_proxy_headers(url, headers)\n\u001b[0;32m--> 533\u001b[0m \u001b[38;5;28;01mreturn\u001b[39;00m \u001b[38;5;28;43msuper\u001b[39;49m\u001b[43m(\u001b[49m\u001b[43mProxyManager\u001b[49m\u001b[43m,\u001b[49m\u001b[43m \u001b[49m\u001b[38;5;28;43mself\u001b[39;49m\u001b[43m)\u001b[49m\u001b[38;5;241;43m.\u001b[39;49m\u001b[43murlopen\u001b[49m\u001b[43m(\u001b[49m\u001b[43mmethod\u001b[49m\u001b[43m,\u001b[49m\u001b[43m \u001b[49m\u001b[43murl\u001b[49m\u001b[43m,\u001b[49m\u001b[43m \u001b[49m\u001b[43mredirect\u001b[49m\u001b[38;5;241;43m=\u001b[39;49m\u001b[43mredirect\u001b[49m\u001b[43m,\u001b[49m\u001b[43m \u001b[49m\u001b[38;5;241;43m*\u001b[39;49m\u001b[38;5;241;43m*\u001b[39;49m\u001b[43mkw\u001b[49m\u001b[43m)\u001b[49m\n",
      "File \u001b[0;32m/usr/local/lib/python3.10/dist-packages/urllib3/poolmanager.py:374\u001b[0m, in \u001b[0;36mPoolManager.urlopen\u001b[0;34m(self, method, url, redirect, **kw)\u001b[0m\n\u001b[1;32m    371\u001b[0m     kw[\u001b[38;5;124m\"\u001b[39m\u001b[38;5;124mheaders\u001b[39m\u001b[38;5;124m\"\u001b[39m] \u001b[38;5;241m=\u001b[39m \u001b[38;5;28mself\u001b[39m\u001b[38;5;241m.\u001b[39mheaders\u001b[38;5;241m.\u001b[39mcopy()\n\u001b[1;32m    373\u001b[0m \u001b[38;5;28;01mif\u001b[39;00m \u001b[38;5;28mself\u001b[39m\u001b[38;5;241m.\u001b[39m_proxy_requires_url_absolute_form(u):\n\u001b[0;32m--> 374\u001b[0m     response \u001b[38;5;241m=\u001b[39m \u001b[43mconn\u001b[49m\u001b[38;5;241;43m.\u001b[39;49m\u001b[43murlopen\u001b[49m\u001b[43m(\u001b[49m\u001b[43mmethod\u001b[49m\u001b[43m,\u001b[49m\u001b[43m \u001b[49m\u001b[43murl\u001b[49m\u001b[43m,\u001b[49m\u001b[43m \u001b[49m\u001b[38;5;241;43m*\u001b[39;49m\u001b[38;5;241;43m*\u001b[39;49m\u001b[43mkw\u001b[49m\u001b[43m)\u001b[49m\n\u001b[1;32m    375\u001b[0m \u001b[38;5;28;01melse\u001b[39;00m:\n\u001b[1;32m    376\u001b[0m     response \u001b[38;5;241m=\u001b[39m conn\u001b[38;5;241m.\u001b[39murlopen(method, u\u001b[38;5;241m.\u001b[39mrequest_uri, \u001b[38;5;241m*\u001b[39m\u001b[38;5;241m*\u001b[39mkw)\n",
      "File \u001b[0;32m/usr/local/lib/python3.10/dist-packages/urllib3/connectionpool.py:813\u001b[0m, in \u001b[0;36mHTTPConnectionPool.urlopen\u001b[0;34m(self, method, url, body, headers, retries, redirect, assert_same_host, timeout, pool_timeout, release_conn, chunked, body_pos, **response_kw)\u001b[0m\n\u001b[1;32m    808\u001b[0m \u001b[38;5;28;01mif\u001b[39;00m \u001b[38;5;129;01mnot\u001b[39;00m conn:\n\u001b[1;32m    809\u001b[0m     \u001b[38;5;66;03m# Try again\u001b[39;00m\n\u001b[1;32m    810\u001b[0m     log\u001b[38;5;241m.\u001b[39mwarning(\n\u001b[1;32m    811\u001b[0m         \u001b[38;5;124m\"\u001b[39m\u001b[38;5;124mRetrying (\u001b[39m\u001b[38;5;132;01m%r\u001b[39;00m\u001b[38;5;124m) after connection broken by \u001b[39m\u001b[38;5;124m'\u001b[39m\u001b[38;5;132;01m%r\u001b[39;00m\u001b[38;5;124m'\u001b[39m\u001b[38;5;124m: \u001b[39m\u001b[38;5;132;01m%s\u001b[39;00m\u001b[38;5;124m\"\u001b[39m, retries, err, url\n\u001b[1;32m    812\u001b[0m     )\n\u001b[0;32m--> 813\u001b[0m     \u001b[38;5;28;01mreturn\u001b[39;00m \u001b[38;5;28;43mself\u001b[39;49m\u001b[38;5;241;43m.\u001b[39;49m\u001b[43murlopen\u001b[49m\u001b[43m(\u001b[49m\n\u001b[1;32m    814\u001b[0m \u001b[43m        \u001b[49m\u001b[43mmethod\u001b[49m\u001b[43m,\u001b[49m\n\u001b[1;32m    815\u001b[0m \u001b[43m        \u001b[49m\u001b[43murl\u001b[49m\u001b[43m,\u001b[49m\n\u001b[1;32m    816\u001b[0m \u001b[43m        \u001b[49m\u001b[43mbody\u001b[49m\u001b[43m,\u001b[49m\n\u001b[1;32m    817\u001b[0m \u001b[43m        \u001b[49m\u001b[43mheaders\u001b[49m\u001b[43m,\u001b[49m\n\u001b[1;32m    818\u001b[0m \u001b[43m        \u001b[49m\u001b[43mretries\u001b[49m\u001b[43m,\u001b[49m\n\u001b[1;32m    819\u001b[0m \u001b[43m        \u001b[49m\u001b[43mredirect\u001b[49m\u001b[43m,\u001b[49m\n\u001b[1;32m    820\u001b[0m \u001b[43m        \u001b[49m\u001b[43massert_same_host\u001b[49m\u001b[43m,\u001b[49m\n\u001b[1;32m    821\u001b[0m \u001b[43m        \u001b[49m\u001b[43mtimeout\u001b[49m\u001b[38;5;241;43m=\u001b[39;49m\u001b[43mtimeout\u001b[49m\u001b[43m,\u001b[49m\n\u001b[1;32m    822\u001b[0m \u001b[43m        \u001b[49m\u001b[43mpool_timeout\u001b[49m\u001b[38;5;241;43m=\u001b[39;49m\u001b[43mpool_timeout\u001b[49m\u001b[43m,\u001b[49m\n\u001b[1;32m    823\u001b[0m \u001b[43m        \u001b[49m\u001b[43mrelease_conn\u001b[49m\u001b[38;5;241;43m=\u001b[39;49m\u001b[43mrelease_conn\u001b[49m\u001b[43m,\u001b[49m\n\u001b[1;32m    824\u001b[0m \u001b[43m        \u001b[49m\u001b[43mchunked\u001b[49m\u001b[38;5;241;43m=\u001b[39;49m\u001b[43mchunked\u001b[49m\u001b[43m,\u001b[49m\n\u001b[1;32m    825\u001b[0m \u001b[43m        \u001b[49m\u001b[43mbody_pos\u001b[49m\u001b[38;5;241;43m=\u001b[39;49m\u001b[43mbody_pos\u001b[49m\u001b[43m,\u001b[49m\n\u001b[1;32m    826\u001b[0m \u001b[43m        \u001b[49m\u001b[38;5;241;43m*\u001b[39;49m\u001b[38;5;241;43m*\u001b[39;49m\u001b[43mresponse_kw\u001b[49m\n\u001b[1;32m    827\u001b[0m \u001b[43m    \u001b[49m\u001b[43m)\u001b[49m\n\u001b[1;32m    829\u001b[0m \u001b[38;5;66;03m# Handle redirect?\u001b[39;00m\n\u001b[1;32m    830\u001b[0m redirect_location \u001b[38;5;241m=\u001b[39m redirect \u001b[38;5;129;01mand\u001b[39;00m response\u001b[38;5;241m.\u001b[39mget_redirect_location()\n",
      "File \u001b[0;32m/usr/local/lib/python3.10/dist-packages/urllib3/connectionpool.py:813\u001b[0m, in \u001b[0;36mHTTPConnectionPool.urlopen\u001b[0;34m(self, method, url, body, headers, retries, redirect, assert_same_host, timeout, pool_timeout, release_conn, chunked, body_pos, **response_kw)\u001b[0m\n\u001b[1;32m    808\u001b[0m \u001b[38;5;28;01mif\u001b[39;00m \u001b[38;5;129;01mnot\u001b[39;00m conn:\n\u001b[1;32m    809\u001b[0m     \u001b[38;5;66;03m# Try again\u001b[39;00m\n\u001b[1;32m    810\u001b[0m     log\u001b[38;5;241m.\u001b[39mwarning(\n\u001b[1;32m    811\u001b[0m         \u001b[38;5;124m\"\u001b[39m\u001b[38;5;124mRetrying (\u001b[39m\u001b[38;5;132;01m%r\u001b[39;00m\u001b[38;5;124m) after connection broken by \u001b[39m\u001b[38;5;124m'\u001b[39m\u001b[38;5;132;01m%r\u001b[39;00m\u001b[38;5;124m'\u001b[39m\u001b[38;5;124m: \u001b[39m\u001b[38;5;132;01m%s\u001b[39;00m\u001b[38;5;124m\"\u001b[39m, retries, err, url\n\u001b[1;32m    812\u001b[0m     )\n\u001b[0;32m--> 813\u001b[0m     \u001b[38;5;28;01mreturn\u001b[39;00m \u001b[38;5;28;43mself\u001b[39;49m\u001b[38;5;241;43m.\u001b[39;49m\u001b[43murlopen\u001b[49m\u001b[43m(\u001b[49m\n\u001b[1;32m    814\u001b[0m \u001b[43m        \u001b[49m\u001b[43mmethod\u001b[49m\u001b[43m,\u001b[49m\n\u001b[1;32m    815\u001b[0m \u001b[43m        \u001b[49m\u001b[43murl\u001b[49m\u001b[43m,\u001b[49m\n\u001b[1;32m    816\u001b[0m \u001b[43m        \u001b[49m\u001b[43mbody\u001b[49m\u001b[43m,\u001b[49m\n\u001b[1;32m    817\u001b[0m \u001b[43m        \u001b[49m\u001b[43mheaders\u001b[49m\u001b[43m,\u001b[49m\n\u001b[1;32m    818\u001b[0m \u001b[43m        \u001b[49m\u001b[43mretries\u001b[49m\u001b[43m,\u001b[49m\n\u001b[1;32m    819\u001b[0m \u001b[43m        \u001b[49m\u001b[43mredirect\u001b[49m\u001b[43m,\u001b[49m\n\u001b[1;32m    820\u001b[0m \u001b[43m        \u001b[49m\u001b[43massert_same_host\u001b[49m\u001b[43m,\u001b[49m\n\u001b[1;32m    821\u001b[0m \u001b[43m        \u001b[49m\u001b[43mtimeout\u001b[49m\u001b[38;5;241;43m=\u001b[39;49m\u001b[43mtimeout\u001b[49m\u001b[43m,\u001b[49m\n\u001b[1;32m    822\u001b[0m \u001b[43m        \u001b[49m\u001b[43mpool_timeout\u001b[49m\u001b[38;5;241;43m=\u001b[39;49m\u001b[43mpool_timeout\u001b[49m\u001b[43m,\u001b[49m\n\u001b[1;32m    823\u001b[0m \u001b[43m        \u001b[49m\u001b[43mrelease_conn\u001b[49m\u001b[38;5;241;43m=\u001b[39;49m\u001b[43mrelease_conn\u001b[49m\u001b[43m,\u001b[49m\n\u001b[1;32m    824\u001b[0m \u001b[43m        \u001b[49m\u001b[43mchunked\u001b[49m\u001b[38;5;241;43m=\u001b[39;49m\u001b[43mchunked\u001b[49m\u001b[43m,\u001b[49m\n\u001b[1;32m    825\u001b[0m \u001b[43m        \u001b[49m\u001b[43mbody_pos\u001b[49m\u001b[38;5;241;43m=\u001b[39;49m\u001b[43mbody_pos\u001b[49m\u001b[43m,\u001b[49m\n\u001b[1;32m    826\u001b[0m \u001b[43m        \u001b[49m\u001b[38;5;241;43m*\u001b[39;49m\u001b[38;5;241;43m*\u001b[39;49m\u001b[43mresponse_kw\u001b[49m\n\u001b[1;32m    827\u001b[0m \u001b[43m    \u001b[49m\u001b[43m)\u001b[49m\n\u001b[1;32m    829\u001b[0m \u001b[38;5;66;03m# Handle redirect?\u001b[39;00m\n\u001b[1;32m    830\u001b[0m redirect_location \u001b[38;5;241m=\u001b[39m redirect \u001b[38;5;129;01mand\u001b[39;00m response\u001b[38;5;241m.\u001b[39mget_redirect_location()\n",
      "File \u001b[0;32m/usr/local/lib/python3.10/dist-packages/urllib3/connectionpool.py:813\u001b[0m, in \u001b[0;36mHTTPConnectionPool.urlopen\u001b[0;34m(self, method, url, body, headers, retries, redirect, assert_same_host, timeout, pool_timeout, release_conn, chunked, body_pos, **response_kw)\u001b[0m\n\u001b[1;32m    808\u001b[0m \u001b[38;5;28;01mif\u001b[39;00m \u001b[38;5;129;01mnot\u001b[39;00m conn:\n\u001b[1;32m    809\u001b[0m     \u001b[38;5;66;03m# Try again\u001b[39;00m\n\u001b[1;32m    810\u001b[0m     log\u001b[38;5;241m.\u001b[39mwarning(\n\u001b[1;32m    811\u001b[0m         \u001b[38;5;124m\"\u001b[39m\u001b[38;5;124mRetrying (\u001b[39m\u001b[38;5;132;01m%r\u001b[39;00m\u001b[38;5;124m) after connection broken by \u001b[39m\u001b[38;5;124m'\u001b[39m\u001b[38;5;132;01m%r\u001b[39;00m\u001b[38;5;124m'\u001b[39m\u001b[38;5;124m: \u001b[39m\u001b[38;5;132;01m%s\u001b[39;00m\u001b[38;5;124m\"\u001b[39m, retries, err, url\n\u001b[1;32m    812\u001b[0m     )\n\u001b[0;32m--> 813\u001b[0m     \u001b[38;5;28;01mreturn\u001b[39;00m \u001b[38;5;28;43mself\u001b[39;49m\u001b[38;5;241;43m.\u001b[39;49m\u001b[43murlopen\u001b[49m\u001b[43m(\u001b[49m\n\u001b[1;32m    814\u001b[0m \u001b[43m        \u001b[49m\u001b[43mmethod\u001b[49m\u001b[43m,\u001b[49m\n\u001b[1;32m    815\u001b[0m \u001b[43m        \u001b[49m\u001b[43murl\u001b[49m\u001b[43m,\u001b[49m\n\u001b[1;32m    816\u001b[0m \u001b[43m        \u001b[49m\u001b[43mbody\u001b[49m\u001b[43m,\u001b[49m\n\u001b[1;32m    817\u001b[0m \u001b[43m        \u001b[49m\u001b[43mheaders\u001b[49m\u001b[43m,\u001b[49m\n\u001b[1;32m    818\u001b[0m \u001b[43m        \u001b[49m\u001b[43mretries\u001b[49m\u001b[43m,\u001b[49m\n\u001b[1;32m    819\u001b[0m \u001b[43m        \u001b[49m\u001b[43mredirect\u001b[49m\u001b[43m,\u001b[49m\n\u001b[1;32m    820\u001b[0m \u001b[43m        \u001b[49m\u001b[43massert_same_host\u001b[49m\u001b[43m,\u001b[49m\n\u001b[1;32m    821\u001b[0m \u001b[43m        \u001b[49m\u001b[43mtimeout\u001b[49m\u001b[38;5;241;43m=\u001b[39;49m\u001b[43mtimeout\u001b[49m\u001b[43m,\u001b[49m\n\u001b[1;32m    822\u001b[0m \u001b[43m        \u001b[49m\u001b[43mpool_timeout\u001b[49m\u001b[38;5;241;43m=\u001b[39;49m\u001b[43mpool_timeout\u001b[49m\u001b[43m,\u001b[49m\n\u001b[1;32m    823\u001b[0m \u001b[43m        \u001b[49m\u001b[43mrelease_conn\u001b[49m\u001b[38;5;241;43m=\u001b[39;49m\u001b[43mrelease_conn\u001b[49m\u001b[43m,\u001b[49m\n\u001b[1;32m    824\u001b[0m \u001b[43m        \u001b[49m\u001b[43mchunked\u001b[49m\u001b[38;5;241;43m=\u001b[39;49m\u001b[43mchunked\u001b[49m\u001b[43m,\u001b[49m\n\u001b[1;32m    825\u001b[0m \u001b[43m        \u001b[49m\u001b[43mbody_pos\u001b[49m\u001b[38;5;241;43m=\u001b[39;49m\u001b[43mbody_pos\u001b[49m\u001b[43m,\u001b[49m\n\u001b[1;32m    826\u001b[0m \u001b[43m        \u001b[49m\u001b[38;5;241;43m*\u001b[39;49m\u001b[38;5;241;43m*\u001b[39;49m\u001b[43mresponse_kw\u001b[49m\n\u001b[1;32m    827\u001b[0m \u001b[43m    \u001b[49m\u001b[43m)\u001b[49m\n\u001b[1;32m    829\u001b[0m \u001b[38;5;66;03m# Handle redirect?\u001b[39;00m\n\u001b[1;32m    830\u001b[0m redirect_location \u001b[38;5;241m=\u001b[39m redirect \u001b[38;5;129;01mand\u001b[39;00m response\u001b[38;5;241m.\u001b[39mget_redirect_location()\n",
      "File \u001b[0;32m/usr/local/lib/python3.10/dist-packages/urllib3/connectionpool.py:785\u001b[0m, in \u001b[0;36mHTTPConnectionPool.urlopen\u001b[0;34m(self, method, url, body, headers, retries, redirect, assert_same_host, timeout, pool_timeout, release_conn, chunked, body_pos, **response_kw)\u001b[0m\n\u001b[1;32m    782\u001b[0m \u001b[38;5;28;01melif\u001b[39;00m \u001b[38;5;28misinstance\u001b[39m(e, (SocketError, HTTPException)):\n\u001b[1;32m    783\u001b[0m     e \u001b[38;5;241m=\u001b[39m ProtocolError(\u001b[38;5;124m\"\u001b[39m\u001b[38;5;124mConnection aborted.\u001b[39m\u001b[38;5;124m\"\u001b[39m, e)\n\u001b[0;32m--> 785\u001b[0m retries \u001b[38;5;241m=\u001b[39m \u001b[43mretries\u001b[49m\u001b[38;5;241;43m.\u001b[39;49m\u001b[43mincrement\u001b[49m\u001b[43m(\u001b[49m\n\u001b[1;32m    786\u001b[0m \u001b[43m    \u001b[49m\u001b[43mmethod\u001b[49m\u001b[43m,\u001b[49m\u001b[43m \u001b[49m\u001b[43murl\u001b[49m\u001b[43m,\u001b[49m\u001b[43m \u001b[49m\u001b[43merror\u001b[49m\u001b[38;5;241;43m=\u001b[39;49m\u001b[43me\u001b[49m\u001b[43m,\u001b[49m\u001b[43m \u001b[49m\u001b[43m_pool\u001b[49m\u001b[38;5;241;43m=\u001b[39;49m\u001b[38;5;28;43mself\u001b[39;49m\u001b[43m,\u001b[49m\u001b[43m \u001b[49m\u001b[43m_stacktrace\u001b[49m\u001b[38;5;241;43m=\u001b[39;49m\u001b[43msys\u001b[49m\u001b[38;5;241;43m.\u001b[39;49m\u001b[43mexc_info\u001b[49m\u001b[43m(\u001b[49m\u001b[43m)\u001b[49m\u001b[43m[\u001b[49m\u001b[38;5;241;43m2\u001b[39;49m\u001b[43m]\u001b[49m\n\u001b[1;32m    787\u001b[0m \u001b[43m\u001b[49m\u001b[43m)\u001b[49m\n\u001b[1;32m    788\u001b[0m retries\u001b[38;5;241m.\u001b[39msleep()\n\u001b[1;32m    790\u001b[0m \u001b[38;5;66;03m# Keep track of the error for the retry warning.\u001b[39;00m\n",
      "File \u001b[0;32m/usr/local/lib/python3.10/dist-packages/urllib3/util/retry.py:592\u001b[0m, in \u001b[0;36mRetry.increment\u001b[0;34m(self, method, url, response, error, _pool, _stacktrace)\u001b[0m\n\u001b[1;32m    581\u001b[0m new_retry \u001b[38;5;241m=\u001b[39m \u001b[38;5;28mself\u001b[39m\u001b[38;5;241m.\u001b[39mnew(\n\u001b[1;32m    582\u001b[0m     total\u001b[38;5;241m=\u001b[39mtotal,\n\u001b[1;32m    583\u001b[0m     connect\u001b[38;5;241m=\u001b[39mconnect,\n\u001b[0;32m   (...)\u001b[0m\n\u001b[1;32m    588\u001b[0m     history\u001b[38;5;241m=\u001b[39mhistory,\n\u001b[1;32m    589\u001b[0m )\n\u001b[1;32m    591\u001b[0m \u001b[38;5;28;01mif\u001b[39;00m new_retry\u001b[38;5;241m.\u001b[39mis_exhausted():\n\u001b[0;32m--> 592\u001b[0m     \u001b[38;5;28;01mraise\u001b[39;00m MaxRetryError(_pool, url, error \u001b[38;5;129;01mor\u001b[39;00m ResponseError(cause))\n\u001b[1;32m    594\u001b[0m log\u001b[38;5;241m.\u001b[39mdebug(\u001b[38;5;124m\"\u001b[39m\u001b[38;5;124mIncremented Retry for (url=\u001b[39m\u001b[38;5;124m'\u001b[39m\u001b[38;5;132;01m%s\u001b[39;00m\u001b[38;5;124m'\u001b[39m\u001b[38;5;124m): \u001b[39m\u001b[38;5;132;01m%r\u001b[39;00m\u001b[38;5;124m\"\u001b[39m, url, new_retry)\n\u001b[1;32m    596\u001b[0m \u001b[38;5;28;01mreturn\u001b[39;00m new_retry\n",
      "\u001b[0;31mMaxRetryError\u001b[0m: HTTPSConnectionPool(host='158.42.106.12', port=30300): Max retries exceeded with url: http://158.42.106.12:30300/root-oscar-fd278d41-8a2c-486c-a384-541668b0a1c1-benchmark/partial-results/0_0 (Caused by ProxyError('Cannot connect to proxy.', NewConnectionError('<urllib3.connection.HTTPSConnection object at 0x40bb1e4580>: Failed to establish a new connection: [Errno 111] Connection refused')))"
     ]
    }
   ],
   "source": [
    "nentries = int(1e9)\n",
    "\n",
    "experiment_name = 'cpu_bound_0.98'\n",
    "os.mkdir(experiment_name)\n",
    "oscarclient['folder'] = experiment_name\n",
    "\n",
    "\n",
    "for node_count in [16, 8, 4, 2, 1]:\n",
    "    oscarclient['mapper_count'] = node_count\n",
    "    #df = RDataFrame(treename, filenames, \n",
    "                    #oscarclient= oscarclient | {'node_count': node_count} , \n",
    "                    #npartitions=node_count)\n",
    "    #dimuon_analysis(df,node_count)\n",
    "    df = RDataFrame(nentries,oscarclient=oscarclient, npartitions=node_count)\n",
    "    cpubound(df, experiment_name)"
   ]
  },
  {
   "cell_type": "code",
   "execution_count": null,
   "id": "835d862e",
   "metadata": {},
   "outputs": [],
   "source": []
  },
  {
   "cell_type": "code",
   "execution_count": 4,
   "id": "d7362108",
   "metadata": {
    "scrolled": true
   },
   "outputs": [
    {
     "name": "stdout",
     "output_type": "stream",
     "text": [
      "root-oscar-264285c4-098b-433f-90ae-e6c91eb68716-benchmark\n",
      "Bucket does not exist. Trying to create it.\n",
      "Creating bucket...\n",
      "Bucket created!\n",
      "Creating services...\n",
      "Creating service mapper for root-oscar-264285c4-098b-433f-90ae-e6c91eb68716-benchmark\n",
      "root-oscar-264285c4-098b-433f-90ae-e6c91eb68716-benchmark\n",
      "Creating service reducer for root-oscar-264285c4-098b-433f-90ae-e6c91eb68716-benchmark\n",
      "root-oscar-264285c4-098b-433f-90ae-e6c91eb68716-benchmark\n",
      "Done creating services!\n",
      "Client headnode\n",
      "Starting the CPU bound benchmark.\n",
      "['0_0-1_1', '2_2-3_3', '4_4-5_5', '6_6-7_7', '8_8-9_9', '10_10-11_11', '12_12-13_13', '14_14-15_15', '0_1-2_3', '4_5-6_7', '8_9-10_11', '12_13-14_15', '0_3-4_7', '8_11-12_15', '0_7-8_15']\n",
      "root-oscar-264285c4-098b-433f-90ae-e6c91eb68716-benchmark\n",
      "<Response [201]>\n",
      "<Response [201]>\n",
      "Target Name: 0_15\n",
      "Waiting for final result 0_15.\n",
      "264285c4-098b-433f-90ae-e6c91eb68716_process.csv\n",
      "264285c4-098b-433f-90ae-e6c91eb68716_usage.csv\n",
      "CPU bound benchmark finished in 158.09 seconds.\n",
      "\n"
     ]
    }
   ],
   "source": [
    "print(str(count_uuid))"
   ]
  },
  {
   "cell_type": "code",
   "execution_count": 22,
   "id": "e043669d",
   "metadata": {},
   "outputs": [
    {
     "name": "stdout",
     "output_type": "stream",
     "text": [
      "['48b30b4f-224b-4fde-b439-fa074b9d2f3c_process.csv', '48b30b4f-224b-4fde-b439-fa074b9d2f3c_usage.csv']\n"
     ]
    }
   ],
   "source": [
    "# Get file names \n",
    "file_names = []\n",
    "for line in str(file_names1).splitlines():\n",
    "    if type(line) is str:\n",
    "        if line.endswith('.csv'):\n",
    "            file_names += [line]\n",
    "            \n",
    "# Change names. \n",
    "\n"
   ]
  },
  {
   "cell_type": "code",
   "execution_count": 27,
   "id": "535448ab",
   "metadata": {},
   "outputs": [],
   "source": [
    "%%capture test\n",
    "for node_count in [1,2,3]:\n",
    "    print(node_count)"
   ]
  },
  {
   "cell_type": "code",
   "execution_count": 28,
   "id": "96fa9796",
   "metadata": {},
   "outputs": [
    {
     "name": "stdout",
     "output_type": "stream",
     "text": [
      "1\n",
      "2\n",
      "3\n",
      "\n"
     ]
    }
   ],
   "source": [
    "print(str(test))"
   ]
  },
  {
   "cell_type": "markdown",
   "id": "d4c9bc89",
   "metadata": {},
   "source": [
    "# Plotting"
   ]
  },
  {
   "cell_type": "code",
   "execution_count": null,
   "id": "f4604355",
   "metadata": {},
   "outputs": [],
   "source": [
    "df = pd.read_csv('MinioData/96_usage.csv' , delimiter='|')\n",
    "\n",
    "mappers = df[df['function'] == 'mapper']\n",
    "\n",
    "cpu_figs = make_subplots(rows=2, cols=2, \n",
    "                         subplot_titles = ['Mapper 0','Mapper 1','Mapper 2','Mapper 3'],\n",
    "                         x_title='Time (s)', y_title='CPU Usage (%)')\n",
    "        \n",
    "mem_figs = make_subplots(rows=2, cols=2, \n",
    "                         subplot_titles = ['Mapper 0','Mapper 1','Mapper 2','Mapper 3'],\n",
    "                         x_title='Time (s)', y_title='Memory Usage (%)')\n",
    "row = 1\n",
    "col = 1\n",
    "\n",
    "\n",
    "for id in ['0_0', '1_1', '2_2', '3_3']:\n",
    "    mapper_data = mappers[mappers['id'] == id]\n",
    "    \n",
    "    cpu_figs.add_trace(\n",
    "        go.Scatter(x=mapper_data['time'],\n",
    "                   y=mapper_data['cpu_percent'],\n",
    "                   showlegend=False),\n",
    "        row=row, col=col\n",
    "    )\n",
    "    \n",
    "    mem_figs.add_trace(\n",
    "        go.Scatter(x=mapper_data['time'],\n",
    "                   y=mapper_data['mem_percent'],\n",
    "                   showlegend=False),\n",
    "        row=row, col=col\n",
    "    )\n",
    "    \n",
    "    col += 1\n",
    "    if col > 2:\n",
    "        col = 1\n",
    "        row +=1\n",
    "cpu_figs.show()\n",
    "mem_figs.show()"
   ]
  },
  {
   "cell_type": "code",
   "execution_count": null,
   "id": "654d8ebe",
   "metadata": {},
   "outputs": [],
   "source": [
    "df = pd.read_csv('48b30b4f-224b-4fde-b439-fa074b9d2f3c_process.csv' , delimiter='|')\n",
    "\n",
    "mapper = df[df['function'] == 'mapper']\n",
    "mem_cols = ['function', 'id', 'phase'] +  [col for col in mapper if col.startswith('mem_')]\n",
    "mapper_mem = mapper[mem_cols]\n",
    "mapper_mem"
   ]
  },
  {
   "cell_type": "code",
   "execution_count": null,
   "id": "0aedc286",
   "metadata": {},
   "outputs": [],
   "source": [
    "df2 = df = pd.read_csv('11768b06-1565-47cf-9b31-e8eff20b9d03_usage.csv' , delimiter='|')\n",
    "usage = df2[df2['function'] == 'mapper']\n",
    "usage"
   ]
  },
  {
   "cell_type": "code",
   "execution_count": 27,
   "id": "ebfe59e8",
   "metadata": {},
   "outputs": [],
   "source": [
    "%%capture dsa\n",
    "print('asd')\n",
    "print('dsa')"
   ]
  },
  {
   "cell_type": "code",
   "execution_count": 28,
   "id": "eb863348",
   "metadata": {},
   "outputs": [
    {
     "data": {
      "text/plain": [
       "['asd', 'dsa']"
      ]
     },
     "execution_count": 28,
     "metadata": {},
     "output_type": "execute_result"
    }
   ],
   "source": [
    "str(dsa).splitlines()"
   ]
  },
  {
   "cell_type": "code",
   "execution_count": null,
   "id": "08de791b",
   "metadata": {},
   "outputs": [],
   "source": []
  }
 ],
 "metadata": {
  "kernelspec": {
   "display_name": "Python 3 (ipykernel)",
   "language": "python",
   "name": "python3"
  },
  "language_info": {
   "codemirror_mode": {
    "name": "ipython",
    "version": 3
   },
   "file_extension": ".py",
   "mimetype": "text/x-python",
   "name": "python",
   "nbconvert_exporter": "python",
   "pygments_lexer": "ipython3",
   "version": "3.10.4"
  }
 },
 "nbformat": 4,
 "nbformat_minor": 5
}
