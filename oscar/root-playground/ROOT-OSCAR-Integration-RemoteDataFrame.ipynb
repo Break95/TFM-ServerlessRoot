{
 "cells": [
  {
   "cell_type": "markdown",
   "id": "c318ce6c",
   "metadata": {},
   "source": [
    "## ROOT Implementation"
   ]
  },
  {
   "cell_type": "code",
   "execution_count": null,
   "id": "31b1b485",
   "metadata": {},
   "outputs": [],
   "source": [
    "import ROOT\n",
    "import os\n",
    "\n",
    "RDataFrame = ROOT.RDF.Experimental.Distributed.OSCAR.RDataFrame\n",
    "\n",
    "oscarclient = {\n",
    "    \"minio_endpoint\": os.environ['minio_endpoint'],\n",
    "    \"minio_access\":   os.environ['minio_access'],\n",
    "    \"minio_secret\":   os.environ['minio_secret'],\n",
    "    \"bucket_name\": 'root-oscar',\n",
    "    # Optional arguments\n",
    "    \"benchmarking\" : True,\n",
    "    \"oscar_endpoint\": f\"{os.environ['oscar_endpoint']}\",\n",
    "    \"oscar_access\":   os.environ['oscar_access'],\n",
    "    \"oscar_secret\":   os.environ['oscar_secret']\n",
    "}"
   ]
  },
  {
   "cell_type": "code",
   "execution_count": null,
   "id": "d9c260c2",
   "metadata": {},
   "outputs": [],
   "source": [
    "def dimuon_analysis(df):\n",
    "    # For simplicity, select only events with exactly two muons and require opposite charge\n",
    "    df_2mu = df.Filter(\"nMuon == 2\", \"Events with exactly two muons\")\n",
    "    df_os = df_2mu.Filter(\"Muon_charge[0] != Muon_charge[1]\", \"Muons with opposite charge\")\n",
    "    \n",
    "    # Compute invariant mass of the dimuon system\n",
    "    df_mass = df_os.Define(\"Dimuon_mass\", \"InvariantMass(Muon_pt, Muon_eta, Muon_phi, Muon_mass)\")\n",
    "    \n",
    "    # Make histogram of dimuon mass spectrum. Note how we can set titles and axis labels in one go.\n",
    "    h = df_mass.Histo1D((\"Dimuon_mass\", \"Dimuon mass;m_{#mu#mu} (GeV);N_{Events}\", 30000, 0.25, 300), \"Dimuon_mass\")\n",
    "    \n",
    "    # Produce plot\n",
    "    ROOT.gStyle.SetOptStat(0); ROOT.gStyle.SetTextFont(42)\n",
    "    c = ROOT.TCanvas(\"c\", \"\", 800, 700)\n",
    "    c.SetLogx(); c.SetLogy()\n",
    "    \n",
    "    watch = ROOT.TStopwatch()\n",
    "    h.SetTitle(\"\")\n",
    "    print(f\"Time elapsed {watch.RealTime()}\")\n",
    "    h.GetXaxis().SetTitleSize(0.04)\n",
    "    h.GetYaxis().SetTitleSize(0.04)\n",
    "    h.Draw()\n",
    "    \n",
    "    label = ROOT.TLatex(); label.SetNDC(True)\n",
    "    label.DrawLatex(0.175, 0.740, \"#eta\")\n",
    "    label.DrawLatex(0.205, 0.775, \"#rho,#omega\")\n",
    "    label.DrawLatex(0.270, 0.740, \"#phi\")\n",
    "    label.DrawLatex(0.400, 0.800, \"J/#psi\")\n",
    "    label.DrawLatex(0.415, 0.670, \"#psi'\")\n",
    "    label.DrawLatex(0.485, 0.700, \"Y(1,2,3S)\")\n",
    "    label.DrawLatex(0.755, 0.680, \"Z\")\n",
    "    label.SetTextSize(0.040); label.DrawLatex(0.100, 0.920, \"#bf{CMS Open Data}\")\n",
    "    label.SetTextSize(0.030); label.DrawLatex(0.630, 0.920, \"#sqrt{s} = 8 TeV, L_{int} = 11.6 fb^{-1}\")\n",
    "    \n",
    "    c.SaveAs(\"dimuon_spectrum.pdf\")"
   ]
  },
  {
   "cell_type": "code",
   "execution_count": null,
   "id": "c365baeb",
   "metadata": {},
   "outputs": [],
   "source": [
    "# Create dataframe from NanoAOD files\n",
    "filenames = [\"root://eospublic.cern.ch//eos/opendata/cms/derived-data/AOD2NanoAODOutreachTool/Run2012BC_DoubleMuParked_Muons.root\"]\n",
    "#filenames = filenames * 4\n",
    "treename = \"Events\"\n",
    "df = RDataFrame(treename, filenames, oscarclient=oscarclient, npartitions=8)"
   ]
  },
  {
   "cell_type": "code",
   "execution_count": null,
   "id": "d86a14f2",
   "metadata": {
    "scrolled": false
   },
   "outputs": [],
   "source": [
    "dimuon_analysis(df)"
   ]
  },
  {
   "cell_type": "code",
   "execution_count": null,
   "id": "acc950d0",
   "metadata": {},
   "outputs": [],
   "source": [
    "# Plot generation\n",
    "import csv\n",
    "import sys\n",
    "import pandas as pd\n",
    "import plotly.express as px\n",
    "\n",
    "df = pd.read_csv('678285da-83fc-4743-9011-38728295fb9c_usage.csv' , delimiter='|')\n",
    "df.head()"
   ]
  },
  {
   "cell_type": "code",
   "execution_count": null,
   "id": "73eb9e80",
   "metadata": {},
   "outputs": [],
   "source": [
    "mappers = df[df['function'] == 'mapper']\n",
    "map0 = mappers[mappers['id'] == '5_5']\n",
    "\n",
    "cpu_fig = px.line(map0,\n",
    "                 x='time',\n",
    "                 y='cpu_percent',\n",
    "                 title='CPU usage of mapper 0')\n",
    "\n",
    "mem_fig = px.line(map0,\n",
    "                 x='time',\n",
    "                 y='mem_percent',\n",
    "                 title='Memory usage of mapper 0')"
   ]
  },
  {
   "cell_type": "code",
   "execution_count": null,
   "id": "d59800f1",
   "metadata": {},
   "outputs": [],
   "source": [
    "cpu_fig.show()"
   ]
  },
  {
   "cell_type": "code",
   "execution_count": null,
   "id": "8c841850",
   "metadata": {},
   "outputs": [],
   "source": [
    "mem_fig.show()"
   ]
  },
  {
   "cell_type": "markdown",
   "id": "b0c2da2a",
   "metadata": {},
   "source": [
    "## Testing with dataset in local minio."
   ]
  },
  {
   "cell_type": "code",
   "execution_count": null,
   "id": "090d8e1d",
   "metadata": {},
   "outputs": [],
   "source": [
    "# Da fallo con presigned url. Probablemente por como funciona TWebFile::GetHead -> forbidden 403\n",
    "# que genera otro 403 aqui -> TWebFile::GetFromWeb10 \n",
    "#minio_data = 'https://158.42.106.12:30300/root-common/dimuon_data.root'\n",
    "#aws_data = 'https://test-cern-data.s3.amazonaws.com/dimuon_data.root'"
   ]
  },
  {
   "cell_type": "code",
   "execution_count": null,
   "id": "f8037ee8",
   "metadata": {},
   "outputs": [],
   "source": [
    "#filenames = [minio_data]\n",
    "#treename = \"Events\"\n",
    "#df = RDataFrame(treename, filenames, oscarclient=oscarclient, npartitions=2)"
   ]
  },
  {
   "cell_type": "code",
   "execution_count": null,
   "id": "d7362108",
   "metadata": {},
   "outputs": [],
   "source": [
    "#dimuon_analysis(df)"
   ]
  }
 ],
 "metadata": {
  "kernelspec": {
   "display_name": "Python 3 (ipykernel)",
   "language": "python",
   "name": "python3"
  },
  "language_info": {
   "codemirror_mode": {
    "name": "ipython",
    "version": 3
   },
   "file_extension": ".py",
   "mimetype": "text/x-python",
   "name": "python",
   "nbconvert_exporter": "python",
   "pygments_lexer": "ipython3",
   "version": "3.10.4"
  }
 },
 "nbformat": 4,
 "nbformat_minor": 5
}
