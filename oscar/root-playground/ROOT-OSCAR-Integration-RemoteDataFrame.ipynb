{
 "cells": [
  {
   "cell_type": "markdown",
   "id": "c318ce6c",
   "metadata": {},
   "source": [
    "## ROOT Implementation"
   ]
  },
  {
   "cell_type": "code",
   "execution_count": 1,
   "id": "31b1b485",
   "metadata": {},
   "outputs": [
    {
     "name": "stdout",
     "output_type": "stream",
     "text": [
      "Welcome to JupyROOT 6.27/01\n"
     ]
    }
   ],
   "source": [
    "import ROOT\n",
    "import os\n",
    "\n",
    "RDataFrame = ROOT.RDF.Experimental.Distributed.OSCAR.RDataFrame\n",
    "\n",
    "oscarclient = {\n",
    "    \"minio_endpoint\": os.environ['minio_endpoint'],\n",
    "    \"minio_access\":   os.environ['minio_access'],\n",
    "    \"minio_secret\":   os.environ['minio_secret'],\n",
    "    \"bucket_name\": 'root-oscar',\n",
    "    # Optional arguments\n",
    "    \"benchmarking\" : True,\n",
    "    \"oscar_endpoint\": f\"{os.environ['oscar_endpoint']}\",\n",
    "    \"oscar_access\":   os.environ['oscar_access'],\n",
    "    \"oscar_secret\":   os.environ['oscar_secret']\n",
    "}"
   ]
  },
  {
   "cell_type": "code",
   "execution_count": 2,
   "id": "d9c260c2",
   "metadata": {},
   "outputs": [],
   "source": [
    "def dimuon_analysis(df):\n",
    "    # For simplicity, select only events with exactly two muons and require opposite charge\n",
    "    df_2mu = df.Filter(\"nMuon == 2\", \"Events with exactly two muons\")\n",
    "    df_os = df_2mu.Filter(\"Muon_charge[0] != Muon_charge[1]\", \"Muons with opposite charge\")\n",
    "    \n",
    "    # Compute invariant mass of the dimuon system\n",
    "    df_mass = df_os.Define(\"Dimuon_mass\", \"InvariantMass(Muon_pt, Muon_eta, Muon_phi, Muon_mass)\")\n",
    "    \n",
    "    # Make histogram of dimuon mass spectrum. Note how we can set titles and axis labels in one go.\n",
    "    h = df_mass.Histo1D((\"Dimuon_mass\", \"Dimuon mass;m_{#mu#mu} (GeV);N_{Events}\", 30000, 0.25, 300), \"Dimuon_mass\")\n",
    "    \n",
    "    # Produce plot\n",
    "    ROOT.gStyle.SetOptStat(0); ROOT.gStyle.SetTextFont(42)\n",
    "    c = ROOT.TCanvas(\"c\", \"\", 800, 700)\n",
    "    c.SetLogx(); c.SetLogy()\n",
    "    \n",
    "    watch = ROOT.TStopwatch()\n",
    "    h.SetTitle(\"\")\n",
    "    print(f\"Time elapsed {watch.RealTime()}\")\n",
    "    h.GetXaxis().SetTitleSize(0.04)\n",
    "    h.GetYaxis().SetTitleSize(0.04)\n",
    "    h.Draw()\n",
    "    \n",
    "    label = ROOT.TLatex(); label.SetNDC(True)\n",
    "    label.DrawLatex(0.175, 0.740, \"#eta\")\n",
    "    label.DrawLatex(0.205, 0.775, \"#rho,#omega\")\n",
    "    label.DrawLatex(0.270, 0.740, \"#phi\")\n",
    "    label.DrawLatex(0.400, 0.800, \"J/#psi\")\n",
    "    label.DrawLatex(0.415, 0.670, \"#psi'\")\n",
    "    label.DrawLatex(0.485, 0.700, \"Y(1,2,3S)\")\n",
    "    label.DrawLatex(0.755, 0.680, \"Z\")\n",
    "    label.SetTextSize(0.040); label.DrawLatex(0.100, 0.920, \"#bf{CMS Open Data}\")\n",
    "    label.SetTextSize(0.030); label.DrawLatex(0.630, 0.920, \"#sqrt{s} = 8 TeV, L_{int} = 11.6 fb^{-1}\")\n",
    "    \n",
    "    c.SaveAs(\"dimuon_spectrum.pdf\")"
   ]
  },
  {
   "cell_type": "code",
   "execution_count": null,
   "id": "c365baeb",
   "metadata": {},
   "outputs": [],
   "source": [
    "# Create dataframe from NanoAOD files\n",
    "filenames = [\"root://eospublic.cern.ch//eos/opendata/cms/derived-data/AOD2NanoAODOutreachTool/Run2012BC_DoubleMuParked_Muons.root\"]\n",
    "#filenames = filenames * 4\n",
    "treename = \"Events\"\n",
    "df = RDataFrame(treename, filenames, oscarclient=oscarclient, npartitions=8)"
   ]
  },
  {
   "cell_type": "code",
   "execution_count": null,
   "id": "d86a14f2",
   "metadata": {
    "scrolled": false
   },
   "outputs": [],
   "source": [
    "dimuon_analysis(df)"
   ]
  },
  {
   "cell_type": "code",
   "execution_count": null,
   "id": "acc950d0",
   "metadata": {},
   "outputs": [],
   "source": [
    "# Plot generation\n",
    "import csv\n",
    "import sys\n",
    "import pandas as pd\n",
    "import plotly.graph_objects as go\n",
    "from plotly.subplots import make_subplots\n",
    "\n",
    "#df = pd.read_csv('fe511af1-a485-48eb-89fe-9067c2bb457f_usage.csv' , delimiter='|')\n",
    "df = pd.read_csv('d132ba4a-8b6b-4916-b8d0-398d00a193ab_usage.csv' , delimiter='|')\n",
    "df.head()"
   ]
  },
  {
   "cell_type": "code",
   "execution_count": null,
   "id": "21dad12d",
   "metadata": {},
   "outputs": [],
   "source": []
  },
  {
   "cell_type": "code",
   "execution_count": null,
   "id": "73eb9e80",
   "metadata": {},
   "outputs": [],
   "source": [
    "mappers = df[df['function'] == 'mapper']\n",
    "\n",
    "cpu_figs = make_subplots(rows=2, cols=2, \n",
    "                         subplot_titles = ['Mapper 0','Mapper 1','Mapper 2','Mapper 3'],\n",
    "                         x_title='Time (s)', y_title='CPU Usage (%)')\n",
    "        \n",
    "mem_figs = make_subplots(rows=2, cols=2, \n",
    "                         subplot_titles = ['Mapper 0','Mapper 1','Mapper 2','Mapper 3'],\n",
    "                         x_title='Time (s)', y_title='Memory Usage (%)')\n",
    "row = 1\n",
    "col = 1\n",
    "\n",
    "\n",
    "for id in ['0_0', '1_1', '2_2', '3_3']:\n",
    "    mapper_data = mappers[mappers['id'] == id]\n",
    "    \n",
    "    cpu_figs.add_trace(\n",
    "        go.Scatter(x=mapper_data['time'],\n",
    "                   y=mapper_data['cpu_percent'],\n",
    "                   showlegend=False),\n",
    "        row=row, col=col\n",
    "    )\n",
    "    \n",
    "    mem_figs.add_trace(\n",
    "        go.Scatter(x=mapper_data['time'],\n",
    "                   y=mapper_data['mem_percent'],\n",
    "                   showlegend=False),\n",
    "        row=row, col=col\n",
    "    )\n",
    "    \n",
    "    col += 1\n",
    "    if col > 2:\n",
    "        col = 1\n",
    "        row +=1"
   ]
  },
  {
   "cell_type": "code",
   "execution_count": null,
   "id": "d59800f1",
   "metadata": {
    "scrolled": true
   },
   "outputs": [],
   "source": [
    "cpu_figs.show()"
   ]
  },
  {
   "cell_type": "code",
   "execution_count": null,
   "id": "8c841850",
   "metadata": {
    "scrolled": true
   },
   "outputs": [],
   "source": [
    "mem_figs.show()"
   ]
  },
  {
   "cell_type": "code",
   "execution_count": null,
   "id": "ddbbb3be",
   "metadata": {},
   "outputs": [],
   "source": [
    "df2 = pd.read_csv('fe511af1-a485-48eb-89fe-9067c2bb457f_process.csv' , delimiter='|')\n",
    "df2.head()"
   ]
  },
  {
   "cell_type": "code",
   "execution_count": null,
   "id": "07ed48c8",
   "metadata": {
    "scrolled": true
   },
   "outputs": [],
   "source": [
    "ids = ['function', 'id', 'phase'] \n",
    "mem_cols = ids + [col for col in df2 if col.startswith('mem_')]\n",
    "df2_mem = df2[mem_cols]\n",
    "df2_mem"
   ]
  },
  {
   "cell_type": "code",
   "execution_count": null,
   "id": "b946400b",
   "metadata": {},
   "outputs": [],
   "source": [
    "net_io_cols = ids + [ col for col in df2 if col.startswith('net_')]\n",
    "df2_net_io = df2[net_io_cols]\n",
    "df2_net_io.head()"
   ]
  },
  {
   "cell_type": "code",
   "execution_count": null,
   "id": "b8cabb1b",
   "metadata": {},
   "outputs": [],
   "source": [
    "io_cols = ids + [col for col in df2 if col.startswith('io_')]\n",
    "df2_io = df2[io_cols]\n",
    "df2_io.head()"
   ]
  },
  {
   "cell_type": "code",
   "execution_count": null,
   "id": "6944793f",
   "metadata": {},
   "outputs": [],
   "source": [
    "ctx_cols = ids + [col for col in df2 if col.startswith('ctx_')]\n",
    "df2_ctx = df2[ctx_cols]\n",
    "df2_ctx.head()"
   ]
  },
  {
   "cell_type": "code",
   "execution_count": null,
   "id": "f85c3fa3",
   "metadata": {},
   "outputs": [],
   "source": []
  },
  {
   "cell_type": "markdown",
   "id": "b0c2da2a",
   "metadata": {},
   "source": [
    "## Testing with dataset in local minio."
   ]
  },
  {
   "cell_type": "code",
   "execution_count": 1,
   "id": "ccbd28e5",
   "metadata": {},
   "outputs": [],
   "source": [
    "def dimuon_analysis(df, node_count):\n",
    "    # For simplicity, select only events with exactly two muons and require opposite charge\n",
    "    df_2mu = df.Filter(\"nMuon == 2\", \"Events with exactly two muons\")\n",
    "    df_os = df_2mu.Filter(\"Muon_charge[0] != Muon_charge[1]\", \"Muons with opposite charge\")\n",
    "    \n",
    "    # Compute invariant mass of the dimuon system\n",
    "    df_mass = df_os.Define(\"Dimuon_mass\", \"InvariantMass(Muon_pt, Muon_eta, Muon_phi, Muon_mass)\")\n",
    "    \n",
    "    # Make histogram of dimuon mass spectrum. Note how we can set titles and axis labels in one go.\n",
    "    h = df_mass.Histo1D((\"Dimuon_mass\", \"Dimuon mass;m_{#mu#mu} (GeV);N_{Events}\", 30000, 0.25, 300), \"Dimuon_mass\")\n",
    "    \n",
    "    # Produce plot\n",
    "    ROOT.gStyle.SetOptStat(0); ROOT.gStyle.SetTextFont(42)\n",
    "    c = ROOT.TCanvas(\"c\", \"\", 800, 700)\n",
    "    c.SetLogx(); c.SetLogy()\n",
    "    \n",
    "    watch = ROOT.TStopwatch()\n",
    "    h.SetTitle(\"\")\n",
    "    print(f\"Time elapsed {watch.RealTime()}\")\n",
    "    h.GetXaxis().SetTitleSize(0.04)\n",
    "    h.GetYaxis().SetTitleSize(0.04)\n",
    "    h.Draw()\n",
    "    \n",
    "    label = ROOT.TLatex(); label.SetNDC(True)\n",
    "    label.DrawLatex(0.175, 0.740, \"#eta\")\n",
    "    label.DrawLatex(0.205, 0.775, \"#rho,#omega\")\n",
    "    label.DrawLatex(0.270, 0.740, \"#phi\")\n",
    "    label.DrawLatex(0.400, 0.800, \"J/#psi\")\n",
    "    label.DrawLatex(0.415, 0.670, \"#psi'\")\n",
    "    label.DrawLatex(0.485, 0.700, \"Y(1,2,3S)\")\n",
    "    label.DrawLatex(0.755, 0.680, \"Z\")\n",
    "    label.SetTextSize(0.040); label.DrawLatex(0.100, 0.920, \"#bf{CMS Open Data}\")\n",
    "    label.SetTextSize(0.030); label.DrawLatex(0.630, 0.920, \"#sqrt{s} = 8 TeV, L_{int} = 11.6 fb^{-1}\")\n",
    "    \n",
    "    c.SaveAs(f\"dimuon_spectrum_{node_count}.pdf\")\n",
    "    \n",
    "def cpubound(df):\n",
    "    # Decide parameters of the random distributions of the RDF columns\n",
    "    gaus_mean = 10\n",
    "    gaus_sigma = 1\n",
    "    exp_tau = 20\n",
    "    poisson_mean = 30\n",
    "\n",
    "    df_withcols = df.Define(\"x\",f\"gRandom->Gaus({gaus_mean},{gaus_sigma})\")\\\n",
    "                    .Define(\"y\",f\"gRandom->Exp({exp_tau})\")\\\n",
    "                    .Define(\"z\",f\"gRandom->PoissonD({poisson_mean})\")\n",
    "\n",
    "    # Decide how many operations per column you want to run\n",
    "    # Increasing this would increase the overall runtime\n",
    "    nops_percol = 10\n",
    "    oplist = [df_withcols.Mean(f\"{colname}\") for colname in [\"x\",\"y\",\"z\"] for _ in range(nops_percol)]\n",
    "\n",
    "    # Start a stopwatch and trigger the execution of the computation graph.\n",
    "    # Asking for the first value in the list is enough to trigger everything\n",
    "    print(\"Starting the CPU bound benchmark.\")\n",
    "    t = ROOT.TStopwatch()\n",
    "    first_value = oplist[0].GetValue()\n",
    "    realtime = round(t.RealTime(), 2)\n",
    "    print(f\"CPU bound benchmark finished in {realtime} seconds.\")\n",
    "\n",
    "    # Decide the name of the output csv to store runtime information.\n",
    "    outcsv = f\"distrdf_cpubound_{realtime}.csv\"\n",
    "    \n",
    "    with open(outcsv, \"a+\") as f:\n",
    "        f.write(str(realtime))\n",
    "        f.write(\"\\n\")\n"
   ]
  },
  {
   "cell_type": "code",
   "execution_count": 2,
   "id": "090d8e1d",
   "metadata": {},
   "outputs": [
    {
     "name": "stdout",
     "output_type": "stream",
     "text": [
      "Welcome to JupyROOT 6.27/01\n"
     ]
    }
   ],
   "source": [
    "import ROOT\n",
    "import os\n",
    "\n",
    "# Plot generation\n",
    "import csv\n",
    "import sys\n",
    "import pandas as pd\n",
    "import plotly.graph_objects as go\n",
    "from plotly.subplots import make_subplots\n",
    "\n",
    "oscarclient = {\n",
    "    \"minio_endpoint\": os.environ['minio_endpoint'],\n",
    "    \"minio_access\":   os.environ['minio_access'],\n",
    "    \"minio_secret\":   os.environ['minio_secret'],\n",
    "    \"bucket_name\": 'root-oscar',\n",
    "    # Optional arguments\n",
    "    \"benchmarking\" : True,\n",
    "    \"oscar_endpoint\": f\"{os.environ['oscar_endpoint']}\",\n",
    "    \"oscar_access\":   os.environ['oscar_access'],\n",
    "    \"oscar_secret\":   os.environ['oscar_secret']\n",
    "}\n",
    "\n",
    "\n",
    "minio_data = 'https://158.42.106.12:30300/root-common/dimuon_data.root'\n",
    "#aws_data = 'https://test-cern-data.s3.amazonaws.com/dimuon_data.root'\n",
    "cern_data = \"root://eospublic.cern.ch//eos/opendata/cms/derived-data/AOD2NanoAODOutreachTool/Run2012BC_DoubleMuParked_Muons.root\"\n",
    "\n",
    "filenames = [cern_data] * 100\n",
    "treename = \"Events\"\n",
    "#RDataFrame = ROOT.RDF.Experimental.Distributed.OSCAR.RDataFrame\n",
    "RDataFrame = ROOT.RDataFrame"
   ]
  },
  {
   "cell_type": "code",
   "execution_count": 3,
   "id": "f8037ee8",
   "metadata": {},
   "outputs": [
    {
     "name": "stdout",
     "output_type": "stream",
     "text": [
      "root-oscar-08e63792-be0b-474c-aa6b-0326ec40a352-benchmark\n",
      "Bucket does not exist. Trying to create it.\n",
      "Creating bucket...\n",
      "Bucket created!\n",
      "Creating services...\n",
      "Creating service mapper for root-oscar-08e63792-be0b-474c-aa6b-0326ec40a352-benchmark\n",
      "root-oscar-08e63792-be0b-474c-aa6b-0326ec40a352-benchmark\n",
      "Creating service reducer for root-oscar-08e63792-be0b-474c-aa6b-0326ec40a352-benchmark\n",
      "root-oscar-08e63792-be0b-474c-aa6b-0326ec40a352-benchmark\n",
      "Done creating services!\n",
      "Client headnode\n",
      "Starting the CPU bound benchmark.\n",
      "['0_0-1_1', '2_2-3_3', '4_4-5_5', '6_6-7_7', '0_1-2_3', '4_5-6_7', '0_3-4_7']\n",
      "root-oscar-08e63792-be0b-474c-aa6b-0326ec40a352-benchmark\n",
      "<Response [201]>\n",
      "<Response [201]>\n",
      "0   0   125000000\n",
      "1   125000000   250000000\n",
      "2   250000000   375000000\n",
      "3   375000000   500000000\n",
      "4   500000000   625000000\n",
      "5   625000000   750000000\n",
      "6   750000000   875000000\n",
      "7   875000000   1000000000\n",
      "Target Name: 0_7\n",
      "Waiting for final result 0_7.\n",
      "08e63792-be0b-474c-aa6b-0326ec40a352_process.csv\n",
      "08e63792-be0b-474c-aa6b-0326ec40a352_usage.csv\n",
      "CPU bound benchmark finished in 254.4 seconds.\n"
     ]
    }
   ],
   "source": [
    "nentries = int(1e9)\n",
    "for node_count in [8]:\n",
    "    #df = RDataFrame(treename, filenames, \n",
    "                    #oscarclient= oscarclient | {'node_count': node_count} , \n",
    "                    #npartitions=node_count)\n",
    "    #dimuon_analysis(df,node_count)\n",
    "    df = RDataFrame(nentries, oscarclient=oscarclient, npartitions=node_count)\n",
    "    cpubound(df)"
   ]
  },
  {
   "cell_type": "code",
   "execution_count": null,
   "id": "835d862e",
   "metadata": {},
   "outputs": [],
   "source": []
  },
  {
   "cell_type": "code",
   "execution_count": 4,
   "id": "d7362108",
   "metadata": {
    "scrolled": true
   },
   "outputs": [
    {
     "name": "stdout",
     "output_type": "stream",
     "text": [
      "root-oscar-264285c4-098b-433f-90ae-e6c91eb68716-benchmark\n",
      "Bucket does not exist. Trying to create it.\n",
      "Creating bucket...\n",
      "Bucket created!\n",
      "Creating services...\n",
      "Creating service mapper for root-oscar-264285c4-098b-433f-90ae-e6c91eb68716-benchmark\n",
      "root-oscar-264285c4-098b-433f-90ae-e6c91eb68716-benchmark\n",
      "Creating service reducer for root-oscar-264285c4-098b-433f-90ae-e6c91eb68716-benchmark\n",
      "root-oscar-264285c4-098b-433f-90ae-e6c91eb68716-benchmark\n",
      "Done creating services!\n",
      "Client headnode\n",
      "Starting the CPU bound benchmark.\n",
      "['0_0-1_1', '2_2-3_3', '4_4-5_5', '6_6-7_7', '8_8-9_9', '10_10-11_11', '12_12-13_13', '14_14-15_15', '0_1-2_3', '4_5-6_7', '8_9-10_11', '12_13-14_15', '0_3-4_7', '8_11-12_15', '0_7-8_15']\n",
      "root-oscar-264285c4-098b-433f-90ae-e6c91eb68716-benchmark\n",
      "<Response [201]>\n",
      "<Response [201]>\n",
      "Target Name: 0_15\n",
      "Waiting for final result 0_15.\n",
      "264285c4-098b-433f-90ae-e6c91eb68716_process.csv\n",
      "264285c4-098b-433f-90ae-e6c91eb68716_usage.csv\n",
      "CPU bound benchmark finished in 158.09 seconds.\n",
      "\n"
     ]
    }
   ],
   "source": [
    "print(str(count_uuid))"
   ]
  },
  {
   "cell_type": "code",
   "execution_count": 22,
   "id": "e043669d",
   "metadata": {},
   "outputs": [
    {
     "name": "stdout",
     "output_type": "stream",
     "text": [
      "['48b30b4f-224b-4fde-b439-fa074b9d2f3c_process.csv', '48b30b4f-224b-4fde-b439-fa074b9d2f3c_usage.csv']\n"
     ]
    }
   ],
   "source": [
    "# Get file names \n",
    "file_names = []\n",
    "for line in str(file_names1).splitlines():\n",
    "    if type(line) is str:\n",
    "        if line.endswith('.csv'):\n",
    "            file_names += [line]\n",
    "            \n",
    "# Change names. \n",
    "\n"
   ]
  },
  {
   "cell_type": "code",
   "execution_count": 27,
   "id": "535448ab",
   "metadata": {},
   "outputs": [],
   "source": [
    "%%capture test\n",
    "for node_count in [1,2,3]:\n",
    "    print(node_count)"
   ]
  },
  {
   "cell_type": "code",
   "execution_count": 28,
   "id": "96fa9796",
   "metadata": {},
   "outputs": [
    {
     "name": "stdout",
     "output_type": "stream",
     "text": [
      "1\n",
      "2\n",
      "3\n",
      "\n"
     ]
    }
   ],
   "source": [
    "print(str(test))"
   ]
  },
  {
   "cell_type": "markdown",
   "id": "d4c9bc89",
   "metadata": {},
   "source": [
    "# Plotting"
   ]
  },
  {
   "cell_type": "code",
   "execution_count": null,
   "id": "f4604355",
   "metadata": {},
   "outputs": [],
   "source": [
    "df = pd.read_csv('MinioData/96_usage.csv' , delimiter='|')\n",
    "\n",
    "mappers = df[df['function'] == 'mapper']\n",
    "\n",
    "cpu_figs = make_subplots(rows=2, cols=2, \n",
    "                         subplot_titles = ['Mapper 0','Mapper 1','Mapper 2','Mapper 3'],\n",
    "                         x_title='Time (s)', y_title='CPU Usage (%)')\n",
    "        \n",
    "mem_figs = make_subplots(rows=2, cols=2, \n",
    "                         subplot_titles = ['Mapper 0','Mapper 1','Mapper 2','Mapper 3'],\n",
    "                         x_title='Time (s)', y_title='Memory Usage (%)')\n",
    "row = 1\n",
    "col = 1\n",
    "\n",
    "\n",
    "for id in ['0_0', '1_1', '2_2', '3_3']:\n",
    "    mapper_data = mappers[mappers['id'] == id]\n",
    "    \n",
    "    cpu_figs.add_trace(\n",
    "        go.Scatter(x=mapper_data['time'],\n",
    "                   y=mapper_data['cpu_percent'],\n",
    "                   showlegend=False),\n",
    "        row=row, col=col\n",
    "    )\n",
    "    \n",
    "    mem_figs.add_trace(\n",
    "        go.Scatter(x=mapper_data['time'],\n",
    "                   y=mapper_data['mem_percent'],\n",
    "                   showlegend=False),\n",
    "        row=row, col=col\n",
    "    )\n",
    "    \n",
    "    col += 1\n",
    "    if col > 2:\n",
    "        col = 1\n",
    "        row +=1\n",
    "cpu_figs.show()\n",
    "mem_figs.show()"
   ]
  },
  {
   "cell_type": "code",
   "execution_count": null,
   "id": "654d8ebe",
   "metadata": {},
   "outputs": [],
   "source": [
    "df = pd.read_csv('48b30b4f-224b-4fde-b439-fa074b9d2f3c_process.csv' , delimiter='|')\n",
    "\n",
    "mapper = df[df['function'] == 'mapper']\n",
    "mem_cols = ['function', 'id', 'phase'] +  [col for col in mapper if col.startswith('mem_')]\n",
    "mapper_mem = mapper[mem_cols]\n",
    "mapper_mem"
   ]
  },
  {
   "cell_type": "code",
   "execution_count": null,
   "id": "0aedc286",
   "metadata": {},
   "outputs": [],
   "source": [
    "df2 = df = pd.read_csv('11768b06-1565-47cf-9b31-e8eff20b9d03_usage.csv' , delimiter='|')\n",
    "usage = df2[df2['function'] == 'mapper']\n",
    "usage"
   ]
  },
  {
   "cell_type": "code",
   "execution_count": 27,
   "id": "ebfe59e8",
   "metadata": {},
   "outputs": [],
   "source": [
    "%%capture dsa\n",
    "print('asd')\n",
    "print('dsa')"
   ]
  },
  {
   "cell_type": "code",
   "execution_count": 28,
   "id": "eb863348",
   "metadata": {},
   "outputs": [
    {
     "data": {
      "text/plain": [
       "['asd', 'dsa']"
      ]
     },
     "execution_count": 28,
     "metadata": {},
     "output_type": "execute_result"
    }
   ],
   "source": [
    "str(dsa).splitlines()"
   ]
  },
  {
   "cell_type": "code",
   "execution_count": null,
   "id": "08de791b",
   "metadata": {},
   "outputs": [],
   "source": []
  }
 ],
 "metadata": {
  "kernelspec": {
   "display_name": "Python 3 (ipykernel)",
   "language": "python",
   "name": "python3"
  },
  "language_info": {
   "codemirror_mode": {
    "name": "ipython",
    "version": 3
   },
   "file_extension": ".py",
   "mimetype": "text/x-python",
   "name": "python",
   "nbconvert_exporter": "python",
   "pygments_lexer": "ipython3",
   "version": "3.10.4"
  }
 },
 "nbformat": 4,
 "nbformat_minor": 5
}
