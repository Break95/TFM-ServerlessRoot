{
 "cells": [
  {
   "cell_type": "markdown",
   "id": "b0c2da2a",
   "metadata": {},
   "source": [
    "## Benchmarking"
   ]
  },
  {
   "cell_type": "code",
   "execution_count": 1,
   "id": "ccbd28e5",
   "metadata": {},
   "outputs": [
    {
     "name": "stdout",
     "output_type": "stream",
     "text": [
      "Welcome to JupyROOT 6.27/01\n"
     ]
    }
   ],
   "source": [
    "import ROOT\n",
    "import os\n",
    "RDataFrame = ROOT.RDF.Experimental.Distributed.OSCAR.RDataFrame\n",
    "\n",
    "oscarclient = {\n",
    "    \"minio_endpoint\": os.environ['minio_endpoint'],\n",
    "    \"minio_access\":   os.environ['minio_access'],\n",
    "    \"minio_secret\":   os.environ['minio_secret'],\n",
    "    \"oscar_endpoint\": os.environ['oscar_endpoint'],\n",
    "    \"oscar_access\":   os.environ['oscar_access'],\n",
    "    \"oscar_secret\":   os.environ['oscar_secret']\n",
    "}\n",
    "\n",
    "cern_data = \"root://eospublic.cern.ch//eos/opendata/cms/derived-data/AOD2NanoAODOutreachTool/Run2012BC_DoubleMuParked_Muons.root\""
   ]
  },
  {
   "cell_type": "code",
   "execution_count": 2,
   "id": "f8037ee8",
   "metadata": {
    "scrolled": false
   },
   "outputs": [
    {
     "name": "stdout",
     "output_type": "stream",
     "text": [
      "Bucket name: default-88677a63-f997-4bfa-b408-9395a8566b84\n",
      "Bucket does not exist. Trying to create it.\n",
      "Creating bucket...\n",
      "Bucket created!\n",
      "Creating services...\n",
      "Creating mapper service for bucket default-88677a63-f997-4bfa-b408-9395a8566b84\n",
      "Trigger path: default-88677a63-f997-4bfa-b408-9395a8566b84/mapper-jobs\n",
      "Write prefixes: ['partial-results']\n",
      "Creating reducer service for bucket default-88677a63-f997-4bfa-b408-9395a8566b84\n",
      "Trigger path: default-88677a63-f997-4bfa-b408-9395a8566b84/partial-results\n",
      "Write prefixes: ['partial-results']\n",
      "Done creating services!\n",
      "Done setting up OSCAR backend!\n",
      "<Response [201]>\n",
      "<Response [201]>\n",
      "Starting timer\n",
      "Target Name: 0_15\n",
      "File 8_8 written to partial-results folder.\n",
      "File 12_12 written to partial-results folder.\n",
      "File 6_6 written to partial-results folder.\n",
      "File 9_9 written to partial-results folder.\n",
      "File 14_14 written to partial-results folder.\n",
      "File 10_10 written to partial-results folder.\n",
      "File 3_3 written to partial-results folder.\n",
      "File 4_4 written to partial-results folder.\n",
      "File 8_9 written to partial-results folder.\n",
      "File 15_15 written to partial-results folder.\n",
      "File 5_5 written to partial-results folder.\n",
      "File 7_7 written to partial-results folder.\n",
      "File 13_13 written to partial-results folder.\n",
      "File 4_5 written to partial-results folder.\n",
      "File 1_1 written to partial-results folder.\n",
      "File 2_2 written to partial-results folder.\n",
      "File 14_15 written to partial-results folder.\n",
      "File 6_7 written to partial-results folder.\n",
      "File 4_5 written to partial-results folder.\n",
      "File 0_0 written to partial-results folder.\n",
      "File 11_11 written to partial-results folder.\n",
      "File 4_7 written to partial-results folder.\n",
      "File 12_13 written to partial-results folder.\n",
      "File 0_1 written to partial-results folder.\n",
      "File 2_3 written to partial-results folder.\n",
      "File 4_7 written to partial-results folder.\n",
      "File 12_15 written to partial-results folder.\n",
      "File 4_7 written to partial-results folder.\n",
      "File 0_1 written to partial-results folder.\n",
      "File 10_11 written to partial-results folder.\n",
      "File 0_3 written to partial-results folder.\n",
      "File 12_15 written to partial-results folder.\n",
      "File 0_7 written to partial-results folder.\n",
      "File 0_3 written to partial-results folder.\n",
      "File 0_3 written to partial-results folder.\n",
      "File 0_7 written to partial-results folder.\n",
      "File 8_11 written to partial-results folder.\n",
      "File 0_7 written to partial-results folder.\n",
      "File 8_15 written to partial-results folder.\n",
      "File 0_7 written to partial-results folder.\n",
      "File 0_15 written to partial-results folder.\n",
      "Time to plot: 64.47\n",
      "Deleting objects.\n",
      "Couldn't delete bucket.\n",
      "S3 operation failed; code: BucketNotEmpty, message: The bucket you tried to delete is not empty, resource: /default-88677a63-f997-4bfa-b408-9395a8566b84, request_id: 170659AAFB533A17, host_id: 99196506-ad86-42cc-a52f-19cf12a7994b, bucket_name: default-88677a63-f997-4bfa-b408-9395a8566b84\n",
      "Deleting services\n",
      "m-88677a63-f997-4bfa-b408-9395a8566b84\n",
      "<Response [204]>\n",
      "r-88677a63-f997-4bfa-b408-9395a8566b84\n",
      "<Response [204]>\n"
     ]
    },
    {
     "name": "stderr",
     "output_type": "stream",
     "text": [
      "Info in <TCanvas::Print>: pdf file dimuon_spectrum.pdf has been created\n"
     ]
    }
   ],
   "source": [
    "# Define funcion.\n",
    "def dimuon_analysis(df):\n",
    "    # For simplicity, select only events with exactly two muons and require opposite charge\n",
    "    df_2mu = df.Filter(\"nMuon == 2\", \"Events with exactly two muons\")\n",
    "    df_os = df_2mu.Filter(\"Muon_charge[0] != Muon_charge[1]\", \"Muons with opposite charge\")\n",
    "    \n",
    "    # Compute invariant mass of the dimuon system\n",
    "    df_mass = df_os.Define(\"Dimuon_mass\", \"InvariantMass(Muon_pt, Muon_eta, Muon_phi, Muon_mass)\")\n",
    "    \n",
    "    # Make histogram of dimuon mass spectrum. Note how we can set titles and axis labels in one go.\n",
    "    h = df_mass.Histo1D((\"Dimuon_mass\", \"Dimuon mass;m_{#mu#mu} (GeV);N_{Events}\", 30000, 0.25, 300), \"Dimuon_mass\")\n",
    "    \n",
    "    # Produce plot\n",
    "    ROOT.gStyle.SetOptStat(0); ROOT.gStyle.SetTextFont(42)\n",
    "    c = ROOT.TCanvas(\"c\", \"\", 800, 700)\n",
    "    c.SetLogx(); c.SetLogy()\n",
    "    \n",
    "    h.SetTitle(\"\")\n",
    "    h.GetXaxis().SetTitleSize(0.04)\n",
    "    h.GetYaxis().SetTitleSize(0.04)\n",
    "    h.Draw()\n",
    "    \n",
    "    label = ROOT.TLatex(); label.SetNDC(True)\n",
    "    label.DrawLatex(0.175, 0.740, \"#eta\")\n",
    "    label.DrawLatex(0.205, 0.775, \"#rho,#omega\")\n",
    "    label.DrawLatex(0.270, 0.740, \"#phi\")\n",
    "    label.DrawLatex(0.400, 0.800, \"J/#psi\")\n",
    "    label.DrawLatex(0.415, 0.670, \"#psi'\")\n",
    "    label.DrawLatex(0.485, 0.700, \"Y(1,2,3S)\")\n",
    "    label.DrawLatex(0.755, 0.680, \"Z\")\n",
    "    label.SetTextSize(0.040); label.DrawLatex(0.100, 0.920, \"#bf{CMS Open Data}\")\n",
    "    label.SetTextSize(0.030); label.DrawLatex(0.630, 0.920, \"#sqrt{s} = 8 TeV, L_{int} = 11.6 fb^{-1}\")\n",
    "    \n",
    "    c.SaveAs(f\"dimuon_spectrum.pdf\")\n",
    "\n",
    "\n",
    "# Create RDataFrame\n",
    "df = RDataFrame(\"Events\", cern_data, \n",
    "                oscarclient = oscarclient,\n",
    "                npartitions = 16)\n",
    "\n",
    "# Execute defined analysis\n",
    "dimuon_analysis(df)"
   ]
  }
 ],
 "metadata": {
  "kernelspec": {
   "display_name": "Python 3 (ipykernel)",
   "language": "python",
   "name": "python3"
  },
  "language_info": {
   "codemirror_mode": {
    "name": "ipython",
    "version": 3
   },
   "file_extension": ".py",
   "mimetype": "text/x-python",
   "name": "python",
   "nbconvert_exporter": "python",
   "pygments_lexer": "ipython3",
   "version": "3.10.4"
  }
 },
 "nbformat": 4,
 "nbformat_minor": 5
}
