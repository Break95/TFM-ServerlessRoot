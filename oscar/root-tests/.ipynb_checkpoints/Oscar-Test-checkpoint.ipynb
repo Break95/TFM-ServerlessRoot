{
 "cells": [
  {
   "cell_type": "markdown",
   "id": "632d1313",
   "metadata": {},
   "source": [
    "### Basic Example"
   ]
  },
  {
   "cell_type": "code",
   "execution_count": 1,
   "id": "6b015077",
   "metadata": {},
   "outputs": [],
   "source": [
    "# import marshal\n",
    "import requests # Send post to trigger function in OSCAR.\n",
    "import json     # To generate the post payload.\n",
    "import inspect  # To get source code as string."
   ]
  },
  {
   "cell_type": "code",
   "execution_count": 2,
   "id": "fde49f58",
   "metadata": {},
   "outputs": [],
   "source": [
    "# Code to be executed.\n",
    "def func_payload():\n",
    "    import ROOT\n",
    "    import os       \n",
    "    from datetime import datetime\n",
    "\n",
    "    df = ROOT.RDataFrame(1000)\n",
    " \n",
    "    # Set the random seed and define two columns of the dataset with random numbers.\n",
    "    ROOT.gRandom.SetSeed(1)\n",
    "    df_1 = df.Define(\"gaus\", \"gRandom->Gaus(10, 1)\").Define(\"exponential\", \"gRandom->Exp(10)\")\n",
    " \n",
    "    # Book an histogram for each column\n",
    "    h_gaus = df_1.Histo1D((\"gaus\", \"Normal distribution\", 50, 0, 30), \"gaus\")\n",
    "    h_exp = df_1.Histo1D((\"exponential\", \"Exponential distribution\", 50, 0, 30), \"exponential\")\n",
    " \n",
    "    # Plot the histograms side by side on a canvas\n",
    "    c = ROOT.TCanvas(\"TestCanvasOscasr\", \"TestCanvasOscasr\", 800, 400)\n",
    "    c.Divide(2, 1)\n",
    "    c.cd(1)\n",
    "    h_gaus.DrawCopy()\n",
    "    c.cd(2)\n",
    "    h_exp.DrawCopy()\n",
    " \n",
    "    # Save the canvas\n",
    "    #print(os.getenv('TMP_OUTPUT_DIR'))\n",
    "    c.SaveAs(str(os.getenv('TMP_OUTPUT_DIR')) + \"/payloadtest__\" + str(datetime.now().time())  + \"__.png\")"
   ]
  },
  {
   "cell_type": "code",
   "execution_count": 3,
   "id": "41ff035e",
   "metadata": {},
   "outputs": [
    {
     "name": "stdout",
     "output_type": "stream",
     "text": [
      "def func_payload():\n",
      "    import ROOT\n",
      "    import os       \n",
      "    from datetime import datetime\n",
      "\n",
      "    df = ROOT.RDataFrame(1000)\n",
      " \n",
      "    # Set the random seed and define two columns of the dataset with random numbers.\n",
      "    ROOT.gRandom.SetSeed(1)\n",
      "    df_1 = df.Define(\"gaus\", \"gRandom->Gaus(10, 1)\").Define(\"exponential\", \"gRandom->Exp(10)\")\n",
      " \n",
      "    # Book an histogram for each column\n",
      "    h_gaus = df_1.Histo1D((\"gaus\", \"Normal distribution\", 50, 0, 30), \"gaus\")\n",
      "    h_exp = df_1.Histo1D((\"exponential\", \"Exponential distribution\", 50, 0, 30), \"exponential\")\n",
      " \n",
      "    # Plot the histograms side by side on a canvas\n",
      "    c = ROOT.TCanvas(\"TestCanvasOscasr\", \"TestCanvasOscasr\", 800, 400)\n",
      "    c.Divide(2, 1)\n",
      "    c.cd(1)\n",
      "    h_gaus.DrawCopy()\n",
      "    c.cd(2)\n",
      "    h_exp.DrawCopy()\n",
      " \n",
      "    # Save the canvas\n",
      "    #print(os.getenv('TMP_OUTPUT_DIR'))\n",
      "    c.SaveAs(str(os.getenv('TMP_OUTPUT_DIR')) + \"/payloadtest__\" + str(datetime.now().time())  + \"__.png\")\n",
      "\n"
     ]
    }
   ],
   "source": [
    "#json_payload = json.dumps({\n",
    "#    'func_payload': marshal.dumps(func_payload.__code__)\n",
    "#})\n",
    "\n",
    "text_function = inspect.getsource(func_payload)\n",
    "                                 \n",
    "print(text_function)\n",
    "\n",
    "# Generate function from text\n",
    "#exec(text_function) \n",
    "#func_payload() # It works."
   ]
  },
  {
   "cell_type": "code",
   "execution_count": 4,
   "id": "7942251a",
   "metadata": {},
   "outputs": [
    {
     "name": "stderr",
     "output_type": "stream",
     "text": [
      "/usr/lib/python3/dist-packages/urllib3/connectionpool.py:1015: InsecureRequestWarning: Unverified HTTPS request is being made to host 'localhost'. Adding certificate verification is strongly advised. See: https://urllib3.readthedocs.io/en/latest/advanced-usage.html#ssl-warnings\n",
      "  warnings.warn(\n",
      "/usr/lib/python3/dist-packages/urllib3/connectionpool.py:1015: InsecureRequestWarning: Unverified HTTPS request is being made to host 'localhost'. Adding certificate verification is strongly advised. See: https://urllib3.readthedocs.io/en/latest/advanced-usage.html#ssl-warnings\n",
      "  warnings.warn(\n"
     ]
    },
    {
     "name": "stdout",
     "output_type": "stream",
     "text": [
      "Server Status: Ok\n"
     ]
    },
    {
     "ename": "JSONDecodeError",
     "evalue": "Expecting value: line 1 column 1 (char 0)",
     "output_type": "error",
     "traceback": [
      "\u001b[0;31m---------------------------------------------------------------------------\u001b[0m",
      "\u001b[0;31mJSONDecodeError\u001b[0m                           Traceback (most recent call last)",
      "Input \u001b[0;32mIn [4]\u001b[0m, in \u001b[0;36m<cell line: 19>\u001b[0;34m()\u001b[0m\n\u001b[1;32m     14\u001b[0m \u001b[38;5;66;03m# Get servie token from request. Requires password :/\u001b[39;00m\n\u001b[1;32m     15\u001b[0m token_response \u001b[38;5;241m=\u001b[39m requests\u001b[38;5;241m.\u001b[39mget(\u001b[38;5;124m'\u001b[39m\u001b[38;5;124mhttps://localhost/system/services/root-map\u001b[39m\u001b[38;5;124m'\u001b[39m, \n\u001b[1;32m     16\u001b[0m                                headers\u001b[38;5;241m=\u001b[39m{\u001b[38;5;124m'\u001b[39m\u001b[38;5;124mAccept\u001b[39m\u001b[38;5;124m'\u001b[39m:\u001b[38;5;124m'\u001b[39m\u001b[38;5;124mapplication/json\u001b[39m\u001b[38;5;124m'\u001b[39m}, \n\u001b[1;32m     17\u001b[0m                                auth\u001b[38;5;241m=\u001b[39mHTTPBasicAuth(\u001b[38;5;124m'\u001b[39m\u001b[38;5;124moscar\u001b[39m\u001b[38;5;124m'\u001b[39m, \u001b[38;5;124m'\u001b[39m\u001b[38;5;124moscarPassword\u001b[39m\u001b[38;5;124m'\u001b[39m),\n\u001b[1;32m     18\u001b[0m                                verify\u001b[38;5;241m=\u001b[39m\u001b[38;5;28;01mFalse\u001b[39;00m)\n\u001b[0;32m---> 19\u001b[0m service_token \u001b[38;5;241m=\u001b[39m \u001b[43mjson\u001b[49m\u001b[38;5;241;43m.\u001b[39;49m\u001b[43mloads\u001b[49m\u001b[43m(\u001b[49m\u001b[43mtoken_response\u001b[49m\u001b[38;5;241;43m.\u001b[39;49m\u001b[43mtext\u001b[49m\u001b[43m)\u001b[49m[\u001b[38;5;124m'\u001b[39m\u001b[38;5;124mtoken\u001b[39m\u001b[38;5;124m'\u001b[39m]\n\u001b[1;32m     20\u001b[0m \u001b[38;5;28mprint\u001b[39m(service_token)\n\u001b[1;32m     23\u001b[0m \u001b[38;5;66;03m# Set endpoint\u001b[39;00m\n",
      "File \u001b[0;32m/usr/lib/python3.10/json/__init__.py:346\u001b[0m, in \u001b[0;36mloads\u001b[0;34m(s, cls, object_hook, parse_float, parse_int, parse_constant, object_pairs_hook, **kw)\u001b[0m\n\u001b[1;32m    341\u001b[0m     s \u001b[38;5;241m=\u001b[39m s\u001b[38;5;241m.\u001b[39mdecode(detect_encoding(s), \u001b[38;5;124m'\u001b[39m\u001b[38;5;124msurrogatepass\u001b[39m\u001b[38;5;124m'\u001b[39m)\n\u001b[1;32m    343\u001b[0m \u001b[38;5;28;01mif\u001b[39;00m (\u001b[38;5;28mcls\u001b[39m \u001b[38;5;129;01mis\u001b[39;00m \u001b[38;5;28;01mNone\u001b[39;00m \u001b[38;5;129;01mand\u001b[39;00m object_hook \u001b[38;5;129;01mis\u001b[39;00m \u001b[38;5;28;01mNone\u001b[39;00m \u001b[38;5;129;01mand\u001b[39;00m\n\u001b[1;32m    344\u001b[0m         parse_int \u001b[38;5;129;01mis\u001b[39;00m \u001b[38;5;28;01mNone\u001b[39;00m \u001b[38;5;129;01mand\u001b[39;00m parse_float \u001b[38;5;129;01mis\u001b[39;00m \u001b[38;5;28;01mNone\u001b[39;00m \u001b[38;5;129;01mand\u001b[39;00m\n\u001b[1;32m    345\u001b[0m         parse_constant \u001b[38;5;129;01mis\u001b[39;00m \u001b[38;5;28;01mNone\u001b[39;00m \u001b[38;5;129;01mand\u001b[39;00m object_pairs_hook \u001b[38;5;129;01mis\u001b[39;00m \u001b[38;5;28;01mNone\u001b[39;00m \u001b[38;5;129;01mand\u001b[39;00m \u001b[38;5;129;01mnot\u001b[39;00m kw):\n\u001b[0;32m--> 346\u001b[0m     \u001b[38;5;28;01mreturn\u001b[39;00m \u001b[43m_default_decoder\u001b[49m\u001b[38;5;241;43m.\u001b[39;49m\u001b[43mdecode\u001b[49m\u001b[43m(\u001b[49m\u001b[43ms\u001b[49m\u001b[43m)\u001b[49m\n\u001b[1;32m    347\u001b[0m \u001b[38;5;28;01mif\u001b[39;00m \u001b[38;5;28mcls\u001b[39m \u001b[38;5;129;01mis\u001b[39;00m \u001b[38;5;28;01mNone\u001b[39;00m:\n\u001b[1;32m    348\u001b[0m     \u001b[38;5;28mcls\u001b[39m \u001b[38;5;241m=\u001b[39m JSONDecoder\n",
      "File \u001b[0;32m/usr/lib/python3.10/json/decoder.py:337\u001b[0m, in \u001b[0;36mJSONDecoder.decode\u001b[0;34m(self, s, _w)\u001b[0m\n\u001b[1;32m    332\u001b[0m \u001b[38;5;28;01mdef\u001b[39;00m \u001b[38;5;21mdecode\u001b[39m(\u001b[38;5;28mself\u001b[39m, s, _w\u001b[38;5;241m=\u001b[39mWHITESPACE\u001b[38;5;241m.\u001b[39mmatch):\n\u001b[1;32m    333\u001b[0m     \u001b[38;5;124;03m\"\"\"Return the Python representation of ``s`` (a ``str`` instance\u001b[39;00m\n\u001b[1;32m    334\u001b[0m \u001b[38;5;124;03m    containing a JSON document).\u001b[39;00m\n\u001b[1;32m    335\u001b[0m \n\u001b[1;32m    336\u001b[0m \u001b[38;5;124;03m    \"\"\"\u001b[39;00m\n\u001b[0;32m--> 337\u001b[0m     obj, end \u001b[38;5;241m=\u001b[39m \u001b[38;5;28;43mself\u001b[39;49m\u001b[38;5;241;43m.\u001b[39;49m\u001b[43mraw_decode\u001b[49m\u001b[43m(\u001b[49m\u001b[43ms\u001b[49m\u001b[43m,\u001b[49m\u001b[43m \u001b[49m\u001b[43midx\u001b[49m\u001b[38;5;241;43m=\u001b[39;49m\u001b[43m_w\u001b[49m\u001b[43m(\u001b[49m\u001b[43ms\u001b[49m\u001b[43m,\u001b[49m\u001b[43m \u001b[49m\u001b[38;5;241;43m0\u001b[39;49m\u001b[43m)\u001b[49m\u001b[38;5;241;43m.\u001b[39;49m\u001b[43mend\u001b[49m\u001b[43m(\u001b[49m\u001b[43m)\u001b[49m\u001b[43m)\u001b[49m\n\u001b[1;32m    338\u001b[0m     end \u001b[38;5;241m=\u001b[39m _w(s, end)\u001b[38;5;241m.\u001b[39mend()\n\u001b[1;32m    339\u001b[0m     \u001b[38;5;28;01mif\u001b[39;00m end \u001b[38;5;241m!=\u001b[39m \u001b[38;5;28mlen\u001b[39m(s):\n",
      "File \u001b[0;32m/usr/lib/python3.10/json/decoder.py:355\u001b[0m, in \u001b[0;36mJSONDecoder.raw_decode\u001b[0;34m(self, s, idx)\u001b[0m\n\u001b[1;32m    353\u001b[0m     obj, end \u001b[38;5;241m=\u001b[39m \u001b[38;5;28mself\u001b[39m\u001b[38;5;241m.\u001b[39mscan_once(s, idx)\n\u001b[1;32m    354\u001b[0m \u001b[38;5;28;01mexcept\u001b[39;00m \u001b[38;5;167;01mStopIteration\u001b[39;00m \u001b[38;5;28;01mas\u001b[39;00m err:\n\u001b[0;32m--> 355\u001b[0m     \u001b[38;5;28;01mraise\u001b[39;00m JSONDecodeError(\u001b[38;5;124m\"\u001b[39m\u001b[38;5;124mExpecting value\u001b[39m\u001b[38;5;124m\"\u001b[39m, s, err\u001b[38;5;241m.\u001b[39mvalue) \u001b[38;5;28;01mfrom\u001b[39;00m \u001b[38;5;28mNone\u001b[39m\n\u001b[1;32m    356\u001b[0m \u001b[38;5;28;01mreturn\u001b[39;00m obj, end\n",
      "\u001b[0;31mJSONDecodeError\u001b[0m: Expecting value: line 1 column 1 (char 0)"
     ]
    }
   ],
   "source": [
    "# Create payload and send to oscar through a POST request\n",
    "import base64\n",
    "from requests.auth import HTTPBasicAuth\n",
    "dict_payload = {\"func\": str(base64.b64encode(bytes(text_function, 'utf-8'))) }\n",
    "\n",
    "\n",
    "# Get endpoint status\n",
    "status_response = requests.get('https://localhost/health', \n",
    "                               headers={'Accept':'application/json'}, \n",
    "                               verify=False)\n",
    "print('Server Status: ' + status_response.text)\n",
    "\n",
    "\n",
    "# Get servie token from request. Requires password :/\n",
    "token_response = requests.get('https://localhost/system/services/root-map', \n",
    "                               headers={'Accept':'application/json'}, \n",
    "                               auth=HTTPBasicAuth('oscar', 'oscarPassword'),\n",
    "                               verify=False)\n",
    "service_token = json.loads(token_response.text)['token']\n",
    "print(service_token)\n",
    "\n",
    "\n",
    "# Set endpoint\n",
    "cluster_endpoint = 'https://localhost/job/root-map' # /job/ is asynchronous.\n",
    "headers = {\n",
    "    \"Accept\": \"application/json\",\n",
    "    \"Authorization\": \"Bearer \" + service_token\n",
    "}\n",
    "\n",
    "\n",
    "# Run job.\n",
    "requests.post(cluster_endpoint, \n",
    "              headers=headers, \n",
    "              json=json.dumps(dict_payload), \n",
    "              verify=False)"
   ]
  },
  {
   "cell_type": "markdown",
   "id": "6774e78b",
   "metadata": {},
   "source": [
    "### Get compute graph of data to process"
   ]
  },
  {
   "cell_type": "code",
   "execution_count": 5,
   "id": "8e91aa68",
   "metadata": {},
   "outputs": [
    {
     "name": "stdout",
     "output_type": "stream",
     "text": [
      "Welcome to JupyROOT 6.26/02\n"
     ]
    },
    {
     "data": {
      "text/plain": [
       "<cppyy.gbl.TH1D object at 0x4dd2c90>"
      ]
     },
     "execution_count": 5,
     "metadata": {},
     "output_type": "execute_result"
    }
   ],
   "source": [
    "import ROOT\n",
    "import os       \n",
    "from datetime import datetime\n",
    "df = ROOT.RDataFrame(1000)\n",
    "\n",
    "# Set the random seed and define two columns of the dataset with random numbers.\n",
    "ROOT.gRandom.SetSeed(1)\n",
    "df_1 = df.Define(\"gaus\", \"gRandom->Gaus(10, 1)\").Define(\"exponential\", \"gRandom->Exp(10)\")\n",
    "\n",
    "# Book an histogram for each column\n",
    "h_gaus = df_1.Histo1D((\"gaus\", \"Normal distribution\", 50, 0, 30), \"gaus\")\n",
    "h_exp = df_1.Histo1D((\"exponential\", \"Exponential distribution\", 50, 0, 30), \"exponential\")\n",
    "\n",
    "# Plot the histograms side by side on a canvas\n",
    "c = ROOT.TCanvas(\"TestCanvasOscasr\", \"TestCanvasOscasr\", 800, 400)\n",
    "c.Divide(2, 1)\n",
    "c.cd(1)\n",
    "h_gaus.DrawCopy()\n",
    "c.cd(2)\n",
    "h_exp.DrawCopy()"
   ]
  },
  {
   "cell_type": "code",
   "execution_count": 7,
   "id": "8da2f26d",
   "metadata": {},
   "outputs": [
    {
     "name": "stdout",
     "output_type": "stream",
     "text": [
      "digraph {\n",
      "\t2 [label=\"Fill\", style=\"filled\", fillcolor=\"#baf1e5\", shape=\"box\"];\n",
      "\t3 [label=\"Define\n",
      "exponential\", style=\"filled\", fillcolor=\"#60aef3\", shape=\"oval\"];\n",
      "\t4 [label=\"Define\n",
      "gaus\", style=\"filled\", fillcolor=\"#60aef3\", shape=\"oval\"];\n",
      "\t0 [label=\"1000\", style=\"filled\", fillcolor=\"#e8f8fc\", shape=\"oval\"];\n",
      "\t6 [label=\"Fill\", style=\"filled\", fillcolor=\"#baf1e5\", shape=\"box\"];\n",
      "\t3 -> 2;\n",
      "\t4 -> 3;\n",
      "\t0 -> 4;\n",
      "\t3 -> 6;\n",
      "}\n"
     ]
    }
   ],
   "source": [
    "print(ROOT.RDF.SaveGraph(df))"
   ]
  },
  {
   "cell_type": "code",
   "execution_count": 13,
   "id": "b26942cb",
   "metadata": {},
   "outputs": [
    {
     "name": "stdout",
     "output_type": "stream",
     "text": [
      "Slots: 1\n",
      "Runs: 1\n"
     ]
    }
   ],
   "source": [
    "print(\"Slots: \" + str(df.GetNSlots()))\n",
    "print(\"Runs: \" + str(df.GetNRuns()))"
   ]
  },
  {
   "cell_type": "markdown",
   "id": "0b3769f4",
   "metadata": {},
   "source": [
    "### ROOT Implementation"
   ]
  },
  {
   "cell_type": "code",
   "execution_count": 1,
   "id": "72dc50d3",
   "metadata": {},
   "outputs": [
    {
     "name": "stdout",
     "output_type": "stream",
     "text": [
      "Welcome to JupyROOT 6.26/02\n"
     ]
    }
   ],
   "source": [
    "import ROOT\n",
    "RDataFrame = ROOT.RDF.Experimental.Distributed.OSCAR.RDataFrame\n",
    "RunGraphs = ROOT.RDF.Experimental.Distributed.RunGraphs\n",
    "\n",
    "oscarclient = {\n",
    "    \"endpoint\": \"https://localhost/job/root-map\",\n",
    "    \"token\": service_token\n",
    "}\n",
    "\n",
    "df = RDataFrame(1000, \n",
    "                oscarclient=oscarclient)"
   ]
  },
  {
   "cell_type": "code",
   "execution_count": null,
   "id": "e71e9bd2",
   "metadata": {},
   "outputs": [],
   "source": [
    "# Set the random seed and define two columns of the dataset with random numbers.\n",
    "ROOT.gRandom.SetSeed(1)\n",
    "df_1 = df.Define(\"gaus\", \"gRandom->Gaus(10, 1)\").Define(\"exponential\", \"gRandom->Exp(10)\")\n",
    "\n",
    "# Book an histogram for each column\n",
    "h_gaus = df_1.Histo1D((\"gaus\", \"Normal distribution\", 50, 0, 30), \"gaus\")\n",
    "h_exp = df_1.Histo1D((\"exponential\", \"Exponential distribution\", 50, 0, 30), \"exponential\")\n",
    "\n",
    "# Plot the histograms side by side on a canvas\n",
    "c = ROOT.TCanvas(\"distrdf002\", \"distrdf002\", 800, 400)\n",
    "c.Divide(2, 1)\n",
    "c.cd(1)\n",
    "h_gaus.DrawCopy()\n",
    "c.cd(2)\n",
    "h_exp.DrawCopy()\n",
    "\n",
    "# Save the canvas\n",
    "c.SaveAs(\"distrdf002_OSCAR_connection.png\")\n",
    "print(\"Saved figure to distrdf002_OSCAR_connection.png\")"
   ]
  }
 ],
 "metadata": {
  "kernelspec": {
   "display_name": "Python 3 (ipykernel)",
   "language": "python",
   "name": "python3"
  },
  "language_info": {
   "codemirror_mode": {
    "name": "ipython",
    "version": 3
   },
   "file_extension": ".py",
   "mimetype": "text/x-python",
   "name": "python",
   "nbconvert_exporter": "python",
   "pygments_lexer": "ipython3",
   "version": "3.10.4"
  }
 },
 "nbformat": 4,
 "nbformat_minor": 5
}
